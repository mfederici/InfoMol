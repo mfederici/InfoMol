{
 "cells": [
  {
   "cell_type": "code",
   "execution_count": 2,
   "id": "initial_id",
   "metadata": {
    "collapsed": true,
    "ExecuteTime": {
     "end_time": "2024-03-04T11:18:07.771303075Z",
     "start_time": "2024-03-04T11:18:07.728351447Z"
    }
   },
   "outputs": [],
   "source": [
    "import numpy as np\n",
    "from torch_geometric.datasets import MoleculeNet\n",
    "\n",
    "dataset = MoleculeNet('/data', 'Lipo')"
   ]
  },
  {
   "cell_type": "code",
   "outputs": [],
   "source": [
    "targets = pcba.y"
   ],
   "metadata": {
    "collapsed": false,
    "ExecuteTime": {
     "end_time": "2024-02-29T15:17:16.166548218Z",
     "start_time": "2024-02-29T15:17:16.163356426Z"
    }
   },
   "id": "9d9a23183bd65511",
   "execution_count": 23
  },
  {
   "cell_type": "code",
   "outputs": [
    {
     "data": {
      "text/plain": "array([1372,  112])"
     },
     "execution_count": 28,
     "metadata": {},
     "output_type": "execute_result"
    }
   ],
   "source": [
    "np.bincount(targets[:,1])"
   ],
   "metadata": {
    "collapsed": false,
    "ExecuteTime": {
     "end_time": "2024-02-29T15:17:42.445460445Z",
     "start_time": "2024-02-29T15:17:42.424762319Z"
    }
   },
   "id": "db33011e9878a881",
   "execution_count": 28
  },
  {
   "cell_type": "code",
   "outputs": [
    {
     "data": {
      "text/plain": "tensor([[1., 0.],\n        [1., 0.],\n        [1., 0.],\n        ...,\n        [1., 0.],\n        [1., 0.],\n        [1., 0.]])"
     },
     "execution_count": 25,
     "metadata": {},
     "output_type": "execute_result"
    }
   ],
   "source": [
    "targets"
   ],
   "metadata": {
    "collapsed": false,
    "ExecuteTime": {
     "end_time": "2024-02-29T15:17:20.217582292Z",
     "start_time": "2024-02-29T15:17:20.210505139Z"
    }
   },
   "id": "1ce7e83e2db22f55",
   "execution_count": 25
  },
  {
   "cell_type": "code",
   "outputs": [
    {
     "name": "stderr",
     "output_type": "stream",
     "text": [
      "  4%|▍         | 16860/437929 [00:03<01:17, 5405.39it/s]Exception ignored in: <bound method IPythonKernel._clean_thread_parent_frames of <ipykernel.ipkernel.IPythonKernel object at 0x7f39e9565b20>>\n",
      "Traceback (most recent call last):\n",
      "  File \"/home/marco/anaconda3/envs/InfoMol/lib/python3.9/site-packages/ipykernel/ipkernel.py\", line 770, in _clean_thread_parent_frames\n",
      "    def _clean_thread_parent_frames(\n",
      "KeyboardInterrupt: \n",
      "  6%|▋         | 28464/437929 [00:05<01:17, 5311.34it/s]\n"
     ]
    },
    {
     "ename": "KeyboardInterrupt",
     "evalue": "",
     "output_type": "error",
     "traceback": [
      "\u001B[0;31m---------------------------------------------------------------------------\u001B[0m",
      "\u001B[0;31mKeyboardInterrupt\u001B[0m                         Traceback (most recent call last)",
      "Cell \u001B[0;32mIn[7], line 1\u001B[0m\n\u001B[0;32m----> 1\u001B[0m \u001B[43mpcba\u001B[49m\u001B[38;5;241;43m.\u001B[39;49m\u001B[43mprint_summary\u001B[49m\u001B[43m(\u001B[49m\u001B[43m)\u001B[49m\n",
      "File \u001B[0;32m~/anaconda3/envs/InfoMol/lib/python3.9/site-packages/torch_geometric/data/dataset.py:341\u001B[0m, in \u001B[0;36mDataset.print_summary\u001B[0;34m(self)\u001B[0m\n\u001B[1;32m    339\u001B[0m \u001B[38;5;28;01mdef\u001B[39;00m \u001B[38;5;21mprint_summary\u001B[39m(\u001B[38;5;28mself\u001B[39m):  \u001B[38;5;66;03m# pragma: no cover\u001B[39;00m\n\u001B[1;32m    340\u001B[0m \u001B[38;5;250m    \u001B[39m\u001B[38;5;124mr\u001B[39m\u001B[38;5;124;03m\"\"\"Prints summary statistics of the dataset to the console.\"\"\"\u001B[39;00m\n\u001B[0;32m--> 341\u001B[0m     \u001B[38;5;28mprint\u001B[39m(\u001B[38;5;28mstr\u001B[39m(\u001B[38;5;28;43mself\u001B[39;49m\u001B[38;5;241;43m.\u001B[39;49m\u001B[43mget_summary\u001B[49m\u001B[43m(\u001B[49m\u001B[43m)\u001B[49m))\n",
      "File \u001B[0;32m~/anaconda3/envs/InfoMol/lib/python3.9/site-packages/torch_geometric/data/dataset.py:337\u001B[0m, in \u001B[0;36mDataset.get_summary\u001B[0;34m(self)\u001B[0m\n\u001B[1;32m    335\u001B[0m \u001B[38;5;250m\u001B[39m\u001B[38;5;124mr\u001B[39m\u001B[38;5;124;03m\"\"\"Collects summary statistics for the dataset.\"\"\"\u001B[39;00m\n\u001B[1;32m    336\u001B[0m \u001B[38;5;28;01mfrom\u001B[39;00m \u001B[38;5;21;01mtorch_geometric\u001B[39;00m\u001B[38;5;21;01m.\u001B[39;00m\u001B[38;5;21;01mdata\u001B[39;00m\u001B[38;5;21;01m.\u001B[39;00m\u001B[38;5;21;01msummary\u001B[39;00m \u001B[38;5;28;01mimport\u001B[39;00m Summary\n\u001B[0;32m--> 337\u001B[0m \u001B[38;5;28;01mreturn\u001B[39;00m \u001B[43mSummary\u001B[49m\u001B[38;5;241;43m.\u001B[39;49m\u001B[43mfrom_dataset\u001B[49m\u001B[43m(\u001B[49m\u001B[38;5;28;43mself\u001B[39;49m\u001B[43m)\u001B[49m\n",
      "File \u001B[0;32m~/anaconda3/envs/InfoMol/lib/python3.9/site-packages/torch_geometric/data/summary.py:79\u001B[0m, in \u001B[0;36mSummary.from_dataset\u001B[0;34m(cls, dataset, progress_bar, per_type)\u001B[0m\n\u001B[1;32m     76\u001B[0m num_nodes_per_type \u001B[38;5;241m=\u001B[39m defaultdict(\u001B[38;5;28mlist\u001B[39m)\n\u001B[1;32m     77\u001B[0m num_edges_per_type \u001B[38;5;241m=\u001B[39m defaultdict(\u001B[38;5;28mlist\u001B[39m)\n\u001B[0;32m---> 79\u001B[0m \u001B[38;5;28;01mfor\u001B[39;00m data \u001B[38;5;129;01min\u001B[39;00m dataset:\n\u001B[1;32m     80\u001B[0m     num_nodes\u001B[38;5;241m.\u001B[39mappend(data\u001B[38;5;241m.\u001B[39mnum_nodes)\n\u001B[1;32m     81\u001B[0m     num_edges\u001B[38;5;241m.\u001B[39mappend(data\u001B[38;5;241m.\u001B[39mnum_edges)\n",
      "File \u001B[0;32m~/anaconda3/envs/InfoMol/lib/python3.9/site-packages/tqdm/std.py:1182\u001B[0m, in \u001B[0;36mtqdm.__iter__\u001B[0;34m(self)\u001B[0m\n\u001B[1;32m   1179\u001B[0m time \u001B[38;5;241m=\u001B[39m \u001B[38;5;28mself\u001B[39m\u001B[38;5;241m.\u001B[39m_time\n\u001B[1;32m   1181\u001B[0m \u001B[38;5;28;01mtry\u001B[39;00m:\n\u001B[0;32m-> 1182\u001B[0m     \u001B[38;5;28;01mfor\u001B[39;00m obj \u001B[38;5;129;01min\u001B[39;00m iterable:\n\u001B[1;32m   1183\u001B[0m         \u001B[38;5;28;01myield\u001B[39;00m obj\n\u001B[1;32m   1184\u001B[0m         \u001B[38;5;66;03m# Update and possibly print the progressbar.\u001B[39;00m\n\u001B[1;32m   1185\u001B[0m         \u001B[38;5;66;03m# Note: does not call self.update(1) for speed optimisation.\u001B[39;00m\n",
      "File \u001B[0;32m~/anaconda3/envs/InfoMol/lib/python3.9/site-packages/torch_geometric/data/dataset.py:263\u001B[0m, in \u001B[0;36mDataset.__getitem__\u001B[0;34m(self, idx)\u001B[0m\n\u001B[1;32m    253\u001B[0m \u001B[38;5;250m\u001B[39m\u001B[38;5;124mr\u001B[39m\u001B[38;5;124;03m\"\"\"In case :obj:`idx` is of type integer, will return the data object\u001B[39;00m\n\u001B[1;32m    254\u001B[0m \u001B[38;5;124;03mat index :obj:`idx` (and transforms it in case :obj:`transform` is\u001B[39;00m\n\u001B[1;32m    255\u001B[0m \u001B[38;5;124;03mpresent).\u001B[39;00m\n\u001B[1;32m    256\u001B[0m \u001B[38;5;124;03mIn case :obj:`idx` is a slicing object, *e.g.*, :obj:`[2:5]`, a list, a\u001B[39;00m\n\u001B[1;32m    257\u001B[0m \u001B[38;5;124;03mtuple, or a :obj:`torch.Tensor` or :obj:`np.ndarray` of type long or\u001B[39;00m\n\u001B[1;32m    258\u001B[0m \u001B[38;5;124;03mbool, will return a subset of the dataset at the specified indices.\"\"\"\u001B[39;00m\n\u001B[1;32m    259\u001B[0m \u001B[38;5;28;01mif\u001B[39;00m (\u001B[38;5;28misinstance\u001B[39m(idx, (\u001B[38;5;28mint\u001B[39m, np\u001B[38;5;241m.\u001B[39minteger))\n\u001B[1;32m    260\u001B[0m         \u001B[38;5;129;01mor\u001B[39;00m (\u001B[38;5;28misinstance\u001B[39m(idx, Tensor) \u001B[38;5;129;01mand\u001B[39;00m idx\u001B[38;5;241m.\u001B[39mdim() \u001B[38;5;241m==\u001B[39m \u001B[38;5;241m0\u001B[39m)\n\u001B[1;32m    261\u001B[0m         \u001B[38;5;129;01mor\u001B[39;00m (\u001B[38;5;28misinstance\u001B[39m(idx, np\u001B[38;5;241m.\u001B[39mndarray) \u001B[38;5;129;01mand\u001B[39;00m np\u001B[38;5;241m.\u001B[39misscalar(idx))):\n\u001B[0;32m--> 263\u001B[0m     data \u001B[38;5;241m=\u001B[39m \u001B[38;5;28;43mself\u001B[39;49m\u001B[38;5;241;43m.\u001B[39;49m\u001B[43mget\u001B[49m\u001B[43m(\u001B[49m\u001B[38;5;28;43mself\u001B[39;49m\u001B[38;5;241;43m.\u001B[39;49m\u001B[43mindices\u001B[49m\u001B[43m(\u001B[49m\u001B[43m)\u001B[49m\u001B[43m[\u001B[49m\u001B[43midx\u001B[49m\u001B[43m]\u001B[49m\u001B[43m)\u001B[49m\n\u001B[1;32m    264\u001B[0m     data \u001B[38;5;241m=\u001B[39m data \u001B[38;5;28;01mif\u001B[39;00m \u001B[38;5;28mself\u001B[39m\u001B[38;5;241m.\u001B[39mtransform \u001B[38;5;129;01mis\u001B[39;00m \u001B[38;5;28;01mNone\u001B[39;00m \u001B[38;5;28;01melse\u001B[39;00m \u001B[38;5;28mself\u001B[39m\u001B[38;5;241m.\u001B[39mtransform(data)\n\u001B[1;32m    265\u001B[0m     \u001B[38;5;28;01mreturn\u001B[39;00m data\n",
      "File \u001B[0;32m~/anaconda3/envs/InfoMol/lib/python3.9/site-packages/torch_geometric/data/in_memory_dataset.py:104\u001B[0m, in \u001B[0;36mInMemoryDataset.get\u001B[0;34m(self, idx)\u001B[0m\n\u001B[1;32m    101\u001B[0m \u001B[38;5;28;01melif\u001B[39;00m \u001B[38;5;28mself\u001B[39m\u001B[38;5;241m.\u001B[39m_data_list[idx] \u001B[38;5;129;01mis\u001B[39;00m \u001B[38;5;129;01mnot\u001B[39;00m \u001B[38;5;28;01mNone\u001B[39;00m:\n\u001B[1;32m    102\u001B[0m     \u001B[38;5;28;01mreturn\u001B[39;00m copy\u001B[38;5;241m.\u001B[39mcopy(\u001B[38;5;28mself\u001B[39m\u001B[38;5;241m.\u001B[39m_data_list[idx])\n\u001B[0;32m--> 104\u001B[0m data \u001B[38;5;241m=\u001B[39m \u001B[43mseparate\u001B[49m\u001B[43m(\u001B[49m\n\u001B[1;32m    105\u001B[0m \u001B[43m    \u001B[49m\u001B[38;5;28;43mcls\u001B[39;49m\u001B[38;5;241;43m=\u001B[39;49m\u001B[38;5;28;43mself\u001B[39;49m\u001B[38;5;241;43m.\u001B[39;49m\u001B[43m_data\u001B[49m\u001B[38;5;241;43m.\u001B[39;49m\u001B[38;5;18;43m__class__\u001B[39;49m\u001B[43m,\u001B[49m\n\u001B[1;32m    106\u001B[0m \u001B[43m    \u001B[49m\u001B[43mbatch\u001B[49m\u001B[38;5;241;43m=\u001B[39;49m\u001B[38;5;28;43mself\u001B[39;49m\u001B[38;5;241;43m.\u001B[39;49m\u001B[43m_data\u001B[49m\u001B[43m,\u001B[49m\n\u001B[1;32m    107\u001B[0m \u001B[43m    \u001B[49m\u001B[43midx\u001B[49m\u001B[38;5;241;43m=\u001B[39;49m\u001B[43midx\u001B[49m\u001B[43m,\u001B[49m\n\u001B[1;32m    108\u001B[0m \u001B[43m    \u001B[49m\u001B[43mslice_dict\u001B[49m\u001B[38;5;241;43m=\u001B[39;49m\u001B[38;5;28;43mself\u001B[39;49m\u001B[38;5;241;43m.\u001B[39;49m\u001B[43mslices\u001B[49m\u001B[43m,\u001B[49m\n\u001B[1;32m    109\u001B[0m \u001B[43m    \u001B[49m\u001B[43mdecrement\u001B[49m\u001B[38;5;241;43m=\u001B[39;49m\u001B[38;5;28;43;01mFalse\u001B[39;49;00m\u001B[43m,\u001B[49m\n\u001B[1;32m    110\u001B[0m \u001B[43m\u001B[49m\u001B[43m)\u001B[49m\n\u001B[1;32m    112\u001B[0m \u001B[38;5;28mself\u001B[39m\u001B[38;5;241m.\u001B[39m_data_list[idx] \u001B[38;5;241m=\u001B[39m copy\u001B[38;5;241m.\u001B[39mcopy(data)\n\u001B[1;32m    114\u001B[0m \u001B[38;5;28;01mreturn\u001B[39;00m data\n",
      "File \u001B[0;32m~/anaconda3/envs/InfoMol/lib/python3.9/site-packages/torch_geometric/data/separate.py:38\u001B[0m, in \u001B[0;36mseparate\u001B[0;34m(cls, batch, idx, slice_dict, inc_dict, decrement)\u001B[0m\n\u001B[1;32m     36\u001B[0m         slices \u001B[38;5;241m=\u001B[39m slice_dict[attr]\n\u001B[1;32m     37\u001B[0m         incs \u001B[38;5;241m=\u001B[39m inc_dict[attr] \u001B[38;5;28;01mif\u001B[39;00m decrement \u001B[38;5;28;01melse\u001B[39;00m \u001B[38;5;28;01mNone\u001B[39;00m\n\u001B[0;32m---> 38\u001B[0m     data_store[attr] \u001B[38;5;241m=\u001B[39m \u001B[43m_separate\u001B[49m\u001B[43m(\u001B[49m\u001B[43mattr\u001B[49m\u001B[43m,\u001B[49m\u001B[43m \u001B[49m\u001B[43mbatch_store\u001B[49m\u001B[43m[\u001B[49m\u001B[43mattr\u001B[49m\u001B[43m]\u001B[49m\u001B[43m,\u001B[49m\u001B[43m \u001B[49m\u001B[43midx\u001B[49m\u001B[43m,\u001B[49m\u001B[43m \u001B[49m\u001B[43mslices\u001B[49m\u001B[43m,\u001B[49m\n\u001B[1;32m     39\u001B[0m \u001B[43m                                 \u001B[49m\u001B[43mincs\u001B[49m\u001B[43m,\u001B[49m\u001B[43m \u001B[49m\u001B[43mbatch\u001B[49m\u001B[43m,\u001B[49m\u001B[43m \u001B[49m\u001B[43mbatch_store\u001B[49m\u001B[43m,\u001B[49m\u001B[43m \u001B[49m\u001B[43mdecrement\u001B[49m\u001B[43m)\u001B[49m\n\u001B[1;32m     41\u001B[0m \u001B[38;5;66;03m# The `num_nodes` attribute needs special treatment, as we cannot infer\u001B[39;00m\n\u001B[1;32m     42\u001B[0m \u001B[38;5;66;03m# the real number of nodes from the total number of nodes alone:\u001B[39;00m\n\u001B[1;32m     43\u001B[0m \u001B[38;5;28;01mif\u001B[39;00m \u001B[38;5;28mhasattr\u001B[39m(batch_store, \u001B[38;5;124m'\u001B[39m\u001B[38;5;124m_num_nodes\u001B[39m\u001B[38;5;124m'\u001B[39m):\n",
      "File \u001B[0;32m~/anaconda3/envs/InfoMol/lib/python3.9/site-packages/torch_geometric/data/separate.py:66\u001B[0m, in \u001B[0;36m_separate\u001B[0;34m(key, value, idx, slices, incs, batch, store, decrement)\u001B[0m\n\u001B[1;32m     64\u001B[0m cat_dim \u001B[38;5;241m=\u001B[39m batch\u001B[38;5;241m.\u001B[39m__cat_dim__(key, value, store)\n\u001B[1;32m     65\u001B[0m start, end \u001B[38;5;241m=\u001B[39m \u001B[38;5;28mint\u001B[39m(slices[idx]), \u001B[38;5;28mint\u001B[39m(slices[idx \u001B[38;5;241m+\u001B[39m \u001B[38;5;241m1\u001B[39m])\n\u001B[0;32m---> 66\u001B[0m value \u001B[38;5;241m=\u001B[39m \u001B[43mnarrow\u001B[49m\u001B[43m(\u001B[49m\u001B[43mvalue\u001B[49m\u001B[43m,\u001B[49m\u001B[43m \u001B[49m\u001B[43mcat_dim\u001B[49m\u001B[43m \u001B[49m\u001B[38;5;129;43;01mor\u001B[39;49;00m\u001B[43m \u001B[49m\u001B[38;5;241;43m0\u001B[39;49m\u001B[43m,\u001B[49m\u001B[43m \u001B[49m\u001B[43mstart\u001B[49m\u001B[43m,\u001B[49m\u001B[43m \u001B[49m\u001B[43mend\u001B[49m\u001B[43m \u001B[49m\u001B[38;5;241;43m-\u001B[39;49m\u001B[43m \u001B[49m\u001B[43mstart\u001B[49m\u001B[43m)\u001B[49m\n\u001B[1;32m     67\u001B[0m value \u001B[38;5;241m=\u001B[39m value\u001B[38;5;241m.\u001B[39msqueeze(\u001B[38;5;241m0\u001B[39m) \u001B[38;5;28;01mif\u001B[39;00m cat_dim \u001B[38;5;129;01mis\u001B[39;00m \u001B[38;5;28;01mNone\u001B[39;00m \u001B[38;5;28;01melse\u001B[39;00m value\n\u001B[1;32m     68\u001B[0m \u001B[38;5;28;01mif\u001B[39;00m (decrement \u001B[38;5;129;01mand\u001B[39;00m incs \u001B[38;5;129;01mis\u001B[39;00m \u001B[38;5;129;01mnot\u001B[39;00m \u001B[38;5;28;01mNone\u001B[39;00m\n\u001B[1;32m     69\u001B[0m         \u001B[38;5;129;01mand\u001B[39;00m (incs\u001B[38;5;241m.\u001B[39mdim() \u001B[38;5;241m>\u001B[39m \u001B[38;5;241m1\u001B[39m \u001B[38;5;129;01mor\u001B[39;00m \u001B[38;5;28mint\u001B[39m(incs[idx]) \u001B[38;5;241m!=\u001B[39m \u001B[38;5;241m0\u001B[39m)):\n",
      "\u001B[0;31mKeyboardInterrupt\u001B[0m: "
     ]
    }
   ],
   "source": [
    "pcba.print_summary()"
   ],
   "metadata": {
    "collapsed": false,
    "ExecuteTime": {
     "end_time": "2024-02-29T15:06:37.151060927Z",
     "start_time": "2024-02-29T15:06:31.533247081Z"
    }
   },
   "id": "9fb577bbfe01ed86",
   "execution_count": 7
  },
  {
   "cell_type": "code",
   "outputs": [
    {
     "data": {
      "text/plain": "['__abstractmethods__',\n '__add__',\n '__class__',\n '__class_getitem__',\n '__delattr__',\n '__dict__',\n '__dir__',\n '__doc__',\n '__eq__',\n '__format__',\n '__ge__',\n '__getattr__',\n '__getattribute__',\n '__getitem__',\n '__gt__',\n '__hash__',\n '__init__',\n '__init_subclass__',\n '__le__',\n '__len__',\n '__lt__',\n '__module__',\n '__ne__',\n '__new__',\n '__orig_bases__',\n '__parameters__',\n '__reduce__',\n '__reduce_ex__',\n '__repr__',\n '__setattr__',\n '__sizeof__',\n '__slots__',\n '__str__',\n '__subclasshook__',\n '__weakref__',\n '_abc_impl',\n '_data',\n '_data_list',\n '_download',\n '_indices',\n '_infer_num_classes',\n '_is_protocol',\n '_process',\n 'collate',\n 'copy',\n 'data',\n 'download',\n 'get',\n 'get_summary',\n 'has_download',\n 'has_process',\n 'index_select',\n 'indices',\n 'len',\n 'load',\n 'log',\n 'name',\n 'names',\n 'num_classes',\n 'num_edge_features',\n 'num_features',\n 'num_node_features',\n 'pre_filter',\n 'pre_transform',\n 'print_summary',\n 'process',\n 'processed_dir',\n 'processed_file_names',\n 'processed_paths',\n 'raw_dir',\n 'raw_file_names',\n 'raw_paths',\n 'root',\n 'save',\n 'shuffle',\n 'slices',\n 'to_datapipe',\n 'to_on_disk_dataset',\n 'transform',\n 'url']"
     },
     "execution_count": 9,
     "metadata": {},
     "output_type": "execute_result"
    }
   ],
   "source": [
    "dir(pcba)"
   ],
   "metadata": {
    "collapsed": false,
    "ExecuteTime": {
     "end_time": "2024-02-29T15:06:53.194915853Z",
     "start_time": "2024-02-29T15:06:53.188633052Z"
    }
   },
   "id": "8c41eb4cecb07c36",
   "execution_count": 9
  },
  {
   "cell_type": "code",
   "outputs": [
    {
     "data": {
      "text/plain": "{'esol': ['ESOL', 'delaney-processed.csv', 'delaney-processed', -1, -2],\n 'freesolv': ['FreeSolv', 'SAMPL.csv', 'SAMPL', 1, 2],\n 'lipo': ['Lipophilicity', 'Lipophilicity.csv', 'Lipophilicity', 2, 1],\n 'pcba': ['PCBA', 'pcba.csv.gz', 'pcba', -1, slice(0, 128, None)],\n 'muv': ['MUV', 'muv.csv.gz', 'muv', -1, slice(0, 17, None)],\n 'hiv': ['HIV', 'HIV.csv', 'HIV', 0, -1],\n 'bace': ['BACE', 'bace.csv', 'bace', 0, 2],\n 'bbbp': ['BBBP', 'BBBP.csv', 'BBBP', -1, -2],\n 'tox21': ['Tox21', 'tox21.csv.gz', 'tox21', -1, slice(0, 12, None)],\n 'toxcast': ['ToxCast',\n  'toxcast_data.csv.gz',\n  'toxcast_data',\n  0,\n  slice(1, 618, None)],\n 'sider': ['SIDER', 'sider.csv.gz', 'sider', 0, slice(1, 28, None)],\n 'clintox': ['ClinTox', 'clintox.csv.gz', 'clintox', 0, slice(1, 3, None)]}"
     },
     "execution_count": 10,
     "metadata": {},
     "output_type": "execute_result"
    }
   ],
   "source": [
    "pcba.names"
   ],
   "metadata": {
    "collapsed": false,
    "ExecuteTime": {
     "end_time": "2024-02-29T15:07:09.353135032Z",
     "start_time": "2024-02-29T15:07:09.308699587Z"
    }
   },
   "id": "90d94300888ce85",
   "execution_count": 10
  },
  {
   "cell_type": "code",
   "outputs": [],
   "source": [],
   "metadata": {
    "collapsed": false
   },
   "id": "41299799c01950e7"
  }
 ],
 "metadata": {
  "kernelspec": {
   "display_name": "Python 3",
   "language": "python",
   "name": "python3"
  },
  "language_info": {
   "codemirror_mode": {
    "name": "ipython",
    "version": 2
   },
   "file_extension": ".py",
   "mimetype": "text/x-python",
   "name": "python",
   "nbconvert_exporter": "python",
   "pygments_lexer": "ipython2",
   "version": "2.7.6"
  }
 },
 "nbformat": 4,
 "nbformat_minor": 5
}
