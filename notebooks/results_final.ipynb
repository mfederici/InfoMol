{
 "cells": [
  {
   "cell_type": "code",
   "execution_count": 1,
   "id": "initial_id",
   "metadata": {
    "collapsed": true,
    "ExecuteTime": {
     "end_time": "2024-03-12T12:49:23.701346Z",
     "start_time": "2024-03-12T12:49:21.936152Z"
    }
   },
   "outputs": [
    {
     "name": "stderr",
     "output_type": "stream",
     "text": [
      "/home/marco/anaconda3/envs/InfoMol/lib/python3.9/site-packages/tqdm/auto.py:21: TqdmWarning: IProgress not found. Please update jupyter and ipywidgets. See https://ipywidgets.readthedocs.io/en/stable/user_install.html\n",
      "  from .autonotebook import tqdm as notebook_tqdm\n"
     ]
    }
   ],
   "source": [
    "import matplotlib.pyplot as plt\n",
    "import wandb\n",
    "import torch\n",
    "import seaborn as sns\n",
    "sns.set_style('whitegrid')\n",
    "import pandas as pd\n",
    "import numpy\n",
    "from tqdm.auto import tqdm\n"
   ]
  },
  {
   "cell_type": "code",
   "outputs": [],
   "source": [
    "names = {\n",
    "    'SubstructureFingerprintCount': 'SSC',\n",
    "    'PubchemFingerprinter': 'PubChem',\n",
    "    'MACCSFingerprinter': 'MACCS',\n",
    "    'KlekotaRothFingerprintCount': 'KRC',\n",
    "    'EStateFingerprinter': 'E-state',\n",
    "    'MolCLR_GIN_mean': 'MolCLR (mean)',\n",
    "    'MoleBERT_mean': 'MoleBERT (mean)',\n",
    "    'ChemBERTa_zinc250k_v2_40k_mean': 'ChemBERTa (mean)',\n",
    "    'AtomPairs2DFingerprintCount': 'AP2DC',\n",
    "    'KPGT_base': 'KPGT',\n",
    "    'OptimizedFishToxFingerprinter': 'OFT'\n",
    "}\n",
    "\n",
    "order = [\n",
    "    names['AtomPairs2DFingerprintCount'],\n",
    "    names['MACCSFingerprinter'],\n",
    "    names['EStateFingerprinter'],\n",
    "    names['KlekotaRothFingerprintCount'],\n",
    "    names['PubchemFingerprinter'],\n",
    "    names['SubstructureFingerprintCount'],\n",
    "    # names['OptimizedFishToxFingerprinter'],\n",
    "    names['ChemBERTa_zinc250k_v2_40k_mean'],\n",
    "    names['MolCLR_GIN_mean'],\n",
    "    names['MoleBERT_mean'],\n",
    "    names['KPGT_base'],\n",
    "]\n",
    "\n",
    "ml_repr = [\n",
    "    names['ChemBERTa_zinc250k_v2_40k_mean'],\n",
    "    names['MolCLR_GIN_mean'],\n",
    "    names['MoleBERT_mean'],\n",
    "    names['KPGT_base'],\n",
    "]\n",
    "\n"
   ],
   "metadata": {
    "collapsed": false,
    "ExecuteTime": {
     "end_time": "2024-03-12T12:49:27.185966Z",
     "start_time": "2024-03-12T12:49:27.177723Z"
    }
   },
   "id": "9c4d19114ab7141b",
   "execution_count": 2
  },
  {
   "cell_type": "code",
   "outputs": [
    {
     "name": "stderr",
     "output_type": "stream",
     "text": [
      "  0%|          | 0/372 [00:00<?, ?it/s]"
     ]
    },
    {
     "name": "stdout",
     "output_type": "stream",
     "text": [
      "tl4uy0lg failed\n",
      "encoder.KPGTEncoder {'_target_': 'encoder.KPGTEncoder'}\n"
     ]
    },
    {
     "name": "stderr",
     "output_type": "stream",
     "text": [
      "  1%|          | 2/372 [00:00<01:05,  5.64it/s]"
     ]
    },
    {
     "name": "stdout",
     "output_type": "stream",
     "text": [
      "encoder.MolCLREncoder {'pool': 'mean', '_target_': 'encoder.MolCLREncoder', 'architecture': 'GIN'}\n"
     ]
    },
    {
     "name": "stderr",
     "output_type": "stream",
     "text": [
      "  1%|          | 3/372 [00:00<01:43,  3.56it/s]"
     ]
    },
    {
     "name": "stdout",
     "output_type": "stream",
     "text": [
      "encoder.MolCLREncoder {'pool': 'mean', '_target_': 'encoder.MolCLREncoder', 'architecture': 'GIN'}\n"
     ]
    },
    {
     "name": "stderr",
     "output_type": "stream",
     "text": [
      "  1%|          | 4/372 [00:01<01:58,  3.10it/s]"
     ]
    },
    {
     "name": "stdout",
     "output_type": "stream",
     "text": [
      "encoder.MolCLREncoder {'pool': 'mean', '_target_': 'encoder.MolCLREncoder', 'architecture': 'GIN'}\n"
     ]
    },
    {
     "name": "stderr",
     "output_type": "stream",
     "text": [
      "  1%|▏         | 5/372 [00:01<02:18,  2.65it/s]"
     ]
    },
    {
     "name": "stdout",
     "output_type": "stream",
     "text": [
      "encoder.MolCLREncoder {'pool': 'mean', '_target_': 'encoder.MolCLREncoder', 'architecture': 'GIN'}\n"
     ]
    },
    {
     "name": "stderr",
     "output_type": "stream",
     "text": [
      "  2%|▏         | 6/372 [00:02<02:47,  2.19it/s]"
     ]
    },
    {
     "name": "stdout",
     "output_type": "stream",
     "text": [
      "encoder.MolCLREncoder {'pool': 'mean', '_target_': 'encoder.MolCLREncoder', 'architecture': 'GIN'}\n"
     ]
    },
    {
     "name": "stderr",
     "output_type": "stream",
     "text": [
      "  2%|▏         | 7/372 [00:02<02:44,  2.21it/s]"
     ]
    },
    {
     "name": "stdout",
     "output_type": "stream",
     "text": [
      "encoder.MoleBERTEncoder {'pool': 'mean', '_target_': 'encoder.MoleBERTEncoder'}\n"
     ]
    },
    {
     "name": "stderr",
     "output_type": "stream",
     "text": [
      "  2%|▏         | 8/372 [00:03<02:38,  2.29it/s]"
     ]
    },
    {
     "name": "stdout",
     "output_type": "stream",
     "text": [
      "encoder.MoleBERTEncoder {'pool': 'mean', '_target_': 'encoder.MoleBERTEncoder'}\n"
     ]
    },
    {
     "name": "stderr",
     "output_type": "stream",
     "text": [
      "  2%|▏         | 9/372 [00:03<02:47,  2.17it/s]"
     ]
    },
    {
     "name": "stdout",
     "output_type": "stream",
     "text": [
      "encoder.MoleBERTEncoder {'pool': 'mean', '_target_': 'encoder.MoleBERTEncoder'}\n"
     ]
    },
    {
     "name": "stderr",
     "output_type": "stream",
     "text": [
      "  3%|▎         | 10/372 [00:04<02:54,  2.08it/s]"
     ]
    },
    {
     "name": "stdout",
     "output_type": "stream",
     "text": [
      "encoder.MoleBERTEncoder {'pool': 'mean', '_target_': 'encoder.MoleBERTEncoder'}\n"
     ]
    },
    {
     "name": "stderr",
     "output_type": "stream",
     "text": [
      "  3%|▎         | 11/372 [00:04<02:36,  2.31it/s]"
     ]
    },
    {
     "name": "stdout",
     "output_type": "stream",
     "text": [
      "encoder.MoleBERTEncoder {'pool': 'mean', '_target_': 'encoder.MoleBERTEncoder'}\n"
     ]
    },
    {
     "name": "stderr",
     "output_type": "stream",
     "text": [
      "  3%|▎         | 12/372 [00:04<02:39,  2.26it/s]"
     ]
    },
    {
     "name": "stdout",
     "output_type": "stream",
     "text": [
      "encoder.ChemBERTaEncoder {'pool': 'mean', '_target_': 'encoder.ChemBERTaEncoder', 'pretrained_model_name_or_path': 'seyonec/ChemBERTa_zinc250k_v2_40k'}\n"
     ]
    },
    {
     "name": "stderr",
     "output_type": "stream",
     "text": [
      "  3%|▎         | 13/372 [00:05<02:40,  2.24it/s]"
     ]
    },
    {
     "name": "stdout",
     "output_type": "stream",
     "text": [
      "encoder.ChemBERTaEncoder {'pool': 'mean', '_target_': 'encoder.ChemBERTaEncoder', 'pretrained_model_name_or_path': 'seyonec/ChemBERTa_zinc250k_v2_40k'}\n"
     ]
    },
    {
     "name": "stderr",
     "output_type": "stream",
     "text": [
      "  4%|▍         | 14/372 [00:05<02:44,  2.17it/s]"
     ]
    },
    {
     "name": "stdout",
     "output_type": "stream",
     "text": [
      "encoder.ChemBERTaEncoder {'pool': 'mean', '_target_': 'encoder.ChemBERTaEncoder', 'pretrained_model_name_or_path': 'seyonec/ChemBERTa_zinc250k_v2_40k'}\n"
     ]
    },
    {
     "name": "stderr",
     "output_type": "stream",
     "text": [
      "  4%|▍         | 15/372 [00:06<02:45,  2.15it/s]"
     ]
    },
    {
     "name": "stdout",
     "output_type": "stream",
     "text": [
      "encoder.ChemBERTaEncoder {'pool': 'mean', '_target_': 'encoder.ChemBERTaEncoder', 'pretrained_model_name_or_path': 'seyonec/ChemBERTa_zinc250k_v2_40k'}\n"
     ]
    },
    {
     "name": "stderr",
     "output_type": "stream",
     "text": [
      "  4%|▍         | 16/372 [00:06<02:42,  2.19it/s]"
     ]
    },
    {
     "name": "stdout",
     "output_type": "stream",
     "text": [
      "encoder.ChemBERTaEncoder {'pool': 'mean', '_target_': 'encoder.ChemBERTaEncoder', 'pretrained_model_name_or_path': 'seyonec/ChemBERTa_zinc250k_v2_40k'}\n"
     ]
    },
    {
     "name": "stderr",
     "output_type": "stream",
     "text": [
      "  5%|▍         | 17/372 [00:07<02:42,  2.19it/s]"
     ]
    },
    {
     "name": "stdout",
     "output_type": "stream",
     "text": [
      "encoder.AtomPairs2DFingerprintCount {'_target_': 'encoder.AtomPairs2DFingerprintCount'}\n"
     ]
    },
    {
     "name": "stderr",
     "output_type": "stream",
     "text": [
      "  5%|▍         | 18/372 [00:07<02:32,  2.33it/s]"
     ]
    },
    {
     "name": "stdout",
     "output_type": "stream",
     "text": [
      "encoder.AtomPairs2DFingerprintCount {'_target_': 'encoder.AtomPairs2DFingerprintCount'}\n"
     ]
    },
    {
     "name": "stderr",
     "output_type": "stream",
     "text": [
      "  5%|▌         | 19/372 [00:08<02:37,  2.24it/s]"
     ]
    },
    {
     "name": "stdout",
     "output_type": "stream",
     "text": [
      "encoder.AtomPairs2DFingerprintCount {'_target_': 'encoder.AtomPairs2DFingerprintCount'}\n"
     ]
    },
    {
     "name": "stderr",
     "output_type": "stream",
     "text": [
      "  5%|▌         | 20/372 [00:08<02:40,  2.19it/s]"
     ]
    },
    {
     "name": "stdout",
     "output_type": "stream",
     "text": [
      "encoder.AtomPairs2DFingerprintCount {'_target_': 'encoder.AtomPairs2DFingerprintCount'}\n"
     ]
    },
    {
     "name": "stderr",
     "output_type": "stream",
     "text": [
      "  6%|▌         | 21/372 [00:09<02:39,  2.20it/s]"
     ]
    },
    {
     "name": "stdout",
     "output_type": "stream",
     "text": [
      "encoder.AtomPairs2DFingerprintCount {'_target_': 'encoder.AtomPairs2DFingerprintCount'}\n"
     ]
    },
    {
     "name": "stderr",
     "output_type": "stream",
     "text": [
      "  6%|▌         | 22/372 [00:09<02:31,  2.31it/s]"
     ]
    },
    {
     "name": "stdout",
     "output_type": "stream",
     "text": [
      "encoder.SubstructureFingerprintCount {'_target_': 'encoder.SubstructureFingerprintCount'}\n"
     ]
    },
    {
     "name": "stderr",
     "output_type": "stream",
     "text": [
      "  6%|▌         | 23/372 [00:09<02:32,  2.28it/s]"
     ]
    },
    {
     "name": "stdout",
     "output_type": "stream",
     "text": [
      "encoder.SubstructureFingerprintCount {'_target_': 'encoder.SubstructureFingerprintCount'}\n"
     ]
    },
    {
     "name": "stderr",
     "output_type": "stream",
     "text": [
      "  6%|▋         | 24/372 [00:10<02:27,  2.35it/s]"
     ]
    },
    {
     "name": "stdout",
     "output_type": "stream",
     "text": [
      "encoder.SubstructureFingerprintCount {'_target_': 'encoder.SubstructureFingerprintCount'}\n"
     ]
    },
    {
     "name": "stderr",
     "output_type": "stream",
     "text": [
      "  7%|▋         | 25/372 [00:10<02:31,  2.28it/s]"
     ]
    },
    {
     "name": "stdout",
     "output_type": "stream",
     "text": [
      "encoder.SubstructureFingerprintCount {'_target_': 'encoder.SubstructureFingerprintCount'}\n"
     ]
    },
    {
     "name": "stderr",
     "output_type": "stream",
     "text": [
      "  7%|▋         | 26/372 [00:11<02:36,  2.21it/s]"
     ]
    },
    {
     "name": "stdout",
     "output_type": "stream",
     "text": [
      "encoder.SubstructureFingerprintCount {'_target_': 'encoder.SubstructureFingerprintCount'}\n"
     ]
    },
    {
     "name": "stderr",
     "output_type": "stream",
     "text": [
      "  7%|▋         | 27/372 [00:11<02:40,  2.16it/s]"
     ]
    },
    {
     "name": "stdout",
     "output_type": "stream",
     "text": [
      "encoder.PubchemFingerprinter {'_target_': 'encoder.PubchemFingerprinter'}\n"
     ]
    },
    {
     "name": "stderr",
     "output_type": "stream",
     "text": [
      "  8%|▊         | 28/372 [00:12<02:37,  2.18it/s]"
     ]
    },
    {
     "name": "stdout",
     "output_type": "stream",
     "text": [
      "encoder.PubchemFingerprinter {'_target_': 'encoder.PubchemFingerprinter'}\n"
     ]
    },
    {
     "name": "stderr",
     "output_type": "stream",
     "text": [
      "  8%|▊         | 29/372 [00:12<02:28,  2.32it/s]"
     ]
    },
    {
     "name": "stdout",
     "output_type": "stream",
     "text": [
      "encoder.PubchemFingerprinter {'_target_': 'encoder.PubchemFingerprinter'}\n"
     ]
    },
    {
     "name": "stderr",
     "output_type": "stream",
     "text": [
      "  8%|▊         | 30/372 [00:13<02:36,  2.18it/s]"
     ]
    },
    {
     "name": "stdout",
     "output_type": "stream",
     "text": [
      "encoder.PubchemFingerprinter {'_target_': 'encoder.PubchemFingerprinter'}\n"
     ]
    },
    {
     "name": "stderr",
     "output_type": "stream",
     "text": [
      "  8%|▊         | 31/372 [00:13<02:28,  2.29it/s]"
     ]
    },
    {
     "name": "stdout",
     "output_type": "stream",
     "text": [
      "encoder.PubchemFingerprinter {'_target_': 'encoder.PubchemFingerprinter'}\n"
     ]
    },
    {
     "name": "stderr",
     "output_type": "stream",
     "text": [
      "  9%|▊         | 32/372 [00:13<02:34,  2.20it/s]"
     ]
    },
    {
     "name": "stdout",
     "output_type": "stream",
     "text": [
      "encoder.MACCSFingerprinter {'_target_': 'encoder.MACCSFingerprinter'}\n"
     ]
    },
    {
     "name": "stderr",
     "output_type": "stream",
     "text": [
      "  9%|▉         | 33/372 [00:14<02:30,  2.25it/s]"
     ]
    },
    {
     "name": "stdout",
     "output_type": "stream",
     "text": [
      "encoder.MACCSFingerprinter {'_target_': 'encoder.MACCSFingerprinter'}\n"
     ]
    },
    {
     "name": "stderr",
     "output_type": "stream",
     "text": [
      "  9%|▉         | 34/372 [00:14<02:33,  2.20it/s]"
     ]
    },
    {
     "name": "stdout",
     "output_type": "stream",
     "text": [
      "encoder.MACCSFingerprinter {'_target_': 'encoder.MACCSFingerprinter'}\n"
     ]
    },
    {
     "name": "stderr",
     "output_type": "stream",
     "text": [
      "  9%|▉         | 35/372 [00:15<02:30,  2.25it/s]"
     ]
    },
    {
     "name": "stdout",
     "output_type": "stream",
     "text": [
      "encoder.MACCSFingerprinter {'_target_': 'encoder.MACCSFingerprinter'}\n"
     ]
    },
    {
     "name": "stderr",
     "output_type": "stream",
     "text": [
      " 10%|▉         | 36/372 [00:15<02:26,  2.30it/s]"
     ]
    },
    {
     "name": "stdout",
     "output_type": "stream",
     "text": [
      "encoder.MACCSFingerprinter {'_target_': 'encoder.MACCSFingerprinter'}\n"
     ]
    },
    {
     "name": "stderr",
     "output_type": "stream",
     "text": [
      " 10%|▉         | 37/372 [00:16<02:33,  2.18it/s]"
     ]
    },
    {
     "name": "stdout",
     "output_type": "stream",
     "text": [
      "encoder.KlekotaRothFingerprintCount {'_target_': 'encoder.KlekotaRothFingerprintCount'}\n"
     ]
    },
    {
     "name": "stderr",
     "output_type": "stream",
     "text": [
      " 10%|█         | 38/372 [00:16<02:31,  2.20it/s]"
     ]
    },
    {
     "name": "stdout",
     "output_type": "stream",
     "text": [
      "encoder.KlekotaRothFingerprintCount {'_target_': 'encoder.KlekotaRothFingerprintCount'}\n"
     ]
    },
    {
     "name": "stderr",
     "output_type": "stream",
     "text": [
      " 10%|█         | 39/372 [00:17<02:24,  2.30it/s]"
     ]
    },
    {
     "name": "stdout",
     "output_type": "stream",
     "text": [
      "encoder.KlekotaRothFingerprintCount {'_target_': 'encoder.KlekotaRothFingerprintCount'}\n"
     ]
    },
    {
     "name": "stderr",
     "output_type": "stream",
     "text": [
      " 11%|█         | 40/372 [00:17<02:21,  2.35it/s]"
     ]
    },
    {
     "name": "stdout",
     "output_type": "stream",
     "text": [
      "encoder.KlekotaRothFingerprintCount {'_target_': 'encoder.KlekotaRothFingerprintCount'}\n"
     ]
    },
    {
     "name": "stderr",
     "output_type": "stream",
     "text": [
      " 11%|█         | 41/372 [00:17<02:22,  2.32it/s]"
     ]
    },
    {
     "name": "stdout",
     "output_type": "stream",
     "text": [
      "encoder.KlekotaRothFingerprintCount {'_target_': 'encoder.KlekotaRothFingerprintCount'}\n"
     ]
    },
    {
     "name": "stderr",
     "output_type": "stream",
     "text": [
      " 11%|█▏        | 42/372 [00:18<02:26,  2.25it/s]"
     ]
    },
    {
     "name": "stdout",
     "output_type": "stream",
     "text": [
      "encoder.EStateFingerprinter {'_target_': 'encoder.EStateFingerprinter'}\n"
     ]
    },
    {
     "name": "stderr",
     "output_type": "stream",
     "text": [
      " 12%|█▏        | 43/372 [00:18<02:21,  2.33it/s]"
     ]
    },
    {
     "name": "stdout",
     "output_type": "stream",
     "text": [
      "encoder.EStateFingerprinter {'_target_': 'encoder.EStateFingerprinter'}\n"
     ]
    },
    {
     "name": "stderr",
     "output_type": "stream",
     "text": [
      " 12%|█▏        | 44/372 [00:19<02:17,  2.38it/s]"
     ]
    },
    {
     "name": "stdout",
     "output_type": "stream",
     "text": [
      "encoder.EStateFingerprinter {'_target_': 'encoder.EStateFingerprinter'}\n"
     ]
    },
    {
     "name": "stderr",
     "output_type": "stream",
     "text": [
      " 12%|█▏        | 45/372 [00:19<02:24,  2.26it/s]"
     ]
    },
    {
     "name": "stdout",
     "output_type": "stream",
     "text": [
      "encoder.EStateFingerprinter {'_target_': 'encoder.EStateFingerprinter'}\n"
     ]
    },
    {
     "name": "stderr",
     "output_type": "stream",
     "text": [
      " 12%|█▏        | 46/372 [00:20<02:25,  2.25it/s]"
     ]
    },
    {
     "name": "stdout",
     "output_type": "stream",
     "text": [
      "encoder.EStateFingerprinter {'_target_': 'encoder.EStateFingerprinter'}\n"
     ]
    },
    {
     "name": "stderr",
     "output_type": "stream",
     "text": [
      " 13%|█▎        | 47/372 [00:20<02:15,  2.40it/s]"
     ]
    },
    {
     "name": "stdout",
     "output_type": "stream",
     "text": [
      "encoder.KPGTEncoder {'_target_': 'encoder.KPGTEncoder'}\n"
     ]
    },
    {
     "name": "stderr",
     "output_type": "stream",
     "text": [
      " 13%|█▎        | 48/372 [00:20<02:22,  2.28it/s]"
     ]
    },
    {
     "name": "stdout",
     "output_type": "stream",
     "text": [
      "encoder.KPGTEncoder {'_target_': 'encoder.KPGTEncoder'}\n"
     ]
    },
    {
     "name": "stderr",
     "output_type": "stream",
     "text": [
      " 13%|█▎        | 49/372 [00:21<02:24,  2.23it/s]"
     ]
    },
    {
     "name": "stdout",
     "output_type": "stream",
     "text": [
      "encoder.KPGTEncoder {'_target_': 'encoder.KPGTEncoder'}\n"
     ]
    },
    {
     "name": "stderr",
     "output_type": "stream",
     "text": [
      " 13%|█▎        | 50/372 [00:21<02:20,  2.30it/s]"
     ]
    },
    {
     "name": "stdout",
     "output_type": "stream",
     "text": [
      "encoder.KPGTEncoder {'_target_': 'encoder.KPGTEncoder'}\n"
     ]
    },
    {
     "name": "stderr",
     "output_type": "stream",
     "text": [
      " 14%|█▎        | 51/372 [00:22<02:20,  2.28it/s]"
     ]
    },
    {
     "name": "stdout",
     "output_type": "stream",
     "text": [
      "encoder.KPGTEncoder {'_target_': 'encoder.KPGTEncoder'}\n"
     ]
    },
    {
     "name": "stderr",
     "output_type": "stream",
     "text": [
      " 14%|█▍        | 52/372 [00:22<02:33,  2.09it/s]"
     ]
    },
    {
     "name": "stdout",
     "output_type": "stream",
     "text": [
      "encoder.MolCLREncoder {'pool': 'mean', '_target_': 'encoder.MolCLREncoder', 'architecture': 'GIN'}\n"
     ]
    },
    {
     "name": "stderr",
     "output_type": "stream",
     "text": [
      " 14%|█▍        | 53/372 [00:23<02:25,  2.19it/s]"
     ]
    },
    {
     "name": "stdout",
     "output_type": "stream",
     "text": [
      "encoder.MolCLREncoder {'pool': 'mean', '_target_': 'encoder.MolCLREncoder', 'architecture': 'GIN'}\n"
     ]
    },
    {
     "name": "stderr",
     "output_type": "stream",
     "text": [
      " 15%|█▍        | 54/372 [00:23<02:43,  1.95it/s]"
     ]
    },
    {
     "name": "stdout",
     "output_type": "stream",
     "text": [
      "encoder.MolCLREncoder {'pool': 'mean', '_target_': 'encoder.MolCLREncoder', 'architecture': 'GIN'}\n"
     ]
    },
    {
     "name": "stderr",
     "output_type": "stream",
     "text": [
      " 15%|█▍        | 55/372 [00:24<02:37,  2.02it/s]"
     ]
    },
    {
     "name": "stdout",
     "output_type": "stream",
     "text": [
      "encoder.MolCLREncoder {'pool': 'mean', '_target_': 'encoder.MolCLREncoder', 'architecture': 'GIN'}\n"
     ]
    },
    {
     "name": "stderr",
     "output_type": "stream",
     "text": [
      " 15%|█▌        | 56/372 [00:24<02:33,  2.06it/s]"
     ]
    },
    {
     "name": "stdout",
     "output_type": "stream",
     "text": [
      "encoder.MolCLREncoder {'pool': 'mean', '_target_': 'encoder.MolCLREncoder', 'architecture': 'GIN'}\n"
     ]
    },
    {
     "name": "stderr",
     "output_type": "stream",
     "text": [
      " 15%|█▌        | 57/372 [00:25<02:30,  2.10it/s]"
     ]
    },
    {
     "name": "stdout",
     "output_type": "stream",
     "text": [
      "encoder.MoleBERTEncoder {'pool': 'mean', '_target_': 'encoder.MoleBERTEncoder'}\n"
     ]
    },
    {
     "name": "stderr",
     "output_type": "stream",
     "text": [
      " 16%|█▌        | 58/372 [00:25<02:25,  2.15it/s]"
     ]
    },
    {
     "name": "stdout",
     "output_type": "stream",
     "text": [
      "encoder.MoleBERTEncoder {'pool': 'mean', '_target_': 'encoder.MoleBERTEncoder'}\n"
     ]
    },
    {
     "name": "stderr",
     "output_type": "stream",
     "text": [
      " 16%|█▌        | 59/372 [00:26<02:19,  2.24it/s]"
     ]
    },
    {
     "name": "stdout",
     "output_type": "stream",
     "text": [
      "encoder.MoleBERTEncoder {'pool': 'mean', '_target_': 'encoder.MoleBERTEncoder'}\n"
     ]
    },
    {
     "name": "stderr",
     "output_type": "stream",
     "text": [
      " 16%|█▌        | 60/372 [00:26<02:15,  2.30it/s]"
     ]
    },
    {
     "name": "stdout",
     "output_type": "stream",
     "text": [
      "encoder.MoleBERTEncoder {'pool': 'mean', '_target_': 'encoder.MoleBERTEncoder'}\n"
     ]
    },
    {
     "name": "stderr",
     "output_type": "stream",
     "text": [
      " 16%|█▋        | 61/372 [00:27<02:24,  2.15it/s]"
     ]
    },
    {
     "name": "stdout",
     "output_type": "stream",
     "text": [
      "encoder.MoleBERTEncoder {'pool': 'mean', '_target_': 'encoder.MoleBERTEncoder'}\n"
     ]
    },
    {
     "name": "stderr",
     "output_type": "stream",
     "text": [
      " 17%|█▋        | 62/372 [00:27<02:21,  2.19it/s]"
     ]
    },
    {
     "name": "stdout",
     "output_type": "stream",
     "text": [
      "encoder.ChemBERTaEncoder {'pool': 'mean', '_target_': 'encoder.ChemBERTaEncoder', 'pretrained_model_name_or_path': 'seyonec/ChemBERTa_zinc250k_v2_40k'}\n"
     ]
    },
    {
     "name": "stderr",
     "output_type": "stream",
     "text": [
      " 17%|█▋        | 63/372 [00:27<02:11,  2.35it/s]"
     ]
    },
    {
     "name": "stdout",
     "output_type": "stream",
     "text": [
      "encoder.ChemBERTaEncoder {'pool': 'mean', '_target_': 'encoder.ChemBERTaEncoder', 'pretrained_model_name_or_path': 'seyonec/ChemBERTa_zinc250k_v2_40k'}\n"
     ]
    },
    {
     "name": "stderr",
     "output_type": "stream",
     "text": [
      " 17%|█▋        | 64/372 [00:28<02:14,  2.30it/s]"
     ]
    },
    {
     "name": "stdout",
     "output_type": "stream",
     "text": [
      "encoder.ChemBERTaEncoder {'pool': 'mean', '_target_': 'encoder.ChemBERTaEncoder', 'pretrained_model_name_or_path': 'seyonec/ChemBERTa_zinc250k_v2_40k'}\n"
     ]
    },
    {
     "name": "stderr",
     "output_type": "stream",
     "text": [
      " 17%|█▋        | 65/372 [00:28<02:19,  2.20it/s]"
     ]
    },
    {
     "name": "stdout",
     "output_type": "stream",
     "text": [
      "encoder.ChemBERTaEncoder {'pool': 'mean', '_target_': 'encoder.ChemBERTaEncoder', 'pretrained_model_name_or_path': 'seyonec/ChemBERTa_zinc250k_v2_40k'}\n"
     ]
    },
    {
     "name": "stderr",
     "output_type": "stream",
     "text": [
      " 18%|█▊        | 66/372 [00:29<02:11,  2.33it/s]"
     ]
    },
    {
     "name": "stdout",
     "output_type": "stream",
     "text": [
      "encoder.ChemBERTaEncoder {'pool': 'mean', '_target_': 'encoder.ChemBERTaEncoder', 'pretrained_model_name_or_path': 'seyonec/ChemBERTa_zinc250k_v2_40k'}\n"
     ]
    },
    {
     "name": "stderr",
     "output_type": "stream",
     "text": [
      " 18%|█▊        | 67/372 [00:29<02:18,  2.20it/s]"
     ]
    },
    {
     "name": "stdout",
     "output_type": "stream",
     "text": [
      "encoder.AtomPairs2DFingerprintCount {'_target_': 'encoder.AtomPairs2DFingerprintCount'}\n"
     ]
    },
    {
     "name": "stderr",
     "output_type": "stream",
     "text": [
      " 18%|█▊        | 68/372 [00:30<02:17,  2.22it/s]"
     ]
    },
    {
     "name": "stdout",
     "output_type": "stream",
     "text": [
      "encoder.AtomPairs2DFingerprintCount {'_target_': 'encoder.AtomPairs2DFingerprintCount'}\n"
     ]
    },
    {
     "name": "stderr",
     "output_type": "stream",
     "text": [
      " 19%|█▊        | 69/372 [00:30<02:27,  2.06it/s]"
     ]
    },
    {
     "name": "stdout",
     "output_type": "stream",
     "text": [
      "encoder.AtomPairs2DFingerprintCount {'_target_': 'encoder.AtomPairs2DFingerprintCount'}\n"
     ]
    },
    {
     "name": "stderr",
     "output_type": "stream",
     "text": [
      " 19%|█▉        | 70/372 [00:31<02:19,  2.17it/s]"
     ]
    },
    {
     "name": "stdout",
     "output_type": "stream",
     "text": [
      "encoder.AtomPairs2DFingerprintCount {'_target_': 'encoder.AtomPairs2DFingerprintCount'}\n"
     ]
    },
    {
     "name": "stderr",
     "output_type": "stream",
     "text": [
      " 19%|█▉        | 71/372 [00:31<02:12,  2.27it/s]"
     ]
    },
    {
     "name": "stdout",
     "output_type": "stream",
     "text": [
      "encoder.AtomPairs2DFingerprintCount {'_target_': 'encoder.AtomPairs2DFingerprintCount'}\n"
     ]
    },
    {
     "name": "stderr",
     "output_type": "stream",
     "text": [
      " 19%|█▉        | 72/372 [00:31<02:16,  2.20it/s]"
     ]
    },
    {
     "name": "stdout",
     "output_type": "stream",
     "text": [
      "encoder.SubstructureFingerprintCount {'_target_': 'encoder.SubstructureFingerprintCount'}\n"
     ]
    },
    {
     "name": "stderr",
     "output_type": "stream",
     "text": [
      " 20%|█▉        | 73/372 [00:32<02:25,  2.05it/s]"
     ]
    },
    {
     "name": "stdout",
     "output_type": "stream",
     "text": [
      "encoder.SubstructureFingerprintCount {'_target_': 'encoder.SubstructureFingerprintCount'}\n"
     ]
    },
    {
     "name": "stderr",
     "output_type": "stream",
     "text": [
      " 20%|█▉        | 74/372 [00:32<02:18,  2.14it/s]"
     ]
    },
    {
     "name": "stdout",
     "output_type": "stream",
     "text": [
      "encoder.SubstructureFingerprintCount {'_target_': 'encoder.SubstructureFingerprintCount'}\n"
     ]
    },
    {
     "name": "stderr",
     "output_type": "stream",
     "text": [
      " 20%|██        | 75/372 [00:33<02:14,  2.20it/s]"
     ]
    },
    {
     "name": "stdout",
     "output_type": "stream",
     "text": [
      "encoder.SubstructureFingerprintCount {'_target_': 'encoder.SubstructureFingerprintCount'}\n"
     ]
    },
    {
     "name": "stderr",
     "output_type": "stream",
     "text": [
      " 20%|██        | 76/372 [00:33<02:17,  2.15it/s]"
     ]
    },
    {
     "name": "stdout",
     "output_type": "stream",
     "text": [
      "encoder.SubstructureFingerprintCount {'_target_': 'encoder.SubstructureFingerprintCount'}\n"
     ]
    },
    {
     "name": "stderr",
     "output_type": "stream",
     "text": [
      " 21%|██        | 77/372 [00:34<02:12,  2.22it/s]"
     ]
    },
    {
     "name": "stdout",
     "output_type": "stream",
     "text": [
      "encoder.PubchemFingerprinter {'_target_': 'encoder.PubchemFingerprinter'}\n"
     ]
    },
    {
     "name": "stderr",
     "output_type": "stream",
     "text": [
      " 21%|██        | 78/372 [00:34<02:07,  2.30it/s]"
     ]
    },
    {
     "name": "stdout",
     "output_type": "stream",
     "text": [
      "encoder.PubchemFingerprinter {'_target_': 'encoder.PubchemFingerprinter'}\n"
     ]
    },
    {
     "name": "stderr",
     "output_type": "stream",
     "text": [
      " 21%|██        | 79/372 [00:35<02:06,  2.32it/s]"
     ]
    },
    {
     "name": "stdout",
     "output_type": "stream",
     "text": [
      "encoder.PubchemFingerprinter {'_target_': 'encoder.PubchemFingerprinter'}\n"
     ]
    },
    {
     "name": "stderr",
     "output_type": "stream",
     "text": [
      " 22%|██▏       | 80/372 [00:35<02:02,  2.39it/s]"
     ]
    },
    {
     "name": "stdout",
     "output_type": "stream",
     "text": [
      "encoder.PubchemFingerprinter {'_target_': 'encoder.PubchemFingerprinter'}\n"
     ]
    },
    {
     "name": "stderr",
     "output_type": "stream",
     "text": [
      " 22%|██▏       | 81/372 [00:35<02:07,  2.27it/s]"
     ]
    },
    {
     "name": "stdout",
     "output_type": "stream",
     "text": [
      "encoder.PubchemFingerprinter {'_target_': 'encoder.PubchemFingerprinter'}\n"
     ]
    },
    {
     "name": "stderr",
     "output_type": "stream",
     "text": [
      " 22%|██▏       | 82/372 [00:36<02:06,  2.29it/s]"
     ]
    },
    {
     "name": "stdout",
     "output_type": "stream",
     "text": [
      "encoder.MACCSFingerprinter {'_target_': 'encoder.MACCSFingerprinter'}\n"
     ]
    },
    {
     "name": "stderr",
     "output_type": "stream",
     "text": [
      " 22%|██▏       | 83/372 [00:36<02:05,  2.31it/s]"
     ]
    },
    {
     "name": "stdout",
     "output_type": "stream",
     "text": [
      "encoder.MACCSFingerprinter {'_target_': 'encoder.MACCSFingerprinter'}\n"
     ]
    },
    {
     "name": "stderr",
     "output_type": "stream",
     "text": [
      " 23%|██▎       | 84/372 [00:37<02:04,  2.31it/s]"
     ]
    },
    {
     "name": "stdout",
     "output_type": "stream",
     "text": [
      "encoder.MACCSFingerprinter {'_target_': 'encoder.MACCSFingerprinter'}\n"
     ]
    },
    {
     "name": "stderr",
     "output_type": "stream",
     "text": [
      " 23%|██▎       | 85/372 [00:37<01:59,  2.41it/s]"
     ]
    },
    {
     "name": "stdout",
     "output_type": "stream",
     "text": [
      "encoder.MACCSFingerprinter {'_target_': 'encoder.MACCSFingerprinter'}\n"
     ]
    },
    {
     "name": "stderr",
     "output_type": "stream",
     "text": [
      " 23%|██▎       | 86/372 [00:38<02:04,  2.30it/s]"
     ]
    },
    {
     "name": "stdout",
     "output_type": "stream",
     "text": [
      "encoder.MACCSFingerprinter {'_target_': 'encoder.MACCSFingerprinter'}\n"
     ]
    },
    {
     "name": "stderr",
     "output_type": "stream",
     "text": [
      " 23%|██▎       | 87/372 [00:38<02:06,  2.26it/s]"
     ]
    },
    {
     "name": "stdout",
     "output_type": "stream",
     "text": [
      "encoder.KlekotaRothFingerprintCount {'_target_': 'encoder.KlekotaRothFingerprintCount'}\n"
     ]
    },
    {
     "name": "stderr",
     "output_type": "stream",
     "text": [
      " 24%|██▎       | 88/372 [00:38<02:00,  2.36it/s]"
     ]
    },
    {
     "name": "stdout",
     "output_type": "stream",
     "text": [
      "encoder.KlekotaRothFingerprintCount {'_target_': 'encoder.KlekotaRothFingerprintCount'}\n"
     ]
    },
    {
     "name": "stderr",
     "output_type": "stream",
     "text": [
      " 24%|██▍       | 89/372 [00:39<01:59,  2.36it/s]"
     ]
    },
    {
     "name": "stdout",
     "output_type": "stream",
     "text": [
      "encoder.KlekotaRothFingerprintCount {'_target_': 'encoder.KlekotaRothFingerprintCount'}\n"
     ]
    },
    {
     "name": "stderr",
     "output_type": "stream",
     "text": [
      " 24%|██▍       | 90/372 [00:39<01:57,  2.40it/s]"
     ]
    },
    {
     "name": "stdout",
     "output_type": "stream",
     "text": [
      "encoder.KlekotaRothFingerprintCount {'_target_': 'encoder.KlekotaRothFingerprintCount'}\n"
     ]
    },
    {
     "name": "stderr",
     "output_type": "stream",
     "text": [
      " 24%|██▍       | 91/372 [00:40<01:57,  2.39it/s]"
     ]
    },
    {
     "name": "stdout",
     "output_type": "stream",
     "text": [
      "encoder.KlekotaRothFingerprintCount {'_target_': 'encoder.KlekotaRothFingerprintCount'}\n"
     ]
    },
    {
     "name": "stderr",
     "output_type": "stream",
     "text": [
      " 25%|██▍       | 92/372 [00:40<01:58,  2.37it/s]"
     ]
    },
    {
     "name": "stdout",
     "output_type": "stream",
     "text": [
      "encoder.EStateFingerprinter {'_target_': 'encoder.EStateFingerprinter'}\n"
     ]
    },
    {
     "name": "stderr",
     "output_type": "stream",
     "text": [
      " 25%|██▌       | 93/372 [00:40<01:54,  2.44it/s]"
     ]
    },
    {
     "name": "stdout",
     "output_type": "stream",
     "text": [
      "encoder.EStateFingerprinter {'_target_': 'encoder.EStateFingerprinter'}\n"
     ]
    },
    {
     "name": "stderr",
     "output_type": "stream",
     "text": [
      " 25%|██▌       | 94/372 [00:41<01:58,  2.35it/s]"
     ]
    },
    {
     "name": "stdout",
     "output_type": "stream",
     "text": [
      "encoder.EStateFingerprinter {'_target_': 'encoder.EStateFingerprinter'}\n"
     ]
    },
    {
     "name": "stderr",
     "output_type": "stream",
     "text": [
      " 26%|██▌       | 95/372 [00:41<01:56,  2.38it/s]"
     ]
    },
    {
     "name": "stdout",
     "output_type": "stream",
     "text": [
      "encoder.EStateFingerprinter {'_target_': 'encoder.EStateFingerprinter'}\n"
     ]
    },
    {
     "name": "stderr",
     "output_type": "stream",
     "text": [
      " 26%|██▌       | 96/372 [00:42<02:04,  2.22it/s]"
     ]
    },
    {
     "name": "stdout",
     "output_type": "stream",
     "text": [
      "encoder.EStateFingerprinter {'_target_': 'encoder.EStateFingerprinter'}\n"
     ]
    },
    {
     "name": "stderr",
     "output_type": "stream",
     "text": [
      " 26%|██▌       | 97/372 [00:42<02:00,  2.28it/s]"
     ]
    },
    {
     "name": "stdout",
     "output_type": "stream",
     "text": [
      "encoder.KPGTEncoder {'_target_': 'encoder.KPGTEncoder'}\n"
     ]
    },
    {
     "name": "stderr",
     "output_type": "stream",
     "text": [
      " 26%|██▋       | 98/372 [00:43<02:01,  2.25it/s]"
     ]
    },
    {
     "name": "stdout",
     "output_type": "stream",
     "text": [
      "encoder.KPGTEncoder {'_target_': 'encoder.KPGTEncoder'}\n"
     ]
    },
    {
     "name": "stderr",
     "output_type": "stream",
     "text": [
      " 27%|██▋       | 99/372 [00:43<01:59,  2.29it/s]"
     ]
    },
    {
     "name": "stdout",
     "output_type": "stream",
     "text": [
      "encoder.KPGTEncoder {'_target_': 'encoder.KPGTEncoder'}\n"
     ]
    },
    {
     "name": "stderr",
     "output_type": "stream",
     "text": [
      " 27%|██▋       | 100/372 [00:44<01:54,  2.38it/s]"
     ]
    },
    {
     "name": "stdout",
     "output_type": "stream",
     "text": [
      "encoder.KPGTEncoder {'_target_': 'encoder.KPGTEncoder'}\n"
     ]
    },
    {
     "name": "stderr",
     "output_type": "stream",
     "text": [
      " 27%|██▋       | 101/372 [00:44<01:51,  2.42it/s]"
     ]
    },
    {
     "name": "stdout",
     "output_type": "stream",
     "text": [
      "encoder.KPGTEncoder {'_target_': 'encoder.KPGTEncoder'}\n"
     ]
    },
    {
     "name": "stderr",
     "output_type": "stream",
     "text": [
      " 27%|██▋       | 102/372 [00:44<01:57,  2.30it/s]"
     ]
    },
    {
     "name": "stdout",
     "output_type": "stream",
     "text": [
      "encoder.MolCLREncoder {'pool': 'mean', '_target_': 'encoder.MolCLREncoder', 'architecture': 'GIN'}\n"
     ]
    },
    {
     "name": "stderr",
     "output_type": "stream",
     "text": [
      " 28%|██▊       | 103/372 [00:45<02:00,  2.23it/s]"
     ]
    },
    {
     "name": "stdout",
     "output_type": "stream",
     "text": [
      "encoder.MolCLREncoder {'pool': 'mean', '_target_': 'encoder.MolCLREncoder', 'architecture': 'GIN'}\n"
     ]
    },
    {
     "name": "stderr",
     "output_type": "stream",
     "text": [
      " 28%|██▊       | 104/372 [00:45<01:57,  2.28it/s]"
     ]
    },
    {
     "name": "stdout",
     "output_type": "stream",
     "text": [
      "encoder.MolCLREncoder {'pool': 'mean', '_target_': 'encoder.MolCLREncoder', 'architecture': 'GIN'}\n"
     ]
    },
    {
     "name": "stderr",
     "output_type": "stream",
     "text": [
      " 28%|██▊       | 105/372 [00:46<01:53,  2.36it/s]"
     ]
    },
    {
     "name": "stdout",
     "output_type": "stream",
     "text": [
      "encoder.MolCLREncoder {'pool': 'mean', '_target_': 'encoder.MolCLREncoder', 'architecture': 'GIN'}\n"
     ]
    },
    {
     "name": "stderr",
     "output_type": "stream",
     "text": [
      " 28%|██▊       | 106/372 [00:46<01:58,  2.25it/s]"
     ]
    },
    {
     "name": "stdout",
     "output_type": "stream",
     "text": [
      "encoder.MolCLREncoder {'pool': 'mean', '_target_': 'encoder.MolCLREncoder', 'architecture': 'GIN'}\n"
     ]
    },
    {
     "name": "stderr",
     "output_type": "stream",
     "text": [
      " 29%|██▉       | 107/372 [00:47<02:04,  2.12it/s]"
     ]
    },
    {
     "name": "stdout",
     "output_type": "stream",
     "text": [
      "encoder.MoleBERTEncoder {'pool': 'mean', '_target_': 'encoder.MoleBERTEncoder'}\n"
     ]
    },
    {
     "name": "stderr",
     "output_type": "stream",
     "text": [
      " 29%|██▉       | 108/372 [00:47<01:58,  2.23it/s]"
     ]
    },
    {
     "name": "stdout",
     "output_type": "stream",
     "text": [
      "encoder.MoleBERTEncoder {'pool': 'mean', '_target_': 'encoder.MoleBERTEncoder'}\n"
     ]
    },
    {
     "name": "stderr",
     "output_type": "stream",
     "text": [
      " 29%|██▉       | 109/372 [00:48<01:52,  2.34it/s]"
     ]
    },
    {
     "name": "stdout",
     "output_type": "stream",
     "text": [
      "encoder.MoleBERTEncoder {'pool': 'mean', '_target_': 'encoder.MoleBERTEncoder'}\n"
     ]
    },
    {
     "name": "stderr",
     "output_type": "stream",
     "text": [
      " 30%|██▉       | 110/372 [00:48<02:01,  2.15it/s]"
     ]
    },
    {
     "name": "stdout",
     "output_type": "stream",
     "text": [
      "encoder.MoleBERTEncoder {'pool': 'mean', '_target_': 'encoder.MoleBERTEncoder'}\n"
     ]
    },
    {
     "name": "stderr",
     "output_type": "stream",
     "text": [
      " 30%|██▉       | 111/372 [00:48<01:55,  2.27it/s]"
     ]
    },
    {
     "name": "stdout",
     "output_type": "stream",
     "text": [
      "encoder.MoleBERTEncoder {'pool': 'mean', '_target_': 'encoder.MoleBERTEncoder'}\n"
     ]
    },
    {
     "name": "stderr",
     "output_type": "stream",
     "text": [
      " 30%|███       | 112/372 [00:49<01:52,  2.31it/s]"
     ]
    },
    {
     "name": "stdout",
     "output_type": "stream",
     "text": [
      "encoder.ChemBERTaEncoder {'pool': 'mean', '_target_': 'encoder.ChemBERTaEncoder', 'pretrained_model_name_or_path': 'seyonec/ChemBERTa_zinc250k_v2_40k'}\n"
     ]
    },
    {
     "name": "stderr",
     "output_type": "stream",
     "text": [
      " 30%|███       | 113/372 [00:49<01:54,  2.26it/s]"
     ]
    },
    {
     "name": "stdout",
     "output_type": "stream",
     "text": [
      "encoder.ChemBERTaEncoder {'pool': 'mean', '_target_': 'encoder.ChemBERTaEncoder', 'pretrained_model_name_or_path': 'seyonec/ChemBERTa_zinc250k_v2_40k'}\n"
     ]
    },
    {
     "name": "stderr",
     "output_type": "stream",
     "text": [
      " 31%|███       | 114/372 [00:50<01:49,  2.36it/s]"
     ]
    },
    {
     "name": "stdout",
     "output_type": "stream",
     "text": [
      "encoder.ChemBERTaEncoder {'pool': 'mean', '_target_': 'encoder.ChemBERTaEncoder', 'pretrained_model_name_or_path': 'seyonec/ChemBERTa_zinc250k_v2_40k'}\n"
     ]
    },
    {
     "name": "stderr",
     "output_type": "stream",
     "text": [
      " 31%|███       | 115/372 [00:50<01:42,  2.51it/s]"
     ]
    },
    {
     "name": "stdout",
     "output_type": "stream",
     "text": [
      "encoder.ChemBERTaEncoder {'pool': 'mean', '_target_': 'encoder.ChemBERTaEncoder', 'pretrained_model_name_or_path': 'seyonec/ChemBERTa_zinc250k_v2_40k'}\n"
     ]
    },
    {
     "name": "stderr",
     "output_type": "stream",
     "text": [
      " 31%|███       | 116/372 [00:50<01:39,  2.57it/s]"
     ]
    },
    {
     "name": "stdout",
     "output_type": "stream",
     "text": [
      "encoder.ChemBERTaEncoder {'pool': 'mean', '_target_': 'encoder.ChemBERTaEncoder', 'pretrained_model_name_or_path': 'seyonec/ChemBERTa_zinc250k_v2_40k'}\n"
     ]
    },
    {
     "name": "stderr",
     "output_type": "stream",
     "text": [
      " 31%|███▏      | 117/372 [00:51<01:44,  2.44it/s]"
     ]
    },
    {
     "name": "stdout",
     "output_type": "stream",
     "text": [
      "encoder.AtomPairs2DFingerprintCount {'_target_': 'encoder.AtomPairs2DFingerprintCount'}\n"
     ]
    },
    {
     "name": "stderr",
     "output_type": "stream",
     "text": [
      " 32%|███▏      | 118/372 [00:51<01:49,  2.32it/s]"
     ]
    },
    {
     "name": "stdout",
     "output_type": "stream",
     "text": [
      "encoder.AtomPairs2DFingerprintCount {'_target_': 'encoder.AtomPairs2DFingerprintCount'}\n"
     ]
    },
    {
     "name": "stderr",
     "output_type": "stream",
     "text": [
      " 32%|███▏      | 119/372 [00:52<01:49,  2.32it/s]"
     ]
    },
    {
     "name": "stdout",
     "output_type": "stream",
     "text": [
      "encoder.AtomPairs2DFingerprintCount {'_target_': 'encoder.AtomPairs2DFingerprintCount'}\n"
     ]
    },
    {
     "name": "stderr",
     "output_type": "stream",
     "text": [
      " 32%|███▏      | 120/372 [00:52<01:47,  2.34it/s]"
     ]
    },
    {
     "name": "stdout",
     "output_type": "stream",
     "text": [
      "encoder.AtomPairs2DFingerprintCount {'_target_': 'encoder.AtomPairs2DFingerprintCount'}\n"
     ]
    },
    {
     "name": "stderr",
     "output_type": "stream",
     "text": [
      " 33%|███▎      | 121/372 [00:53<01:47,  2.33it/s]"
     ]
    },
    {
     "name": "stdout",
     "output_type": "stream",
     "text": [
      "encoder.AtomPairs2DFingerprintCount {'_target_': 'encoder.AtomPairs2DFingerprintCount'}\n"
     ]
    },
    {
     "name": "stderr",
     "output_type": "stream",
     "text": [
      " 33%|███▎      | 122/372 [00:53<01:55,  2.17it/s]"
     ]
    },
    {
     "name": "stdout",
     "output_type": "stream",
     "text": [
      "encoder.SubstructureFingerprintCount {'_target_': 'encoder.SubstructureFingerprintCount'}\n"
     ]
    },
    {
     "name": "stderr",
     "output_type": "stream",
     "text": [
      " 33%|███▎      | 123/372 [00:54<02:00,  2.06it/s]"
     ]
    },
    {
     "name": "stdout",
     "output_type": "stream",
     "text": [
      "encoder.SubstructureFingerprintCount {'_target_': 'encoder.SubstructureFingerprintCount'}\n"
     ]
    },
    {
     "name": "stderr",
     "output_type": "stream",
     "text": [
      " 33%|███▎      | 124/372 [00:54<01:57,  2.11it/s]"
     ]
    },
    {
     "name": "stdout",
     "output_type": "stream",
     "text": [
      "encoder.SubstructureFingerprintCount {'_target_': 'encoder.SubstructureFingerprintCount'}\n"
     ]
    },
    {
     "name": "stderr",
     "output_type": "stream",
     "text": [
      " 34%|███▎      | 125/372 [00:55<01:52,  2.19it/s]"
     ]
    },
    {
     "name": "stdout",
     "output_type": "stream",
     "text": [
      "encoder.SubstructureFingerprintCount {'_target_': 'encoder.SubstructureFingerprintCount'}\n"
     ]
    },
    {
     "name": "stderr",
     "output_type": "stream",
     "text": [
      " 34%|███▍      | 126/372 [00:55<01:43,  2.38it/s]"
     ]
    },
    {
     "name": "stdout",
     "output_type": "stream",
     "text": [
      "encoder.SubstructureFingerprintCount {'_target_': 'encoder.SubstructureFingerprintCount'}\n"
     ]
    },
    {
     "name": "stderr",
     "output_type": "stream",
     "text": [
      " 34%|███▍      | 127/372 [00:55<01:44,  2.36it/s]"
     ]
    },
    {
     "name": "stdout",
     "output_type": "stream",
     "text": [
      "encoder.PubchemFingerprinter {'_target_': 'encoder.PubchemFingerprinter'}\n"
     ]
    },
    {
     "name": "stderr",
     "output_type": "stream",
     "text": [
      " 34%|███▍      | 128/372 [00:56<01:38,  2.49it/s]"
     ]
    },
    {
     "name": "stdout",
     "output_type": "stream",
     "text": [
      "encoder.PubchemFingerprinter {'_target_': 'encoder.PubchemFingerprinter'}\n"
     ]
    },
    {
     "name": "stderr",
     "output_type": "stream",
     "text": [
      " 35%|███▍      | 129/372 [00:56<01:40,  2.42it/s]"
     ]
    },
    {
     "name": "stdout",
     "output_type": "stream",
     "text": [
      "encoder.PubchemFingerprinter {'_target_': 'encoder.PubchemFingerprinter'}\n"
     ]
    },
    {
     "name": "stderr",
     "output_type": "stream",
     "text": [
      " 35%|███▍      | 130/372 [00:57<01:37,  2.49it/s]"
     ]
    },
    {
     "name": "stdout",
     "output_type": "stream",
     "text": [
      "encoder.PubchemFingerprinter {'_target_': 'encoder.PubchemFingerprinter'}\n"
     ]
    },
    {
     "name": "stderr",
     "output_type": "stream",
     "text": [
      " 35%|███▌      | 131/372 [00:57<01:42,  2.35it/s]"
     ]
    },
    {
     "name": "stdout",
     "output_type": "stream",
     "text": [
      "encoder.PubchemFingerprinter {'_target_': 'encoder.PubchemFingerprinter'}\n"
     ]
    },
    {
     "name": "stderr",
     "output_type": "stream",
     "text": [
      " 35%|███▌      | 132/372 [00:57<01:43,  2.33it/s]"
     ]
    },
    {
     "name": "stdout",
     "output_type": "stream",
     "text": [
      "encoder.MACCSFingerprinter {'_target_': 'encoder.MACCSFingerprinter'}\n"
     ]
    },
    {
     "name": "stderr",
     "output_type": "stream",
     "text": [
      " 36%|███▌      | 133/372 [00:58<01:37,  2.46it/s]"
     ]
    },
    {
     "name": "stdout",
     "output_type": "stream",
     "text": [
      "encoder.MACCSFingerprinter {'_target_': 'encoder.MACCSFingerprinter'}\n"
     ]
    },
    {
     "name": "stderr",
     "output_type": "stream",
     "text": [
      " 36%|███▌      | 134/372 [00:58<01:41,  2.35it/s]"
     ]
    },
    {
     "name": "stdout",
     "output_type": "stream",
     "text": [
      "encoder.MACCSFingerprinter {'_target_': 'encoder.MACCSFingerprinter'}\n"
     ]
    },
    {
     "name": "stderr",
     "output_type": "stream",
     "text": [
      " 36%|███▋      | 135/372 [00:59<01:41,  2.32it/s]"
     ]
    },
    {
     "name": "stdout",
     "output_type": "stream",
     "text": [
      "encoder.MACCSFingerprinter {'_target_': 'encoder.MACCSFingerprinter'}\n"
     ]
    },
    {
     "name": "stderr",
     "output_type": "stream",
     "text": [
      " 37%|███▋      | 136/372 [00:59<01:42,  2.31it/s]"
     ]
    },
    {
     "name": "stdout",
     "output_type": "stream",
     "text": [
      "encoder.MACCSFingerprinter {'_target_': 'encoder.MACCSFingerprinter'}\n"
     ]
    },
    {
     "name": "stderr",
     "output_type": "stream",
     "text": [
      " 37%|███▋      | 137/372 [01:00<01:37,  2.40it/s]"
     ]
    },
    {
     "name": "stdout",
     "output_type": "stream",
     "text": [
      "encoder.KlekotaRothFingerprintCount {'_target_': 'encoder.KlekotaRothFingerprintCount'}\n"
     ]
    },
    {
     "name": "stderr",
     "output_type": "stream",
     "text": [
      " 37%|███▋      | 138/372 [01:00<01:38,  2.36it/s]"
     ]
    },
    {
     "name": "stdout",
     "output_type": "stream",
     "text": [
      "encoder.KlekotaRothFingerprintCount {'_target_': 'encoder.KlekotaRothFingerprintCount'}\n"
     ]
    },
    {
     "name": "stderr",
     "output_type": "stream",
     "text": [
      " 37%|███▋      | 139/372 [01:00<01:36,  2.42it/s]"
     ]
    },
    {
     "name": "stdout",
     "output_type": "stream",
     "text": [
      "encoder.KlekotaRothFingerprintCount {'_target_': 'encoder.KlekotaRothFingerprintCount'}\n"
     ]
    },
    {
     "name": "stderr",
     "output_type": "stream",
     "text": [
      " 38%|███▊      | 140/372 [01:01<01:38,  2.36it/s]"
     ]
    },
    {
     "name": "stdout",
     "output_type": "stream",
     "text": [
      "encoder.KlekotaRothFingerprintCount {'_target_': 'encoder.KlekotaRothFingerprintCount'}\n"
     ]
    },
    {
     "name": "stderr",
     "output_type": "stream",
     "text": [
      " 38%|███▊      | 141/372 [01:01<01:37,  2.38it/s]"
     ]
    },
    {
     "name": "stdout",
     "output_type": "stream",
     "text": [
      "encoder.KlekotaRothFingerprintCount {'_target_': 'encoder.KlekotaRothFingerprintCount'}\n"
     ]
    },
    {
     "name": "stderr",
     "output_type": "stream",
     "text": [
      " 38%|███▊      | 142/372 [01:02<01:39,  2.32it/s]"
     ]
    },
    {
     "name": "stdout",
     "output_type": "stream",
     "text": [
      "encoder.EStateFingerprinter {'_target_': 'encoder.EStateFingerprinter'}\n"
     ]
    },
    {
     "name": "stderr",
     "output_type": "stream",
     "text": [
      " 38%|███▊      | 143/372 [01:02<01:40,  2.28it/s]"
     ]
    },
    {
     "name": "stdout",
     "output_type": "stream",
     "text": [
      "encoder.EStateFingerprinter {'_target_': 'encoder.EStateFingerprinter'}\n"
     ]
    },
    {
     "name": "stderr",
     "output_type": "stream",
     "text": [
      " 39%|███▊      | 144/372 [01:03<01:44,  2.18it/s]"
     ]
    },
    {
     "name": "stdout",
     "output_type": "stream",
     "text": [
      "encoder.EStateFingerprinter {'_target_': 'encoder.EStateFingerprinter'}\n"
     ]
    },
    {
     "name": "stderr",
     "output_type": "stream",
     "text": [
      " 39%|███▉      | 145/372 [01:03<01:42,  2.21it/s]"
     ]
    },
    {
     "name": "stdout",
     "output_type": "stream",
     "text": [
      "encoder.EStateFingerprinter {'_target_': 'encoder.EStateFingerprinter'}\n"
     ]
    },
    {
     "name": "stderr",
     "output_type": "stream",
     "text": [
      " 39%|███▉      | 146/372 [01:04<01:41,  2.22it/s]"
     ]
    },
    {
     "name": "stdout",
     "output_type": "stream",
     "text": [
      "encoder.EStateFingerprinter {'_target_': 'encoder.EStateFingerprinter'}\n"
     ]
    },
    {
     "name": "stderr",
     "output_type": "stream",
     "text": [
      " 40%|███▉      | 147/372 [01:04<01:39,  2.26it/s]"
     ]
    },
    {
     "name": "stdout",
     "output_type": "stream",
     "text": [
      "encoder.KPGTEncoder {'_target_': 'encoder.KPGTEncoder'}\n"
     ]
    },
    {
     "name": "stderr",
     "output_type": "stream",
     "text": [
      " 40%|███▉      | 148/372 [01:04<01:38,  2.27it/s]"
     ]
    },
    {
     "name": "stdout",
     "output_type": "stream",
     "text": [
      "encoder.KPGTEncoder {'_target_': 'encoder.KPGTEncoder'}\n"
     ]
    },
    {
     "name": "stderr",
     "output_type": "stream",
     "text": [
      " 40%|████      | 149/372 [01:05<01:34,  2.36it/s]"
     ]
    },
    {
     "name": "stdout",
     "output_type": "stream",
     "text": [
      "encoder.KPGTEncoder {'_target_': 'encoder.KPGTEncoder'}\n"
     ]
    },
    {
     "name": "stderr",
     "output_type": "stream",
     "text": [
      " 40%|████      | 150/372 [01:05<01:36,  2.29it/s]"
     ]
    },
    {
     "name": "stdout",
     "output_type": "stream",
     "text": [
      "encoder.KPGTEncoder {'_target_': 'encoder.KPGTEncoder'}\n"
     ]
    },
    {
     "name": "stderr",
     "output_type": "stream",
     "text": [
      " 41%|████      | 151/372 [01:06<01:35,  2.31it/s]"
     ]
    },
    {
     "name": "stdout",
     "output_type": "stream",
     "text": [
      "encoder.KPGTEncoder {'_target_': 'encoder.KPGTEncoder'}\n"
     ]
    },
    {
     "name": "stderr",
     "output_type": "stream",
     "text": [
      " 41%|████      | 152/372 [01:06<01:34,  2.33it/s]"
     ]
    },
    {
     "name": "stdout",
     "output_type": "stream",
     "text": [
      "encoder.MolCLREncoder {'pool': 'mean', '_target_': 'encoder.MolCLREncoder', 'architecture': 'GIN'}\n"
     ]
    },
    {
     "name": "stderr",
     "output_type": "stream",
     "text": [
      " 41%|████      | 153/372 [01:06<01:31,  2.38it/s]"
     ]
    },
    {
     "name": "stdout",
     "output_type": "stream",
     "text": [
      "encoder.MolCLREncoder {'pool': 'mean', '_target_': 'encoder.MolCLREncoder', 'architecture': 'GIN'}\n"
     ]
    },
    {
     "name": "stderr",
     "output_type": "stream",
     "text": [
      " 41%|████▏     | 154/372 [01:07<01:40,  2.18it/s]"
     ]
    },
    {
     "name": "stdout",
     "output_type": "stream",
     "text": [
      "encoder.MolCLREncoder {'pool': 'mean', '_target_': 'encoder.MolCLREncoder', 'architecture': 'GIN'}\n"
     ]
    },
    {
     "name": "stderr",
     "output_type": "stream",
     "text": [
      " 42%|████▏     | 155/372 [01:07<01:34,  2.30it/s]"
     ]
    },
    {
     "name": "stdout",
     "output_type": "stream",
     "text": [
      "encoder.MolCLREncoder {'pool': 'mean', '_target_': 'encoder.MolCLREncoder', 'architecture': 'GIN'}\n"
     ]
    },
    {
     "name": "stderr",
     "output_type": "stream",
     "text": [
      " 42%|████▏     | 156/372 [01:08<01:33,  2.32it/s]"
     ]
    },
    {
     "name": "stdout",
     "output_type": "stream",
     "text": [
      "encoder.MolCLREncoder {'pool': 'mean', '_target_': 'encoder.MolCLREncoder', 'architecture': 'GIN'}\n"
     ]
    },
    {
     "name": "stderr",
     "output_type": "stream",
     "text": [
      " 42%|████▏     | 157/372 [01:08<01:32,  2.31it/s]"
     ]
    },
    {
     "name": "stdout",
     "output_type": "stream",
     "text": [
      "encoder.MoleBERTEncoder {'pool': 'mean', '_target_': 'encoder.MoleBERTEncoder'}\n"
     ]
    },
    {
     "name": "stderr",
     "output_type": "stream",
     "text": [
      " 42%|████▏     | 158/372 [01:09<01:33,  2.28it/s]"
     ]
    },
    {
     "name": "stdout",
     "output_type": "stream",
     "text": [
      "encoder.MoleBERTEncoder {'pool': 'mean', '_target_': 'encoder.MoleBERTEncoder'}\n"
     ]
    },
    {
     "name": "stderr",
     "output_type": "stream",
     "text": [
      " 43%|████▎     | 159/372 [01:09<01:30,  2.35it/s]"
     ]
    },
    {
     "name": "stdout",
     "output_type": "stream",
     "text": [
      "encoder.MoleBERTEncoder {'pool': 'mean', '_target_': 'encoder.MoleBERTEncoder'}\n"
     ]
    },
    {
     "name": "stderr",
     "output_type": "stream",
     "text": [
      " 43%|████▎     | 160/372 [01:10<01:29,  2.36it/s]"
     ]
    },
    {
     "name": "stdout",
     "output_type": "stream",
     "text": [
      "encoder.MoleBERTEncoder {'pool': 'mean', '_target_': 'encoder.MoleBERTEncoder'}\n"
     ]
    },
    {
     "name": "stderr",
     "output_type": "stream",
     "text": [
      " 43%|████▎     | 161/372 [01:10<01:29,  2.35it/s]"
     ]
    },
    {
     "name": "stdout",
     "output_type": "stream",
     "text": [
      "encoder.MoleBERTEncoder {'pool': 'mean', '_target_': 'encoder.MoleBERTEncoder'}\n"
     ]
    },
    {
     "name": "stderr",
     "output_type": "stream",
     "text": [
      " 44%|████▎     | 162/372 [01:10<01:23,  2.51it/s]"
     ]
    },
    {
     "name": "stdout",
     "output_type": "stream",
     "text": [
      "encoder.ChemBERTaEncoder {'pool': 'mean', '_target_': 'encoder.ChemBERTaEncoder', 'pretrained_model_name_or_path': 'seyonec/ChemBERTa_zinc250k_v2_40k'}\n"
     ]
    },
    {
     "name": "stderr",
     "output_type": "stream",
     "text": [
      " 44%|████▍     | 163/372 [01:11<01:21,  2.56it/s]"
     ]
    },
    {
     "name": "stdout",
     "output_type": "stream",
     "text": [
      "encoder.ChemBERTaEncoder {'pool': 'mean', '_target_': 'encoder.ChemBERTaEncoder', 'pretrained_model_name_or_path': 'seyonec/ChemBERTa_zinc250k_v2_40k'}\n"
     ]
    },
    {
     "name": "stderr",
     "output_type": "stream",
     "text": [
      " 44%|████▍     | 164/372 [01:11<01:19,  2.62it/s]"
     ]
    },
    {
     "name": "stdout",
     "output_type": "stream",
     "text": [
      "encoder.ChemBERTaEncoder {'pool': 'mean', '_target_': 'encoder.ChemBERTaEncoder', 'pretrained_model_name_or_path': 'seyonec/ChemBERTa_zinc250k_v2_40k'}\n"
     ]
    },
    {
     "name": "stderr",
     "output_type": "stream",
     "text": [
      " 44%|████▍     | 165/372 [01:12<01:26,  2.39it/s]"
     ]
    },
    {
     "name": "stdout",
     "output_type": "stream",
     "text": [
      "encoder.ChemBERTaEncoder {'pool': 'mean', '_target_': 'encoder.ChemBERTaEncoder', 'pretrained_model_name_or_path': 'seyonec/ChemBERTa_zinc250k_v2_40k'}\n"
     ]
    },
    {
     "name": "stderr",
     "output_type": "stream",
     "text": [
      " 45%|████▍     | 166/372 [01:12<01:26,  2.38it/s]"
     ]
    },
    {
     "name": "stdout",
     "output_type": "stream",
     "text": [
      "encoder.ChemBERTaEncoder {'pool': 'mean', '_target_': 'encoder.ChemBERTaEncoder', 'pretrained_model_name_or_path': 'seyonec/ChemBERTa_zinc250k_v2_40k'}\n"
     ]
    },
    {
     "name": "stderr",
     "output_type": "stream",
     "text": [
      " 45%|████▍     | 167/372 [01:12<01:25,  2.39it/s]"
     ]
    },
    {
     "name": "stdout",
     "output_type": "stream",
     "text": [
      "encoder.AtomPairs2DFingerprintCount {'_target_': 'encoder.AtomPairs2DFingerprintCount'}\n"
     ]
    },
    {
     "name": "stderr",
     "output_type": "stream",
     "text": [
      " 45%|████▌     | 168/372 [01:13<01:29,  2.29it/s]"
     ]
    },
    {
     "name": "stdout",
     "output_type": "stream",
     "text": [
      "encoder.AtomPairs2DFingerprintCount {'_target_': 'encoder.AtomPairs2DFingerprintCount'}\n"
     ]
    },
    {
     "name": "stderr",
     "output_type": "stream",
     "text": [
      " 45%|████▌     | 169/372 [01:13<01:27,  2.31it/s]"
     ]
    },
    {
     "name": "stdout",
     "output_type": "stream",
     "text": [
      "encoder.AtomPairs2DFingerprintCount {'_target_': 'encoder.AtomPairs2DFingerprintCount'}\n"
     ]
    },
    {
     "name": "stderr",
     "output_type": "stream",
     "text": [
      " 46%|████▌     | 170/372 [01:14<01:26,  2.33it/s]"
     ]
    },
    {
     "name": "stdout",
     "output_type": "stream",
     "text": [
      "encoder.AtomPairs2DFingerprintCount {'_target_': 'encoder.AtomPairs2DFingerprintCount'}\n"
     ]
    },
    {
     "name": "stderr",
     "output_type": "stream",
     "text": [
      " 46%|████▌     | 171/372 [01:14<01:27,  2.30it/s]"
     ]
    },
    {
     "name": "stdout",
     "output_type": "stream",
     "text": [
      "encoder.AtomPairs2DFingerprintCount {'_target_': 'encoder.AtomPairs2DFingerprintCount'}\n"
     ]
    },
    {
     "name": "stderr",
     "output_type": "stream",
     "text": [
      " 46%|████▌     | 172/372 [01:15<01:25,  2.35it/s]"
     ]
    },
    {
     "name": "stdout",
     "output_type": "stream",
     "text": [
      "encoder.SubstructureFingerprintCount {'_target_': 'encoder.SubstructureFingerprintCount'}\n"
     ]
    },
    {
     "name": "stderr",
     "output_type": "stream",
     "text": [
      " 47%|████▋     | 173/372 [01:15<01:25,  2.34it/s]"
     ]
    },
    {
     "name": "stdout",
     "output_type": "stream",
     "text": [
      "encoder.SubstructureFingerprintCount {'_target_': 'encoder.SubstructureFingerprintCount'}\n"
     ]
    },
    {
     "name": "stderr",
     "output_type": "stream",
     "text": [
      " 47%|████▋     | 174/372 [01:15<01:26,  2.30it/s]"
     ]
    },
    {
     "name": "stdout",
     "output_type": "stream",
     "text": [
      "encoder.SubstructureFingerprintCount {'_target_': 'encoder.SubstructureFingerprintCount'}\n"
     ]
    },
    {
     "name": "stderr",
     "output_type": "stream",
     "text": [
      " 47%|████▋     | 175/372 [01:16<01:28,  2.23it/s]"
     ]
    },
    {
     "name": "stdout",
     "output_type": "stream",
     "text": [
      "encoder.SubstructureFingerprintCount {'_target_': 'encoder.SubstructureFingerprintCount'}\n"
     ]
    },
    {
     "name": "stderr",
     "output_type": "stream",
     "text": [
      " 47%|████▋     | 176/372 [01:16<01:25,  2.29it/s]"
     ]
    },
    {
     "name": "stdout",
     "output_type": "stream",
     "text": [
      "encoder.SubstructureFingerprintCount {'_target_': 'encoder.SubstructureFingerprintCount'}\n"
     ]
    },
    {
     "name": "stderr",
     "output_type": "stream",
     "text": [
      " 48%|████▊     | 177/372 [01:17<01:24,  2.31it/s]"
     ]
    },
    {
     "name": "stdout",
     "output_type": "stream",
     "text": [
      "encoder.PubchemFingerprinter {'_target_': 'encoder.PubchemFingerprinter'}\n"
     ]
    },
    {
     "name": "stderr",
     "output_type": "stream",
     "text": [
      " 48%|████▊     | 178/372 [01:17<01:22,  2.34it/s]"
     ]
    },
    {
     "name": "stdout",
     "output_type": "stream",
     "text": [
      "encoder.PubchemFingerprinter {'_target_': 'encoder.PubchemFingerprinter'}\n"
     ]
    },
    {
     "name": "stderr",
     "output_type": "stream",
     "text": [
      " 48%|████▊     | 179/372 [01:18<01:20,  2.39it/s]"
     ]
    },
    {
     "name": "stdout",
     "output_type": "stream",
     "text": [
      "encoder.PubchemFingerprinter {'_target_': 'encoder.PubchemFingerprinter'}\n"
     ]
    },
    {
     "name": "stderr",
     "output_type": "stream",
     "text": [
      " 48%|████▊     | 180/372 [01:18<01:22,  2.31it/s]"
     ]
    },
    {
     "name": "stdout",
     "output_type": "stream",
     "text": [
      "encoder.PubchemFingerprinter {'_target_': 'encoder.PubchemFingerprinter'}\n"
     ]
    },
    {
     "name": "stderr",
     "output_type": "stream",
     "text": [
      " 49%|████▊     | 181/372 [01:19<01:26,  2.20it/s]"
     ]
    },
    {
     "name": "stdout",
     "output_type": "stream",
     "text": [
      "encoder.PubchemFingerprinter {'_target_': 'encoder.PubchemFingerprinter'}\n"
     ]
    },
    {
     "name": "stderr",
     "output_type": "stream",
     "text": [
      " 49%|████▉     | 182/372 [01:19<01:28,  2.14it/s]"
     ]
    },
    {
     "name": "stdout",
     "output_type": "stream",
     "text": [
      "encoder.MACCSFingerprinter {'_target_': 'encoder.MACCSFingerprinter'}\n"
     ]
    },
    {
     "name": "stderr",
     "output_type": "stream",
     "text": [
      " 49%|████▉     | 183/372 [01:19<01:26,  2.19it/s]"
     ]
    },
    {
     "name": "stdout",
     "output_type": "stream",
     "text": [
      "encoder.MACCSFingerprinter {'_target_': 'encoder.MACCSFingerprinter'}\n"
     ]
    },
    {
     "name": "stderr",
     "output_type": "stream",
     "text": [
      " 49%|████▉     | 184/372 [01:20<01:45,  1.78it/s]"
     ]
    },
    {
     "name": "stdout",
     "output_type": "stream",
     "text": [
      "encoder.MACCSFingerprinter {'_target_': 'encoder.MACCSFingerprinter'}\n"
     ]
    },
    {
     "name": "stderr",
     "output_type": "stream",
     "text": [
      " 50%|████▉     | 185/372 [01:21<01:43,  1.80it/s]"
     ]
    },
    {
     "name": "stdout",
     "output_type": "stream",
     "text": [
      "encoder.MACCSFingerprinter {'_target_': 'encoder.MACCSFingerprinter'}\n"
     ]
    },
    {
     "name": "stderr",
     "output_type": "stream",
     "text": [
      " 50%|█████     | 186/372 [01:21<01:35,  1.95it/s]"
     ]
    },
    {
     "name": "stdout",
     "output_type": "stream",
     "text": [
      "encoder.MACCSFingerprinter {'_target_': 'encoder.MACCSFingerprinter'}\n"
     ]
    },
    {
     "name": "stderr",
     "output_type": "stream",
     "text": [
      " 50%|█████     | 187/372 [01:22<01:34,  1.96it/s]"
     ]
    },
    {
     "name": "stdout",
     "output_type": "stream",
     "text": [
      "encoder.KlekotaRothFingerprintCount {'_target_': 'encoder.KlekotaRothFingerprintCount'}\n"
     ]
    },
    {
     "name": "stderr",
     "output_type": "stream",
     "text": [
      " 51%|█████     | 188/372 [01:22<01:34,  1.96it/s]"
     ]
    },
    {
     "name": "stdout",
     "output_type": "stream",
     "text": [
      "encoder.KlekotaRothFingerprintCount {'_target_': 'encoder.KlekotaRothFingerprintCount'}\n"
     ]
    },
    {
     "name": "stderr",
     "output_type": "stream",
     "text": [
      " 51%|█████     | 189/372 [01:23<01:26,  2.12it/s]"
     ]
    },
    {
     "name": "stdout",
     "output_type": "stream",
     "text": [
      "encoder.KlekotaRothFingerprintCount {'_target_': 'encoder.KlekotaRothFingerprintCount'}\n"
     ]
    },
    {
     "name": "stderr",
     "output_type": "stream",
     "text": [
      " 51%|█████     | 190/372 [01:23<01:22,  2.20it/s]"
     ]
    },
    {
     "name": "stdout",
     "output_type": "stream",
     "text": [
      "encoder.KlekotaRothFingerprintCount {'_target_': 'encoder.KlekotaRothFingerprintCount'}\n"
     ]
    },
    {
     "name": "stderr",
     "output_type": "stream",
     "text": [
      " 51%|█████▏    | 191/372 [01:23<01:21,  2.23it/s]"
     ]
    },
    {
     "name": "stdout",
     "output_type": "stream",
     "text": [
      "encoder.KlekotaRothFingerprintCount {'_target_': 'encoder.KlekotaRothFingerprintCount'}\n"
     ]
    },
    {
     "name": "stderr",
     "output_type": "stream",
     "text": [
      " 52%|█████▏    | 192/372 [01:24<01:17,  2.31it/s]"
     ]
    },
    {
     "name": "stdout",
     "output_type": "stream",
     "text": [
      "encoder.EStateFingerprinter {'_target_': 'encoder.EStateFingerprinter'}\n"
     ]
    },
    {
     "name": "stderr",
     "output_type": "stream",
     "text": [
      " 52%|█████▏    | 193/372 [01:24<01:18,  2.27it/s]"
     ]
    },
    {
     "name": "stdout",
     "output_type": "stream",
     "text": [
      "encoder.EStateFingerprinter {'_target_': 'encoder.EStateFingerprinter'}\n"
     ]
    },
    {
     "name": "stderr",
     "output_type": "stream",
     "text": [
      " 52%|█████▏    | 194/372 [01:25<01:16,  2.31it/s]"
     ]
    },
    {
     "name": "stdout",
     "output_type": "stream",
     "text": [
      "encoder.EStateFingerprinter {'_target_': 'encoder.EStateFingerprinter'}\n"
     ]
    },
    {
     "name": "stderr",
     "output_type": "stream",
     "text": [
      " 52%|█████▏    | 195/372 [01:25<01:20,  2.20it/s]"
     ]
    },
    {
     "name": "stdout",
     "output_type": "stream",
     "text": [
      "encoder.EStateFingerprinter {'_target_': 'encoder.EStateFingerprinter'}\n"
     ]
    },
    {
     "name": "stderr",
     "output_type": "stream",
     "text": [
      " 53%|█████▎    | 196/372 [01:26<01:17,  2.27it/s]"
     ]
    },
    {
     "name": "stdout",
     "output_type": "stream",
     "text": [
      "encoder.EStateFingerprinter {'_target_': 'encoder.EStateFingerprinter'}\n"
     ]
    },
    {
     "name": "stderr",
     "output_type": "stream",
     "text": [
      " 53%|█████▎    | 197/372 [01:26<01:18,  2.23it/s]"
     ]
    },
    {
     "name": "stdout",
     "output_type": "stream",
     "text": [
      "encoder.KPGTEncoder {'_target_': 'encoder.KPGTEncoder'}\n"
     ]
    },
    {
     "name": "stderr",
     "output_type": "stream",
     "text": [
      " 53%|█████▎    | 198/372 [01:26<01:14,  2.34it/s]"
     ]
    },
    {
     "name": "stdout",
     "output_type": "stream",
     "text": [
      "encoder.KPGTEncoder {'_target_': 'encoder.KPGTEncoder'}\n"
     ]
    },
    {
     "name": "stderr",
     "output_type": "stream",
     "text": [
      " 53%|█████▎    | 199/372 [01:27<01:14,  2.34it/s]"
     ]
    },
    {
     "name": "stdout",
     "output_type": "stream",
     "text": [
      "encoder.KPGTEncoder {'_target_': 'encoder.KPGTEncoder'}\n"
     ]
    },
    {
     "name": "stderr",
     "output_type": "stream",
     "text": [
      " 54%|█████▍    | 200/372 [01:27<01:18,  2.20it/s]"
     ]
    },
    {
     "name": "stdout",
     "output_type": "stream",
     "text": [
      "encoder.KPGTEncoder {'_target_': 'encoder.KPGTEncoder'}\n"
     ]
    },
    {
     "name": "stderr",
     "output_type": "stream",
     "text": [
      " 54%|█████▍    | 201/372 [01:28<01:18,  2.17it/s]"
     ]
    },
    {
     "name": "stdout",
     "output_type": "stream",
     "text": [
      "encoder.KPGTEncoder {'_target_': 'encoder.KPGTEncoder'}\n"
     ]
    },
    {
     "name": "stderr",
     "output_type": "stream",
     "text": [
      " 54%|█████▍    | 202/372 [01:28<01:16,  2.22it/s]"
     ]
    },
    {
     "name": "stdout",
     "output_type": "stream",
     "text": [
      "encoder.MolCLREncoder {'pool': 'mean', '_target_': 'encoder.MolCLREncoder', 'architecture': 'GIN'}\n"
     ]
    },
    {
     "name": "stderr",
     "output_type": "stream",
     "text": [
      " 55%|█████▍    | 203/372 [01:29<01:13,  2.28it/s]"
     ]
    },
    {
     "name": "stdout",
     "output_type": "stream",
     "text": [
      "encoder.MolCLREncoder {'pool': 'mean', '_target_': 'encoder.MolCLREncoder', 'architecture': 'GIN'}\n"
     ]
    },
    {
     "name": "stderr",
     "output_type": "stream",
     "text": [
      " 55%|█████▍    | 204/372 [01:29<01:13,  2.28it/s]"
     ]
    },
    {
     "name": "stdout",
     "output_type": "stream",
     "text": [
      "encoder.MolCLREncoder {'pool': 'mean', '_target_': 'encoder.MolCLREncoder', 'architecture': 'GIN'}\n"
     ]
    },
    {
     "name": "stderr",
     "output_type": "stream",
     "text": [
      " 55%|█████▌    | 205/372 [01:30<01:09,  2.40it/s]"
     ]
    },
    {
     "name": "stdout",
     "output_type": "stream",
     "text": [
      "encoder.MolCLREncoder {'pool': 'mean', '_target_': 'encoder.MolCLREncoder', 'architecture': 'GIN'}\n"
     ]
    },
    {
     "name": "stderr",
     "output_type": "stream",
     "text": [
      " 55%|█████▌    | 206/372 [01:30<01:10,  2.35it/s]"
     ]
    },
    {
     "name": "stdout",
     "output_type": "stream",
     "text": [
      "encoder.MolCLREncoder {'pool': 'mean', '_target_': 'encoder.MolCLREncoder', 'architecture': 'GIN'}\n"
     ]
    },
    {
     "name": "stderr",
     "output_type": "stream",
     "text": [
      " 56%|█████▌    | 207/372 [01:30<01:09,  2.39it/s]"
     ]
    },
    {
     "name": "stdout",
     "output_type": "stream",
     "text": [
      "encoder.MoleBERTEncoder {'pool': 'mean', '_target_': 'encoder.MoleBERTEncoder'}\n"
     ]
    },
    {
     "name": "stderr",
     "output_type": "stream",
     "text": [
      " 56%|█████▌    | 208/372 [01:31<01:09,  2.35it/s]"
     ]
    },
    {
     "name": "stdout",
     "output_type": "stream",
     "text": [
      "encoder.MoleBERTEncoder {'pool': 'mean', '_target_': 'encoder.MoleBERTEncoder'}\n"
     ]
    },
    {
     "name": "stderr",
     "output_type": "stream",
     "text": [
      " 56%|█████▌    | 209/372 [01:31<01:08,  2.38it/s]"
     ]
    },
    {
     "name": "stdout",
     "output_type": "stream",
     "text": [
      "encoder.MoleBERTEncoder {'pool': 'mean', '_target_': 'encoder.MoleBERTEncoder'}\n"
     ]
    },
    {
     "name": "stderr",
     "output_type": "stream",
     "text": [
      " 56%|█████▋    | 210/372 [01:32<01:11,  2.25it/s]"
     ]
    },
    {
     "name": "stdout",
     "output_type": "stream",
     "text": [
      "encoder.MoleBERTEncoder {'pool': 'mean', '_target_': 'encoder.MoleBERTEncoder'}\n"
     ]
    },
    {
     "name": "stderr",
     "output_type": "stream",
     "text": [
      " 57%|█████▋    | 211/372 [01:32<01:13,  2.20it/s]"
     ]
    },
    {
     "name": "stdout",
     "output_type": "stream",
     "text": [
      "encoder.MoleBERTEncoder {'pool': 'mean', '_target_': 'encoder.MoleBERTEncoder'}\n"
     ]
    },
    {
     "name": "stderr",
     "output_type": "stream",
     "text": [
      " 57%|█████▋    | 212/372 [01:33<01:12,  2.21it/s]"
     ]
    },
    {
     "name": "stdout",
     "output_type": "stream",
     "text": [
      "encoder.ChemBERTaEncoder {'pool': 'mean', '_target_': 'encoder.ChemBERTaEncoder', 'pretrained_model_name_or_path': 'seyonec/ChemBERTa_zinc250k_v2_40k'}\n"
     ]
    },
    {
     "name": "stderr",
     "output_type": "stream",
     "text": [
      " 57%|█████▋    | 213/372 [01:33<01:08,  2.31it/s]"
     ]
    },
    {
     "name": "stdout",
     "output_type": "stream",
     "text": [
      "encoder.ChemBERTaEncoder {'pool': 'mean', '_target_': 'encoder.ChemBERTaEncoder', 'pretrained_model_name_or_path': 'seyonec/ChemBERTa_zinc250k_v2_40k'}\n"
     ]
    },
    {
     "name": "stderr",
     "output_type": "stream",
     "text": [
      " 58%|█████▊    | 214/372 [01:33<01:07,  2.32it/s]"
     ]
    },
    {
     "name": "stdout",
     "output_type": "stream",
     "text": [
      "encoder.ChemBERTaEncoder {'pool': 'mean', '_target_': 'encoder.ChemBERTaEncoder', 'pretrained_model_name_or_path': 'seyonec/ChemBERTa_zinc250k_v2_40k'}\n"
     ]
    },
    {
     "name": "stderr",
     "output_type": "stream",
     "text": [
      " 58%|█████▊    | 215/372 [01:34<01:03,  2.48it/s]"
     ]
    },
    {
     "name": "stdout",
     "output_type": "stream",
     "text": [
      "encoder.ChemBERTaEncoder {'pool': 'mean', '_target_': 'encoder.ChemBERTaEncoder', 'pretrained_model_name_or_path': 'seyonec/ChemBERTa_zinc250k_v2_40k'}\n"
     ]
    },
    {
     "name": "stderr",
     "output_type": "stream",
     "text": [
      " 58%|█████▊    | 216/372 [01:34<01:02,  2.50it/s]"
     ]
    },
    {
     "name": "stdout",
     "output_type": "stream",
     "text": [
      "encoder.ChemBERTaEncoder {'pool': 'mean', '_target_': 'encoder.ChemBERTaEncoder', 'pretrained_model_name_or_path': 'seyonec/ChemBERTa_zinc250k_v2_40k'}\n"
     ]
    },
    {
     "name": "stderr",
     "output_type": "stream",
     "text": [
      " 58%|█████▊    | 217/372 [01:35<01:06,  2.33it/s]"
     ]
    },
    {
     "name": "stdout",
     "output_type": "stream",
     "text": [
      "encoder.AtomPairs2DFingerprintCount {'_target_': 'encoder.AtomPairs2DFingerprintCount'}\n"
     ]
    },
    {
     "name": "stderr",
     "output_type": "stream",
     "text": [
      " 59%|█████▊    | 218/372 [01:35<01:03,  2.43it/s]"
     ]
    },
    {
     "name": "stdout",
     "output_type": "stream",
     "text": [
      "encoder.AtomPairs2DFingerprintCount {'_target_': 'encoder.AtomPairs2DFingerprintCount'}\n"
     ]
    },
    {
     "name": "stderr",
     "output_type": "stream",
     "text": [
      " 59%|█████▉    | 219/372 [01:36<01:09,  2.19it/s]"
     ]
    },
    {
     "name": "stdout",
     "output_type": "stream",
     "text": [
      "encoder.AtomPairs2DFingerprintCount {'_target_': 'encoder.AtomPairs2DFingerprintCount'}\n"
     ]
    },
    {
     "name": "stderr",
     "output_type": "stream",
     "text": [
      " 59%|█████▉    | 220/372 [01:36<01:05,  2.33it/s]"
     ]
    },
    {
     "name": "stdout",
     "output_type": "stream",
     "text": [
      "encoder.AtomPairs2DFingerprintCount {'_target_': 'encoder.AtomPairs2DFingerprintCount'}\n"
     ]
    },
    {
     "name": "stderr",
     "output_type": "stream",
     "text": [
      " 59%|█████▉    | 221/372 [01:36<01:05,  2.32it/s]"
     ]
    },
    {
     "name": "stdout",
     "output_type": "stream",
     "text": [
      "encoder.AtomPairs2DFingerprintCount {'_target_': 'encoder.AtomPairs2DFingerprintCount'}\n"
     ]
    },
    {
     "name": "stderr",
     "output_type": "stream",
     "text": [
      " 60%|█████▉    | 222/372 [01:37<01:02,  2.40it/s]"
     ]
    },
    {
     "name": "stdout",
     "output_type": "stream",
     "text": [
      "encoder.SubstructureFingerprintCount {'_target_': 'encoder.SubstructureFingerprintCount'}\n"
     ]
    },
    {
     "name": "stderr",
     "output_type": "stream",
     "text": [
      " 60%|█████▉    | 223/372 [01:37<01:02,  2.37it/s]"
     ]
    },
    {
     "name": "stdout",
     "output_type": "stream",
     "text": [
      "encoder.SubstructureFingerprintCount {'_target_': 'encoder.SubstructureFingerprintCount'}\n"
     ]
    },
    {
     "name": "stderr",
     "output_type": "stream",
     "text": [
      " 60%|██████    | 224/372 [01:38<00:59,  2.47it/s]"
     ]
    },
    {
     "name": "stdout",
     "output_type": "stream",
     "text": [
      "encoder.SubstructureFingerprintCount {'_target_': 'encoder.SubstructureFingerprintCount'}\n"
     ]
    },
    {
     "name": "stderr",
     "output_type": "stream",
     "text": [
      " 60%|██████    | 225/372 [01:38<01:01,  2.40it/s]"
     ]
    },
    {
     "name": "stdout",
     "output_type": "stream",
     "text": [
      "encoder.SubstructureFingerprintCount {'_target_': 'encoder.SubstructureFingerprintCount'}\n"
     ]
    },
    {
     "name": "stderr",
     "output_type": "stream",
     "text": [
      " 61%|██████    | 226/372 [01:38<01:01,  2.38it/s]"
     ]
    },
    {
     "name": "stdout",
     "output_type": "stream",
     "text": [
      "encoder.SubstructureFingerprintCount {'_target_': 'encoder.SubstructureFingerprintCount'}\n"
     ]
    },
    {
     "name": "stderr",
     "output_type": "stream",
     "text": [
      " 61%|██████    | 227/372 [01:39<01:02,  2.31it/s]"
     ]
    },
    {
     "name": "stdout",
     "output_type": "stream",
     "text": [
      "encoder.PubchemFingerprinter {'_target_': 'encoder.PubchemFingerprinter'}\n"
     ]
    },
    {
     "name": "stderr",
     "output_type": "stream",
     "text": [
      " 61%|██████▏   | 228/372 [01:39<01:02,  2.31it/s]"
     ]
    },
    {
     "name": "stdout",
     "output_type": "stream",
     "text": [
      "encoder.PubchemFingerprinter {'_target_': 'encoder.PubchemFingerprinter'}\n"
     ]
    },
    {
     "name": "stderr",
     "output_type": "stream",
     "text": [
      " 62%|██████▏   | 229/372 [01:40<01:00,  2.37it/s]"
     ]
    },
    {
     "name": "stdout",
     "output_type": "stream",
     "text": [
      "encoder.PubchemFingerprinter {'_target_': 'encoder.PubchemFingerprinter'}\n"
     ]
    },
    {
     "name": "stderr",
     "output_type": "stream",
     "text": [
      " 62%|██████▏   | 230/372 [01:40<01:00,  2.34it/s]"
     ]
    },
    {
     "name": "stdout",
     "output_type": "stream",
     "text": [
      "encoder.PubchemFingerprinter {'_target_': 'encoder.PubchemFingerprinter'}\n"
     ]
    },
    {
     "name": "stderr",
     "output_type": "stream",
     "text": [
      " 62%|██████▏   | 231/372 [01:41<00:58,  2.39it/s]"
     ]
    },
    {
     "name": "stdout",
     "output_type": "stream",
     "text": [
      "encoder.PubchemFingerprinter {'_target_': 'encoder.PubchemFingerprinter'}\n"
     ]
    },
    {
     "name": "stderr",
     "output_type": "stream",
     "text": [
      " 62%|██████▏   | 232/372 [01:41<01:00,  2.33it/s]"
     ]
    },
    {
     "name": "stdout",
     "output_type": "stream",
     "text": [
      "encoder.MACCSFingerprinter {'_target_': 'encoder.MACCSFingerprinter'}\n"
     ]
    },
    {
     "name": "stderr",
     "output_type": "stream",
     "text": [
      " 63%|██████▎   | 233/372 [01:42<01:02,  2.23it/s]"
     ]
    },
    {
     "name": "stdout",
     "output_type": "stream",
     "text": [
      "encoder.MACCSFingerprinter {'_target_': 'encoder.MACCSFingerprinter'}\n"
     ]
    },
    {
     "name": "stderr",
     "output_type": "stream",
     "text": [
      " 63%|██████▎   | 234/372 [01:42<01:02,  2.21it/s]"
     ]
    },
    {
     "name": "stdout",
     "output_type": "stream",
     "text": [
      "encoder.MACCSFingerprinter {'_target_': 'encoder.MACCSFingerprinter'}\n"
     ]
    },
    {
     "name": "stderr",
     "output_type": "stream",
     "text": [
      " 63%|██████▎   | 235/372 [01:43<01:03,  2.15it/s]"
     ]
    },
    {
     "name": "stdout",
     "output_type": "stream",
     "text": [
      "encoder.MACCSFingerprinter {'_target_': 'encoder.MACCSFingerprinter'}\n"
     ]
    },
    {
     "name": "stderr",
     "output_type": "stream",
     "text": [
      " 63%|██████▎   | 236/372 [01:43<01:00,  2.26it/s]"
     ]
    },
    {
     "name": "stdout",
     "output_type": "stream",
     "text": [
      "encoder.MACCSFingerprinter {'_target_': 'encoder.MACCSFingerprinter'}\n"
     ]
    },
    {
     "name": "stderr",
     "output_type": "stream",
     "text": [
      " 64%|██████▎   | 237/372 [01:43<00:56,  2.40it/s]"
     ]
    },
    {
     "name": "stdout",
     "output_type": "stream",
     "text": [
      "encoder.KlekotaRothFingerprintCount {'_target_': 'encoder.KlekotaRothFingerprintCount'}\n"
     ]
    },
    {
     "name": "stderr",
     "output_type": "stream",
     "text": [
      " 64%|██████▍   | 238/372 [01:44<00:58,  2.28it/s]"
     ]
    },
    {
     "name": "stdout",
     "output_type": "stream",
     "text": [
      "encoder.KlekotaRothFingerprintCount {'_target_': 'encoder.KlekotaRothFingerprintCount'}\n"
     ]
    },
    {
     "name": "stderr",
     "output_type": "stream",
     "text": [
      " 64%|██████▍   | 239/372 [01:44<01:02,  2.12it/s]"
     ]
    },
    {
     "name": "stdout",
     "output_type": "stream",
     "text": [
      "encoder.KlekotaRothFingerprintCount {'_target_': 'encoder.KlekotaRothFingerprintCount'}\n"
     ]
    },
    {
     "name": "stderr",
     "output_type": "stream",
     "text": [
      " 65%|██████▍   | 240/372 [01:45<00:59,  2.23it/s]"
     ]
    },
    {
     "name": "stdout",
     "output_type": "stream",
     "text": [
      "encoder.KlekotaRothFingerprintCount {'_target_': 'encoder.KlekotaRothFingerprintCount'}\n"
     ]
    },
    {
     "name": "stderr",
     "output_type": "stream",
     "text": [
      " 65%|██████▍   | 241/372 [01:45<00:57,  2.27it/s]"
     ]
    },
    {
     "name": "stdout",
     "output_type": "stream",
     "text": [
      "encoder.KlekotaRothFingerprintCount {'_target_': 'encoder.KlekotaRothFingerprintCount'}\n"
     ]
    },
    {
     "name": "stderr",
     "output_type": "stream",
     "text": [
      " 65%|██████▌   | 242/372 [01:46<00:57,  2.25it/s]"
     ]
    },
    {
     "name": "stdout",
     "output_type": "stream",
     "text": [
      "encoder.EStateFingerprinter {'_target_': 'encoder.EStateFingerprinter'}\n"
     ]
    },
    {
     "name": "stderr",
     "output_type": "stream",
     "text": [
      " 65%|██████▌   | 243/372 [01:46<00:53,  2.41it/s]"
     ]
    },
    {
     "name": "stdout",
     "output_type": "stream",
     "text": [
      "encoder.EStateFingerprinter {'_target_': 'encoder.EStateFingerprinter'}\n"
     ]
    },
    {
     "name": "stderr",
     "output_type": "stream",
     "text": [
      " 66%|██████▌   | 244/372 [01:46<00:53,  2.39it/s]"
     ]
    },
    {
     "name": "stdout",
     "output_type": "stream",
     "text": [
      "encoder.EStateFingerprinter {'_target_': 'encoder.EStateFingerprinter'}\n"
     ]
    },
    {
     "name": "stderr",
     "output_type": "stream",
     "text": [
      " 66%|██████▌   | 245/372 [01:47<00:51,  2.46it/s]"
     ]
    },
    {
     "name": "stdout",
     "output_type": "stream",
     "text": [
      "encoder.EStateFingerprinter {'_target_': 'encoder.EStateFingerprinter'}\n"
     ]
    },
    {
     "name": "stderr",
     "output_type": "stream",
     "text": [
      " 66%|██████▌   | 246/372 [01:47<00:49,  2.52it/s]"
     ]
    },
    {
     "name": "stdout",
     "output_type": "stream",
     "text": [
      "encoder.EStateFingerprinter {'_target_': 'encoder.EStateFingerprinter'}\n"
     ]
    },
    {
     "name": "stderr",
     "output_type": "stream",
     "text": [
      " 66%|██████▋   | 247/372 [01:48<00:49,  2.53it/s]"
     ]
    },
    {
     "name": "stdout",
     "output_type": "stream",
     "text": [
      "encoder.KPGTEncoder {'_target_': 'encoder.KPGTEncoder'}\n"
     ]
    },
    {
     "name": "stderr",
     "output_type": "stream",
     "text": [
      " 67%|██████▋   | 248/372 [01:48<00:50,  2.45it/s]"
     ]
    },
    {
     "name": "stdout",
     "output_type": "stream",
     "text": [
      "encoder.KPGTEncoder {'_target_': 'encoder.KPGTEncoder'}\n"
     ]
    },
    {
     "name": "stderr",
     "output_type": "stream",
     "text": [
      " 67%|██████▋   | 249/372 [01:48<00:50,  2.43it/s]"
     ]
    },
    {
     "name": "stdout",
     "output_type": "stream",
     "text": [
      "encoder.KPGTEncoder {'_target_': 'encoder.KPGTEncoder'}\n"
     ]
    },
    {
     "name": "stderr",
     "output_type": "stream",
     "text": [
      " 67%|██████▋   | 250/372 [01:49<00:50,  2.41it/s]"
     ]
    },
    {
     "name": "stdout",
     "output_type": "stream",
     "text": [
      "encoder.KPGTEncoder {'_target_': 'encoder.KPGTEncoder'}\n"
     ]
    },
    {
     "name": "stderr",
     "output_type": "stream",
     "text": [
      " 67%|██████▋   | 251/372 [01:49<00:51,  2.33it/s]"
     ]
    },
    {
     "name": "stdout",
     "output_type": "stream",
     "text": [
      "encoder.KPGTEncoder {'_target_': 'encoder.KPGTEncoder'}\n"
     ]
    },
    {
     "name": "stderr",
     "output_type": "stream",
     "text": [
      " 68%|██████▊   | 252/372 [01:50<00:48,  2.48it/s]"
     ]
    },
    {
     "name": "stdout",
     "output_type": "stream",
     "text": [
      "encoder.MolCLREncoder {'pool': 'mean', '_target_': 'encoder.MolCLREncoder', 'architecture': 'GIN'}\n"
     ]
    },
    {
     "name": "stderr",
     "output_type": "stream",
     "text": [
      " 68%|██████▊   | 253/372 [01:50<00:50,  2.34it/s]"
     ]
    },
    {
     "name": "stdout",
     "output_type": "stream",
     "text": [
      "encoder.MolCLREncoder {'pool': 'mean', '_target_': 'encoder.MolCLREncoder', 'architecture': 'GIN'}\n"
     ]
    },
    {
     "name": "stderr",
     "output_type": "stream",
     "text": [
      " 68%|██████▊   | 254/372 [01:50<00:49,  2.36it/s]"
     ]
    },
    {
     "name": "stdout",
     "output_type": "stream",
     "text": [
      "encoder.MolCLREncoder {'pool': 'mean', '_target_': 'encoder.MolCLREncoder', 'architecture': 'GIN'}\n"
     ]
    },
    {
     "name": "stderr",
     "output_type": "stream",
     "text": [
      " 69%|██████▊   | 255/372 [01:51<00:51,  2.29it/s]"
     ]
    },
    {
     "name": "stdout",
     "output_type": "stream",
     "text": [
      "encoder.MolCLREncoder {'pool': 'mean', '_target_': 'encoder.MolCLREncoder', 'architecture': 'GIN'}\n"
     ]
    },
    {
     "name": "stderr",
     "output_type": "stream",
     "text": [
      " 69%|██████▉   | 256/372 [01:51<00:49,  2.37it/s]"
     ]
    },
    {
     "name": "stdout",
     "output_type": "stream",
     "text": [
      "encoder.MolCLREncoder {'pool': 'mean', '_target_': 'encoder.MolCLREncoder', 'architecture': 'GIN'}\n"
     ]
    },
    {
     "name": "stderr",
     "output_type": "stream",
     "text": [
      " 69%|██████▉   | 257/372 [01:52<00:49,  2.33it/s]"
     ]
    },
    {
     "name": "stdout",
     "output_type": "stream",
     "text": [
      "encoder.MoleBERTEncoder {'pool': 'mean', '_target_': 'encoder.MoleBERTEncoder'}\n"
     ]
    },
    {
     "name": "stderr",
     "output_type": "stream",
     "text": [
      " 69%|██████▉   | 258/372 [01:52<00:46,  2.45it/s]"
     ]
    },
    {
     "name": "stdout",
     "output_type": "stream",
     "text": [
      "encoder.MoleBERTEncoder {'pool': 'mean', '_target_': 'encoder.MoleBERTEncoder'}\n"
     ]
    },
    {
     "name": "stderr",
     "output_type": "stream",
     "text": [
      " 70%|██████▉   | 259/372 [01:53<00:48,  2.34it/s]"
     ]
    },
    {
     "name": "stdout",
     "output_type": "stream",
     "text": [
      "encoder.MoleBERTEncoder {'pool': 'mean', '_target_': 'encoder.MoleBERTEncoder'}\n"
     ]
    },
    {
     "name": "stderr",
     "output_type": "stream",
     "text": [
      " 70%|██████▉   | 260/372 [01:53<00:46,  2.40it/s]"
     ]
    },
    {
     "name": "stdout",
     "output_type": "stream",
     "text": [
      "encoder.MoleBERTEncoder {'pool': 'mean', '_target_': 'encoder.MoleBERTEncoder'}\n"
     ]
    },
    {
     "name": "stderr",
     "output_type": "stream",
     "text": [
      " 70%|███████   | 261/372 [01:53<00:45,  2.41it/s]"
     ]
    },
    {
     "name": "stdout",
     "output_type": "stream",
     "text": [
      "encoder.MoleBERTEncoder {'pool': 'mean', '_target_': 'encoder.MoleBERTEncoder'}\n"
     ]
    },
    {
     "name": "stderr",
     "output_type": "stream",
     "text": [
      " 70%|███████   | 262/372 [01:54<00:46,  2.36it/s]"
     ]
    },
    {
     "name": "stdout",
     "output_type": "stream",
     "text": [
      "encoder.ChemBERTaEncoder {'pool': 'mean', '_target_': 'encoder.ChemBERTaEncoder', 'pretrained_model_name_or_path': 'seyonec/ChemBERTa_zinc250k_v2_40k'}\n"
     ]
    },
    {
     "name": "stderr",
     "output_type": "stream",
     "text": [
      " 71%|███████   | 263/372 [01:54<00:47,  2.32it/s]"
     ]
    },
    {
     "name": "stdout",
     "output_type": "stream",
     "text": [
      "encoder.ChemBERTaEncoder {'pool': 'mean', '_target_': 'encoder.ChemBERTaEncoder', 'pretrained_model_name_or_path': 'seyonec/ChemBERTa_zinc250k_v2_40k'}\n"
     ]
    },
    {
     "name": "stderr",
     "output_type": "stream",
     "text": [
      " 71%|███████   | 264/372 [01:55<00:45,  2.39it/s]"
     ]
    },
    {
     "name": "stdout",
     "output_type": "stream",
     "text": [
      "encoder.ChemBERTaEncoder {'pool': 'mean', '_target_': 'encoder.ChemBERTaEncoder', 'pretrained_model_name_or_path': 'seyonec/ChemBERTa_zinc250k_v2_40k'}\n"
     ]
    },
    {
     "name": "stderr",
     "output_type": "stream",
     "text": [
      " 71%|███████   | 265/372 [01:55<00:44,  2.43it/s]"
     ]
    },
    {
     "name": "stdout",
     "output_type": "stream",
     "text": [
      "encoder.ChemBERTaEncoder {'pool': 'mean', '_target_': 'encoder.ChemBERTaEncoder', 'pretrained_model_name_or_path': 'seyonec/ChemBERTa_zinc250k_v2_40k'}\n"
     ]
    },
    {
     "name": "stderr",
     "output_type": "stream",
     "text": [
      " 72%|███████▏  | 266/372 [01:56<00:47,  2.23it/s]"
     ]
    },
    {
     "name": "stdout",
     "output_type": "stream",
     "text": [
      "encoder.ChemBERTaEncoder {'pool': 'mean', '_target_': 'encoder.ChemBERTaEncoder', 'pretrained_model_name_or_path': 'seyonec/ChemBERTa_zinc250k_v2_40k'}\n"
     ]
    },
    {
     "name": "stderr",
     "output_type": "stream",
     "text": [
      " 72%|███████▏  | 267/372 [01:56<00:52,  2.00it/s]"
     ]
    },
    {
     "name": "stdout",
     "output_type": "stream",
     "text": [
      "encoder.AtomPairs2DFingerprintCount {'_target_': 'encoder.AtomPairs2DFingerprintCount'}\n"
     ]
    },
    {
     "name": "stderr",
     "output_type": "stream",
     "text": [
      " 72%|███████▏  | 268/372 [01:57<00:56,  1.83it/s]"
     ]
    },
    {
     "name": "stdout",
     "output_type": "stream",
     "text": [
      "encoder.AtomPairs2DFingerprintCount {'_target_': 'encoder.AtomPairs2DFingerprintCount'}\n"
     ]
    },
    {
     "name": "stderr",
     "output_type": "stream",
     "text": [
      " 72%|███████▏  | 269/372 [01:57<00:53,  1.91it/s]"
     ]
    },
    {
     "name": "stdout",
     "output_type": "stream",
     "text": [
      "encoder.AtomPairs2DFingerprintCount {'_target_': 'encoder.AtomPairs2DFingerprintCount'}\n"
     ]
    },
    {
     "name": "stderr",
     "output_type": "stream",
     "text": [
      " 73%|███████▎  | 270/372 [01:58<00:52,  1.96it/s]"
     ]
    },
    {
     "name": "stdout",
     "output_type": "stream",
     "text": [
      "encoder.AtomPairs2DFingerprintCount {'_target_': 'encoder.AtomPairs2DFingerprintCount'}\n"
     ]
    },
    {
     "name": "stderr",
     "output_type": "stream",
     "text": [
      " 73%|███████▎  | 271/372 [01:58<00:47,  2.11it/s]"
     ]
    },
    {
     "name": "stdout",
     "output_type": "stream",
     "text": [
      "encoder.AtomPairs2DFingerprintCount {'_target_': 'encoder.AtomPairs2DFingerprintCount'}\n"
     ]
    },
    {
     "name": "stderr",
     "output_type": "stream",
     "text": [
      " 73%|███████▎  | 272/372 [01:59<00:50,  1.97it/s]"
     ]
    },
    {
     "name": "stdout",
     "output_type": "stream",
     "text": [
      "encoder.SubstructureFingerprintCount {'_target_': 'encoder.SubstructureFingerprintCount'}\n"
     ]
    },
    {
     "name": "stderr",
     "output_type": "stream",
     "text": [
      " 73%|███████▎  | 273/372 [01:59<00:49,  2.00it/s]"
     ]
    },
    {
     "name": "stdout",
     "output_type": "stream",
     "text": [
      "encoder.SubstructureFingerprintCount {'_target_': 'encoder.SubstructureFingerprintCount'}\n"
     ]
    },
    {
     "name": "stderr",
     "output_type": "stream",
     "text": [
      " 74%|███████▎  | 274/372 [02:00<00:45,  2.16it/s]"
     ]
    },
    {
     "name": "stdout",
     "output_type": "stream",
     "text": [
      "encoder.SubstructureFingerprintCount {'_target_': 'encoder.SubstructureFingerprintCount'}\n"
     ]
    },
    {
     "name": "stderr",
     "output_type": "stream",
     "text": [
      " 74%|███████▍  | 275/372 [02:00<00:45,  2.15it/s]"
     ]
    },
    {
     "name": "stdout",
     "output_type": "stream",
     "text": [
      "encoder.SubstructureFingerprintCount {'_target_': 'encoder.SubstructureFingerprintCount'}\n"
     ]
    },
    {
     "name": "stderr",
     "output_type": "stream",
     "text": [
      " 74%|███████▍  | 276/372 [02:01<00:46,  2.07it/s]"
     ]
    },
    {
     "name": "stdout",
     "output_type": "stream",
     "text": [
      "encoder.SubstructureFingerprintCount {'_target_': 'encoder.SubstructureFingerprintCount'}\n"
     ]
    },
    {
     "name": "stderr",
     "output_type": "stream",
     "text": [
      " 74%|███████▍  | 277/372 [02:01<00:45,  2.10it/s]"
     ]
    },
    {
     "name": "stdout",
     "output_type": "stream",
     "text": [
      "encoder.PubchemFingerprinter {'_target_': 'encoder.PubchemFingerprinter'}\n"
     ]
    },
    {
     "name": "stderr",
     "output_type": "stream",
     "text": [
      " 75%|███████▍  | 278/372 [02:02<00:44,  2.10it/s]"
     ]
    },
    {
     "name": "stdout",
     "output_type": "stream",
     "text": [
      "encoder.PubchemFingerprinter {'_target_': 'encoder.PubchemFingerprinter'}\n"
     ]
    },
    {
     "name": "stderr",
     "output_type": "stream",
     "text": [
      " 75%|███████▌  | 279/372 [02:02<00:42,  2.20it/s]"
     ]
    },
    {
     "name": "stdout",
     "output_type": "stream",
     "text": [
      "encoder.PubchemFingerprinter {'_target_': 'encoder.PubchemFingerprinter'}\n"
     ]
    },
    {
     "name": "stderr",
     "output_type": "stream",
     "text": [
      " 75%|███████▌  | 280/372 [02:02<00:40,  2.26it/s]"
     ]
    },
    {
     "name": "stdout",
     "output_type": "stream",
     "text": [
      "encoder.PubchemFingerprinter {'_target_': 'encoder.PubchemFingerprinter'}\n"
     ]
    },
    {
     "name": "stderr",
     "output_type": "stream",
     "text": [
      " 76%|███████▌  | 281/372 [02:03<00:38,  2.38it/s]"
     ]
    },
    {
     "name": "stdout",
     "output_type": "stream",
     "text": [
      "encoder.PubchemFingerprinter {'_target_': 'encoder.PubchemFingerprinter'}\n"
     ]
    },
    {
     "name": "stderr",
     "output_type": "stream",
     "text": [
      " 76%|███████▌  | 282/372 [02:03<00:36,  2.47it/s]"
     ]
    },
    {
     "name": "stdout",
     "output_type": "stream",
     "text": [
      "encoder.MACCSFingerprinter {'_target_': 'encoder.MACCSFingerprinter'}\n"
     ]
    },
    {
     "name": "stderr",
     "output_type": "stream",
     "text": [
      " 76%|███████▌  | 283/372 [02:04<00:35,  2.48it/s]"
     ]
    },
    {
     "name": "stdout",
     "output_type": "stream",
     "text": [
      "encoder.MACCSFingerprinter {'_target_': 'encoder.MACCSFingerprinter'}\n"
     ]
    },
    {
     "name": "stderr",
     "output_type": "stream",
     "text": [
      " 76%|███████▋  | 284/372 [02:04<00:39,  2.24it/s]"
     ]
    },
    {
     "name": "stdout",
     "output_type": "stream",
     "text": [
      "encoder.MACCSFingerprinter {'_target_': 'encoder.MACCSFingerprinter'}\n"
     ]
    },
    {
     "name": "stderr",
     "output_type": "stream",
     "text": [
      " 77%|███████▋  | 285/372 [02:05<00:37,  2.29it/s]"
     ]
    },
    {
     "name": "stdout",
     "output_type": "stream",
     "text": [
      "encoder.MACCSFingerprinter {'_target_': 'encoder.MACCSFingerprinter'}\n"
     ]
    },
    {
     "name": "stderr",
     "output_type": "stream",
     "text": [
      " 77%|███████▋  | 286/372 [02:05<00:35,  2.41it/s]"
     ]
    },
    {
     "name": "stdout",
     "output_type": "stream",
     "text": [
      "encoder.MACCSFingerprinter {'_target_': 'encoder.MACCSFingerprinter'}\n"
     ]
    },
    {
     "name": "stderr",
     "output_type": "stream",
     "text": [
      " 77%|███████▋  | 287/372 [02:05<00:34,  2.46it/s]"
     ]
    },
    {
     "name": "stdout",
     "output_type": "stream",
     "text": [
      "encoder.KlekotaRothFingerprintCount {'_target_': 'encoder.KlekotaRothFingerprintCount'}\n"
     ]
    },
    {
     "name": "stderr",
     "output_type": "stream",
     "text": [
      " 77%|███████▋  | 288/372 [02:10<02:29,  1.78s/it]"
     ]
    },
    {
     "name": "stdout",
     "output_type": "stream",
     "text": [
      "encoder.KlekotaRothFingerprintCount {'_target_': 'encoder.KlekotaRothFingerprintCount'}\n"
     ]
    },
    {
     "name": "stderr",
     "output_type": "stream",
     "text": [
      " 78%|███████▊  | 289/372 [02:11<02:01,  1.46s/it]"
     ]
    },
    {
     "name": "stdout",
     "output_type": "stream",
     "text": [
      "encoder.KlekotaRothFingerprintCount {'_target_': 'encoder.KlekotaRothFingerprintCount'}\n"
     ]
    },
    {
     "name": "stderr",
     "output_type": "stream",
     "text": [
      " 78%|███████▊  | 290/372 [02:11<01:33,  1.14s/it]"
     ]
    },
    {
     "name": "stdout",
     "output_type": "stream",
     "text": [
      "encoder.KlekotaRothFingerprintCount {'_target_': 'encoder.KlekotaRothFingerprintCount'}\n"
     ]
    },
    {
     "name": "stderr",
     "output_type": "stream",
     "text": [
      " 78%|███████▊  | 291/372 [02:12<01:13,  1.10it/s]"
     ]
    },
    {
     "name": "stdout",
     "output_type": "stream",
     "text": [
      "encoder.KlekotaRothFingerprintCount {'_target_': 'encoder.KlekotaRothFingerprintCount'}\n"
     ]
    },
    {
     "name": "stderr",
     "output_type": "stream",
     "text": [
      " 78%|███████▊  | 292/372 [02:12<01:01,  1.30it/s]"
     ]
    },
    {
     "name": "stdout",
     "output_type": "stream",
     "text": [
      "encoder.EStateFingerprinter {'_target_': 'encoder.EStateFingerprinter'}\n"
     ]
    },
    {
     "name": "stderr",
     "output_type": "stream",
     "text": [
      " 79%|███████▉  | 293/372 [02:13<00:53,  1.48it/s]"
     ]
    },
    {
     "name": "stdout",
     "output_type": "stream",
     "text": [
      "encoder.EStateFingerprinter {'_target_': 'encoder.EStateFingerprinter'}\n"
     ]
    },
    {
     "name": "stderr",
     "output_type": "stream",
     "text": [
      " 79%|███████▉  | 294/372 [02:13<00:51,  1.53it/s]"
     ]
    },
    {
     "name": "stdout",
     "output_type": "stream",
     "text": [
      "encoder.EStateFingerprinter {'_target_': 'encoder.EStateFingerprinter'}\n"
     ]
    },
    {
     "name": "stderr",
     "output_type": "stream",
     "text": [
      " 79%|███████▉  | 295/372 [02:14<00:43,  1.76it/s]"
     ]
    },
    {
     "name": "stdout",
     "output_type": "stream",
     "text": [
      "encoder.EStateFingerprinter {'_target_': 'encoder.EStateFingerprinter'}\n"
     ]
    },
    {
     "name": "stderr",
     "output_type": "stream",
     "text": [
      " 80%|███████▉  | 296/372 [02:14<00:41,  1.85it/s]"
     ]
    },
    {
     "name": "stdout",
     "output_type": "stream",
     "text": [
      "encoder.EStateFingerprinter {'_target_': 'encoder.EStateFingerprinter'}\n"
     ]
    },
    {
     "name": "stderr",
     "output_type": "stream",
     "text": [
      " 80%|███████▉  | 297/372 [02:15<00:37,  2.00it/s]"
     ]
    },
    {
     "name": "stdout",
     "output_type": "stream",
     "text": [
      "encoder.KPGTEncoder {'_target_': 'encoder.KPGTEncoder'}\n"
     ]
    },
    {
     "name": "stderr",
     "output_type": "stream",
     "text": [
      " 80%|████████  | 298/372 [02:15<00:34,  2.12it/s]"
     ]
    },
    {
     "name": "stdout",
     "output_type": "stream",
     "text": [
      "encoder.KPGTEncoder {'_target_': 'encoder.KPGTEncoder'}\n"
     ]
    },
    {
     "name": "stderr",
     "output_type": "stream",
     "text": [
      " 80%|████████  | 299/372 [02:15<00:34,  2.13it/s]"
     ]
    },
    {
     "name": "stdout",
     "output_type": "stream",
     "text": [
      "encoder.KPGTEncoder {'_target_': 'encoder.KPGTEncoder'}\n"
     ]
    },
    {
     "name": "stderr",
     "output_type": "stream",
     "text": [
      " 81%|████████  | 300/372 [02:16<00:33,  2.13it/s]"
     ]
    },
    {
     "name": "stdout",
     "output_type": "stream",
     "text": [
      "encoder.KPGTEncoder {'_target_': 'encoder.KPGTEncoder'}\n"
     ]
    },
    {
     "name": "stderr",
     "output_type": "stream",
     "text": [
      " 81%|████████  | 301/372 [02:16<00:32,  2.16it/s]"
     ]
    },
    {
     "name": "stdout",
     "output_type": "stream",
     "text": [
      "encoder.KPGTEncoder {'_target_': 'encoder.KPGTEncoder'}\n"
     ]
    },
    {
     "name": "stderr",
     "output_type": "stream",
     "text": [
      " 81%|████████  | 302/372 [02:17<00:32,  2.13it/s]"
     ]
    },
    {
     "name": "stdout",
     "output_type": "stream",
     "text": [
      "encoder.MolCLREncoder {'pool': 'mean', '_target_': 'encoder.MolCLREncoder', 'architecture': 'GIN'}\n"
     ]
    },
    {
     "name": "stderr",
     "output_type": "stream",
     "text": [
      " 81%|████████▏ | 303/372 [02:17<00:31,  2.19it/s]"
     ]
    },
    {
     "name": "stdout",
     "output_type": "stream",
     "text": [
      "encoder.MolCLREncoder {'pool': 'mean', '_target_': 'encoder.MolCLREncoder', 'architecture': 'GIN'}\n"
     ]
    },
    {
     "name": "stderr",
     "output_type": "stream",
     "text": [
      " 82%|████████▏ | 304/372 [02:18<00:32,  2.06it/s]"
     ]
    },
    {
     "name": "stdout",
     "output_type": "stream",
     "text": [
      "encoder.MolCLREncoder {'pool': 'mean', '_target_': 'encoder.MolCLREncoder', 'architecture': 'GIN'}\n"
     ]
    },
    {
     "name": "stderr",
     "output_type": "stream",
     "text": [
      " 82%|████████▏ | 305/372 [02:18<00:30,  2.19it/s]"
     ]
    },
    {
     "name": "stdout",
     "output_type": "stream",
     "text": [
      "encoder.MolCLREncoder {'pool': 'mean', '_target_': 'encoder.MolCLREncoder', 'architecture': 'GIN'}\n"
     ]
    },
    {
     "name": "stderr",
     "output_type": "stream",
     "text": [
      " 82%|████████▏ | 306/372 [02:19<00:28,  2.29it/s]"
     ]
    },
    {
     "name": "stdout",
     "output_type": "stream",
     "text": [
      "encoder.MolCLREncoder {'pool': 'mean', '_target_': 'encoder.MolCLREncoder', 'architecture': 'GIN'}\n"
     ]
    },
    {
     "name": "stderr",
     "output_type": "stream",
     "text": [
      " 83%|████████▎ | 307/372 [02:19<00:28,  2.31it/s]"
     ]
    },
    {
     "name": "stdout",
     "output_type": "stream",
     "text": [
      "encoder.MoleBERTEncoder {'pool': 'mean', '_target_': 'encoder.MoleBERTEncoder'}\n"
     ]
    },
    {
     "name": "stderr",
     "output_type": "stream",
     "text": [
      " 83%|████████▎ | 308/372 [02:19<00:28,  2.28it/s]"
     ]
    },
    {
     "name": "stdout",
     "output_type": "stream",
     "text": [
      "encoder.MoleBERTEncoder {'pool': 'mean', '_target_': 'encoder.MoleBERTEncoder'}\n"
     ]
    },
    {
     "name": "stderr",
     "output_type": "stream",
     "text": [
      " 83%|████████▎ | 309/372 [02:20<00:28,  2.21it/s]"
     ]
    },
    {
     "name": "stdout",
     "output_type": "stream",
     "text": [
      "encoder.MoleBERTEncoder {'pool': 'mean', '_target_': 'encoder.MoleBERTEncoder'}\n"
     ]
    },
    {
     "name": "stderr",
     "output_type": "stream",
     "text": [
      " 83%|████████▎ | 310/372 [02:20<00:27,  2.26it/s]"
     ]
    },
    {
     "name": "stdout",
     "output_type": "stream",
     "text": [
      "encoder.MoleBERTEncoder {'pool': 'mean', '_target_': 'encoder.MoleBERTEncoder'}\n"
     ]
    },
    {
     "name": "stderr",
     "output_type": "stream",
     "text": [
      " 84%|████████▎ | 311/372 [02:21<00:26,  2.31it/s]"
     ]
    },
    {
     "name": "stdout",
     "output_type": "stream",
     "text": [
      "encoder.MoleBERTEncoder {'pool': 'mean', '_target_': 'encoder.MoleBERTEncoder'}\n"
     ]
    },
    {
     "name": "stderr",
     "output_type": "stream",
     "text": [
      " 84%|████████▍ | 312/372 [02:21<00:24,  2.42it/s]"
     ]
    },
    {
     "name": "stdout",
     "output_type": "stream",
     "text": [
      "encoder.ChemBERTaEncoder {'pool': 'mean', '_target_': 'encoder.ChemBERTaEncoder', 'pretrained_model_name_or_path': 'seyonec/ChemBERTa_zinc250k_v2_40k'}\n"
     ]
    },
    {
     "name": "stderr",
     "output_type": "stream",
     "text": [
      " 84%|████████▍ | 313/372 [02:22<00:25,  2.30it/s]"
     ]
    },
    {
     "name": "stdout",
     "output_type": "stream",
     "text": [
      "encoder.ChemBERTaEncoder {'pool': 'mean', '_target_': 'encoder.ChemBERTaEncoder', 'pretrained_model_name_or_path': 'seyonec/ChemBERTa_zinc250k_v2_40k'}\n"
     ]
    },
    {
     "name": "stderr",
     "output_type": "stream",
     "text": [
      " 84%|████████▍ | 314/372 [02:22<00:25,  2.28it/s]"
     ]
    },
    {
     "name": "stdout",
     "output_type": "stream",
     "text": [
      "encoder.ChemBERTaEncoder {'pool': 'mean', '_target_': 'encoder.ChemBERTaEncoder', 'pretrained_model_name_or_path': 'seyonec/ChemBERTa_zinc250k_v2_40k'}\n"
     ]
    },
    {
     "name": "stderr",
     "output_type": "stream",
     "text": [
      " 85%|████████▍ | 315/372 [02:23<00:26,  2.14it/s]"
     ]
    },
    {
     "name": "stdout",
     "output_type": "stream",
     "text": [
      "encoder.ChemBERTaEncoder {'pool': 'mean', '_target_': 'encoder.ChemBERTaEncoder', 'pretrained_model_name_or_path': 'seyonec/ChemBERTa_zinc250k_v2_40k'}\n"
     ]
    },
    {
     "name": "stderr",
     "output_type": "stream",
     "text": [
      " 85%|████████▍ | 316/372 [02:23<00:26,  2.11it/s]"
     ]
    },
    {
     "name": "stdout",
     "output_type": "stream",
     "text": [
      "encoder.ChemBERTaEncoder {'pool': 'mean', '_target_': 'encoder.ChemBERTaEncoder', 'pretrained_model_name_or_path': 'seyonec/ChemBERTa_zinc250k_v2_40k'}\n"
     ]
    },
    {
     "name": "stderr",
     "output_type": "stream",
     "text": [
      " 85%|████████▌ | 317/372 [02:24<00:26,  2.05it/s]"
     ]
    },
    {
     "name": "stdout",
     "output_type": "stream",
     "text": [
      "encoder.AtomPairs2DFingerprintCount {'_target_': 'encoder.AtomPairs2DFingerprintCount'}\n"
     ]
    },
    {
     "name": "stderr",
     "output_type": "stream",
     "text": [
      " 85%|████████▌ | 318/372 [02:24<00:26,  2.01it/s]"
     ]
    },
    {
     "name": "stdout",
     "output_type": "stream",
     "text": [
      "encoder.AtomPairs2DFingerprintCount {'_target_': 'encoder.AtomPairs2DFingerprintCount'}\n"
     ]
    },
    {
     "name": "stderr",
     "output_type": "stream",
     "text": [
      " 86%|████████▌ | 319/372 [02:24<00:24,  2.16it/s]"
     ]
    },
    {
     "name": "stdout",
     "output_type": "stream",
     "text": [
      "encoder.AtomPairs2DFingerprintCount {'_target_': 'encoder.AtomPairs2DFingerprintCount'}\n"
     ]
    },
    {
     "name": "stderr",
     "output_type": "stream",
     "text": [
      " 86%|████████▌ | 320/372 [02:25<00:24,  2.13it/s]"
     ]
    },
    {
     "name": "stdout",
     "output_type": "stream",
     "text": [
      "encoder.AtomPairs2DFingerprintCount {'_target_': 'encoder.AtomPairs2DFingerprintCount'}\n"
     ]
    },
    {
     "name": "stderr",
     "output_type": "stream",
     "text": [
      " 86%|████████▋ | 321/372 [02:25<00:23,  2.18it/s]"
     ]
    },
    {
     "name": "stdout",
     "output_type": "stream",
     "text": [
      "encoder.AtomPairs2DFingerprintCount {'_target_': 'encoder.AtomPairs2DFingerprintCount'}\n"
     ]
    },
    {
     "name": "stderr",
     "output_type": "stream",
     "text": [
      " 87%|████████▋ | 322/372 [02:26<00:22,  2.25it/s]"
     ]
    },
    {
     "name": "stdout",
     "output_type": "stream",
     "text": [
      "encoder.SubstructureFingerprintCount {'_target_': 'encoder.SubstructureFingerprintCount'}\n"
     ]
    },
    {
     "name": "stderr",
     "output_type": "stream",
     "text": [
      " 87%|████████▋ | 323/372 [02:26<00:21,  2.28it/s]"
     ]
    },
    {
     "name": "stdout",
     "output_type": "stream",
     "text": [
      "encoder.SubstructureFingerprintCount {'_target_': 'encoder.SubstructureFingerprintCount'}\n"
     ]
    },
    {
     "name": "stderr",
     "output_type": "stream",
     "text": [
      " 87%|████████▋ | 324/372 [02:27<00:21,  2.26it/s]"
     ]
    },
    {
     "name": "stdout",
     "output_type": "stream",
     "text": [
      "encoder.SubstructureFingerprintCount {'_target_': 'encoder.SubstructureFingerprintCount'}\n"
     ]
    },
    {
     "name": "stderr",
     "output_type": "stream",
     "text": [
      " 87%|████████▋ | 325/372 [02:27<00:20,  2.25it/s]"
     ]
    },
    {
     "name": "stdout",
     "output_type": "stream",
     "text": [
      "encoder.SubstructureFingerprintCount {'_target_': 'encoder.SubstructureFingerprintCount'}\n"
     ]
    },
    {
     "name": "stderr",
     "output_type": "stream",
     "text": [
      " 88%|████████▊ | 326/372 [02:28<00:20,  2.25it/s]"
     ]
    },
    {
     "name": "stdout",
     "output_type": "stream",
     "text": [
      "encoder.SubstructureFingerprintCount {'_target_': 'encoder.SubstructureFingerprintCount'}\n"
     ]
    },
    {
     "name": "stderr",
     "output_type": "stream",
     "text": [
      " 88%|████████▊ | 327/372 [02:29<00:32,  1.38it/s]"
     ]
    },
    {
     "name": "stdout",
     "output_type": "stream",
     "text": [
      "encoder.PubchemFingerprinter {'_target_': 'encoder.PubchemFingerprinter'}\n"
     ]
    },
    {
     "name": "stderr",
     "output_type": "stream",
     "text": [
      " 88%|████████▊ | 328/372 [02:29<00:29,  1.50it/s]"
     ]
    },
    {
     "name": "stdout",
     "output_type": "stream",
     "text": [
      "encoder.PubchemFingerprinter {'_target_': 'encoder.PubchemFingerprinter'}\n"
     ]
    },
    {
     "name": "stderr",
     "output_type": "stream",
     "text": [
      " 88%|████████▊ | 329/372 [02:30<00:25,  1.69it/s]"
     ]
    },
    {
     "name": "stdout",
     "output_type": "stream",
     "text": [
      "encoder.PubchemFingerprinter {'_target_': 'encoder.PubchemFingerprinter'}\n"
     ]
    },
    {
     "name": "stderr",
     "output_type": "stream",
     "text": [
      " 89%|████████▊ | 330/372 [02:30<00:23,  1.77it/s]"
     ]
    },
    {
     "name": "stdout",
     "output_type": "stream",
     "text": [
      "encoder.PubchemFingerprinter {'_target_': 'encoder.PubchemFingerprinter'}\n"
     ]
    },
    {
     "name": "stderr",
     "output_type": "stream",
     "text": [
      " 89%|████████▉ | 331/372 [02:31<00:20,  2.00it/s]"
     ]
    },
    {
     "name": "stdout",
     "output_type": "stream",
     "text": [
      "encoder.PubchemFingerprinter {'_target_': 'encoder.PubchemFingerprinter'}\n"
     ]
    },
    {
     "name": "stderr",
     "output_type": "stream",
     "text": [
      " 89%|████████▉ | 332/372 [02:31<00:19,  2.04it/s]"
     ]
    },
    {
     "name": "stdout",
     "output_type": "stream",
     "text": [
      "encoder.MACCSFingerprinter {'_target_': 'encoder.MACCSFingerprinter'}\n"
     ]
    },
    {
     "name": "stderr",
     "output_type": "stream",
     "text": [
      " 90%|████████▉ | 333/372 [02:32<00:18,  2.12it/s]"
     ]
    },
    {
     "name": "stdout",
     "output_type": "stream",
     "text": [
      "encoder.MACCSFingerprinter {'_target_': 'encoder.MACCSFingerprinter'}\n"
     ]
    },
    {
     "name": "stderr",
     "output_type": "stream",
     "text": [
      " 90%|████████▉ | 334/372 [02:32<00:17,  2.20it/s]"
     ]
    },
    {
     "name": "stdout",
     "output_type": "stream",
     "text": [
      "encoder.MACCSFingerprinter {'_target_': 'encoder.MACCSFingerprinter'}\n"
     ]
    },
    {
     "name": "stderr",
     "output_type": "stream",
     "text": [
      " 90%|█████████ | 335/372 [02:32<00:16,  2.28it/s]"
     ]
    },
    {
     "name": "stdout",
     "output_type": "stream",
     "text": [
      "encoder.MACCSFingerprinter {'_target_': 'encoder.MACCSFingerprinter'}\n"
     ]
    },
    {
     "name": "stderr",
     "output_type": "stream",
     "text": [
      " 90%|█████████ | 336/372 [02:33<00:16,  2.20it/s]"
     ]
    },
    {
     "name": "stdout",
     "output_type": "stream",
     "text": [
      "encoder.MACCSFingerprinter {'_target_': 'encoder.MACCSFingerprinter'}\n"
     ]
    },
    {
     "name": "stderr",
     "output_type": "stream",
     "text": [
      " 91%|█████████ | 337/372 [02:33<00:14,  2.39it/s]"
     ]
    },
    {
     "name": "stdout",
     "output_type": "stream",
     "text": [
      "encoder.KlekotaRothFingerprintCount {'_target_': 'encoder.KlekotaRothFingerprintCount'}\n"
     ]
    },
    {
     "name": "stderr",
     "output_type": "stream",
     "text": [
      " 91%|█████████ | 338/372 [02:34<00:14,  2.35it/s]"
     ]
    },
    {
     "name": "stdout",
     "output_type": "stream",
     "text": [
      "encoder.KlekotaRothFingerprintCount {'_target_': 'encoder.KlekotaRothFingerprintCount'}\n"
     ]
    },
    {
     "name": "stderr",
     "output_type": "stream",
     "text": [
      " 91%|█████████ | 339/372 [02:34<00:14,  2.35it/s]"
     ]
    },
    {
     "name": "stdout",
     "output_type": "stream",
     "text": [
      "encoder.KlekotaRothFingerprintCount {'_target_': 'encoder.KlekotaRothFingerprintCount'}\n"
     ]
    },
    {
     "name": "stderr",
     "output_type": "stream",
     "text": [
      " 91%|█████████▏| 340/372 [02:35<00:14,  2.25it/s]"
     ]
    },
    {
     "name": "stdout",
     "output_type": "stream",
     "text": [
      "encoder.KlekotaRothFingerprintCount {'_target_': 'encoder.KlekotaRothFingerprintCount'}\n"
     ]
    },
    {
     "name": "stderr",
     "output_type": "stream",
     "text": [
      " 92%|█████████▏| 341/372 [02:35<00:13,  2.25it/s]"
     ]
    },
    {
     "name": "stdout",
     "output_type": "stream",
     "text": [
      "encoder.KlekotaRothFingerprintCount {'_target_': 'encoder.KlekotaRothFingerprintCount'}\n"
     ]
    },
    {
     "name": "stderr",
     "output_type": "stream",
     "text": [
      " 92%|█████████▏| 342/372 [02:40<00:52,  1.75s/it]"
     ]
    },
    {
     "name": "stdout",
     "output_type": "stream",
     "text": [
      "encoder.KPGTEncoder {'_target_': 'encoder.KPGTEncoder'}\n"
     ]
    },
    {
     "name": "stderr",
     "output_type": "stream",
     "text": [
      " 92%|█████████▏| 343/372 [02:41<00:42,  1.48s/it]"
     ]
    },
    {
     "name": "stdout",
     "output_type": "stream",
     "text": [
      "encoder.EStateFingerprinter {'_target_': 'encoder.EStateFingerprinter'}\n"
     ]
    },
    {
     "name": "stderr",
     "output_type": "stream",
     "text": [
      " 92%|█████████▏| 344/372 [02:41<00:32,  1.16s/it]"
     ]
    },
    {
     "name": "stdout",
     "output_type": "stream",
     "text": [
      "encoder.EStateFingerprinter {'_target_': 'encoder.EStateFingerprinter'}\n"
     ]
    },
    {
     "name": "stderr",
     "output_type": "stream",
     "text": [
      " 93%|█████████▎| 345/372 [02:42<00:25,  1.06it/s]"
     ]
    },
    {
     "name": "stdout",
     "output_type": "stream",
     "text": [
      "encoder.EStateFingerprinter {'_target_': 'encoder.EStateFingerprinter'}\n"
     ]
    },
    {
     "name": "stderr",
     "output_type": "stream",
     "text": [
      " 93%|█████████▎| 346/372 [02:42<00:21,  1.21it/s]"
     ]
    },
    {
     "name": "stdout",
     "output_type": "stream",
     "text": [
      "encoder.EStateFingerprinter {'_target_': 'encoder.EStateFingerprinter'}\n"
     ]
    },
    {
     "name": "stderr",
     "output_type": "stream",
     "text": [
      " 93%|█████████▎| 347/372 [02:43<00:19,  1.27it/s]"
     ]
    },
    {
     "name": "stdout",
     "output_type": "stream",
     "text": [
      "encoder.EStateFingerprinter {'_target_': 'encoder.EStateFingerprinter'}\n"
     ]
    },
    {
     "name": "stderr",
     "output_type": "stream",
     "text": [
      " 94%|█████████▎| 348/372 [02:43<00:16,  1.42it/s]"
     ]
    },
    {
     "name": "stdout",
     "output_type": "stream",
     "text": [
      "encoder.KPGTEncoder {'_target_': 'encoder.KPGTEncoder'}\n"
     ]
    },
    {
     "name": "stderr",
     "output_type": "stream",
     "text": [
      " 94%|█████████▍| 349/372 [02:44<00:15,  1.51it/s]"
     ]
    },
    {
     "name": "stdout",
     "output_type": "stream",
     "text": [
      "encoder.KPGTEncoder {'_target_': 'encoder.KPGTEncoder'}\n"
     ]
    },
    {
     "name": "stderr",
     "output_type": "stream",
     "text": [
      " 94%|█████████▍| 350/372 [02:44<00:13,  1.67it/s]"
     ]
    },
    {
     "name": "stdout",
     "output_type": "stream",
     "text": [
      "encoder.KPGTEncoder {'_target_': 'encoder.KPGTEncoder'}\n"
     ]
    },
    {
     "name": "stderr",
     "output_type": "stream",
     "text": [
      " 94%|█████████▍| 351/372 [02:45<00:11,  1.85it/s]"
     ]
    },
    {
     "name": "stdout",
     "output_type": "stream",
     "text": [
      "encoder.KPGTEncoder {'_target_': 'encoder.KPGTEncoder'}\n"
     ]
    },
    {
     "name": "stderr",
     "output_type": "stream",
     "text": [
      " 95%|█████████▍| 352/372 [02:45<00:10,  1.92it/s]"
     ]
    },
    {
     "name": "stdout",
     "output_type": "stream",
     "text": [
      "encoder.MolCLREncoder {'pool': 'mean', '_target_': 'encoder.MolCLREncoder', 'architecture': 'GIN'}\n"
     ]
    },
    {
     "name": "stderr",
     "output_type": "stream",
     "text": [
      " 95%|█████████▍| 353/372 [02:46<00:09,  1.96it/s]"
     ]
    },
    {
     "name": "stdout",
     "output_type": "stream",
     "text": [
      "encoder.MolCLREncoder {'pool': 'mean', '_target_': 'encoder.MolCLREncoder', 'architecture': 'GIN'}\n"
     ]
    },
    {
     "name": "stderr",
     "output_type": "stream",
     "text": [
      " 95%|█████████▌| 354/372 [02:46<00:09,  1.96it/s]"
     ]
    },
    {
     "name": "stdout",
     "output_type": "stream",
     "text": [
      "encoder.MolCLREncoder {'pool': 'mean', '_target_': 'encoder.MolCLREncoder', 'architecture': 'GIN'}\n"
     ]
    },
    {
     "name": "stderr",
     "output_type": "stream",
     "text": [
      " 95%|█████████▌| 355/372 [02:47<00:08,  2.05it/s]"
     ]
    },
    {
     "name": "stdout",
     "output_type": "stream",
     "text": [
      "encoder.MolCLREncoder {'pool': 'mean', '_target_': 'encoder.MolCLREncoder', 'architecture': 'GIN'}\n"
     ]
    },
    {
     "name": "stderr",
     "output_type": "stream",
     "text": [
      " 96%|█████████▌| 356/372 [02:47<00:07,  2.08it/s]"
     ]
    },
    {
     "name": "stdout",
     "output_type": "stream",
     "text": [
      "encoder.MolCLREncoder {'pool': 'mean', '_target_': 'encoder.MolCLREncoder', 'architecture': 'GIN'}\n"
     ]
    },
    {
     "name": "stderr",
     "output_type": "stream",
     "text": [
      " 96%|█████████▌| 357/372 [02:48<00:07,  2.13it/s]"
     ]
    },
    {
     "name": "stdout",
     "output_type": "stream",
     "text": [
      "encoder.MoleBERTEncoder {'pool': 'mean', '_target_': 'encoder.MoleBERTEncoder'}\n"
     ]
    },
    {
     "name": "stderr",
     "output_type": "stream",
     "text": [
      " 96%|█████████▌| 358/372 [02:48<00:06,  2.18it/s]"
     ]
    },
    {
     "name": "stdout",
     "output_type": "stream",
     "text": [
      "encoder.MoleBERTEncoder {'pool': 'mean', '_target_': 'encoder.MoleBERTEncoder'}\n"
     ]
    },
    {
     "name": "stderr",
     "output_type": "stream",
     "text": [
      " 97%|█████████▋| 359/372 [02:48<00:05,  2.20it/s]"
     ]
    },
    {
     "name": "stdout",
     "output_type": "stream",
     "text": [
      "encoder.MoleBERTEncoder {'pool': 'mean', '_target_': 'encoder.MoleBERTEncoder'}\n"
     ]
    },
    {
     "name": "stderr",
     "output_type": "stream",
     "text": [
      " 97%|█████████▋| 360/372 [02:49<00:05,  2.31it/s]"
     ]
    },
    {
     "name": "stdout",
     "output_type": "stream",
     "text": [
      "encoder.MoleBERTEncoder {'pool': 'mean', '_target_': 'encoder.MoleBERTEncoder'}\n"
     ]
    },
    {
     "name": "stderr",
     "output_type": "stream",
     "text": [
      " 97%|█████████▋| 361/372 [02:49<00:04,  2.37it/s]"
     ]
    },
    {
     "name": "stdout",
     "output_type": "stream",
     "text": [
      "encoder.MoleBERTEncoder {'pool': 'mean', '_target_': 'encoder.MoleBERTEncoder'}\n"
     ]
    },
    {
     "name": "stderr",
     "output_type": "stream",
     "text": [
      " 97%|█████████▋| 362/372 [02:50<00:04,  2.32it/s]"
     ]
    },
    {
     "name": "stdout",
     "output_type": "stream",
     "text": [
      "encoder.ChemBERTaEncoder {'pool': 'mean', '_target_': 'encoder.ChemBERTaEncoder', 'pretrained_model_name_or_path': 'seyonec/ChemBERTa_zinc250k_v2_40k'}\n"
     ]
    },
    {
     "name": "stderr",
     "output_type": "stream",
     "text": [
      " 98%|█████████▊| 363/372 [02:50<00:03,  2.33it/s]"
     ]
    },
    {
     "name": "stdout",
     "output_type": "stream",
     "text": [
      "encoder.ChemBERTaEncoder {'pool': 'mean', '_target_': 'encoder.ChemBERTaEncoder', 'pretrained_model_name_or_path': 'seyonec/ChemBERTa_zinc250k_v2_40k'}\n"
     ]
    },
    {
     "name": "stderr",
     "output_type": "stream",
     "text": [
      " 98%|█████████▊| 364/372 [02:50<00:03,  2.49it/s]"
     ]
    },
    {
     "name": "stdout",
     "output_type": "stream",
     "text": [
      "encoder.ChemBERTaEncoder {'pool': 'mean', '_target_': 'encoder.ChemBERTaEncoder', 'pretrained_model_name_or_path': 'seyonec/ChemBERTa_zinc250k_v2_40k'}\n"
     ]
    },
    {
     "name": "stderr",
     "output_type": "stream",
     "text": [
      " 98%|█████████▊| 365/372 [02:51<00:03,  2.27it/s]"
     ]
    },
    {
     "name": "stdout",
     "output_type": "stream",
     "text": [
      "encoder.ChemBERTaEncoder {'pool': 'mean', '_target_': 'encoder.ChemBERTaEncoder', 'pretrained_model_name_or_path': 'seyonec/ChemBERTa_zinc250k_v2_40k'}\n"
     ]
    },
    {
     "name": "stderr",
     "output_type": "stream",
     "text": [
      " 98%|█████████▊| 366/372 [02:51<00:02,  2.20it/s]"
     ]
    },
    {
     "name": "stdout",
     "output_type": "stream",
     "text": [
      "encoder.ChemBERTaEncoder {'pool': 'mean', '_target_': 'encoder.ChemBERTaEncoder', 'pretrained_model_name_or_path': 'seyonec/ChemBERTa_zinc250k_v2_40k'}\n"
     ]
    },
    {
     "name": "stderr",
     "output_type": "stream",
     "text": [
      " 99%|█████████▊| 367/372 [02:52<00:02,  2.15it/s]"
     ]
    },
    {
     "name": "stdout",
     "output_type": "stream",
     "text": [
      "encoder.AtomPairs2DFingerprintCount {'_target_': 'encoder.AtomPairs2DFingerprintCount'}\n"
     ]
    },
    {
     "name": "stderr",
     "output_type": "stream",
     "text": [
      " 99%|█████████▉| 368/372 [02:52<00:01,  2.26it/s]"
     ]
    },
    {
     "name": "stdout",
     "output_type": "stream",
     "text": [
      "encoder.AtomPairs2DFingerprintCount {'_target_': 'encoder.AtomPairs2DFingerprintCount'}\n"
     ]
    },
    {
     "name": "stderr",
     "output_type": "stream",
     "text": [
      " 99%|█████████▉| 369/372 [02:53<00:01,  2.24it/s]"
     ]
    },
    {
     "name": "stdout",
     "output_type": "stream",
     "text": [
      "encoder.AtomPairs2DFingerprintCount {'_target_': 'encoder.AtomPairs2DFingerprintCount'}\n"
     ]
    },
    {
     "name": "stderr",
     "output_type": "stream",
     "text": [
      " 99%|█████████▉| 370/372 [02:53<00:00,  2.09it/s]"
     ]
    },
    {
     "name": "stdout",
     "output_type": "stream",
     "text": [
      "encoder.AtomPairs2DFingerprintCount {'_target_': 'encoder.AtomPairs2DFingerprintCount'}\n"
     ]
    },
    {
     "name": "stderr",
     "output_type": "stream",
     "text": [
      "100%|█████████▉| 371/372 [02:54<00:00,  2.03it/s]"
     ]
    },
    {
     "name": "stdout",
     "output_type": "stream",
     "text": [
      "encoder.AtomPairs2DFingerprintCount {'_target_': 'encoder.AtomPairs2DFingerprintCount'}\n"
     ]
    },
    {
     "name": "stderr",
     "output_type": "stream",
     "text": [
      "100%|██████████| 372/372 [02:54<00:00,  2.13it/s]\n"
     ]
    }
   ],
   "source": [
    "import encoder as encoder_module\n",
    "\n",
    "run_info = []\n",
    "raw_results = []\n",
    "api = wandb.Api()\n",
    "# FishTox Only\n",
    "# runs = [run for run in api.sweep('mfederici/infomol/vndc3ra0').runs]\n",
    "# Everything else\n",
    "runs = [run for run in api.sweep('mfederici/infomol/e9rm3mxd').runs]\n",
    "\n",
    "for run in tqdm(runs):\n",
    "    if run.state != 'finished':\n",
    "        print(run.id, run.state)\n",
    "    else:\n",
    "        encoder_params = run.config['data']['encoder']\n",
    "        encoder_class = encoder_params['_target_']\n",
    "        del encoder_params['_target_']\n",
    "        encoder_class = getattr(encoder_module, encoder_class.replace('encoder.',''))\n",
    "        name = encoder_class.get_name(**encoder_params) \n",
    "        \n",
    "        n_dim = encoder_class.get_n_dim(**encoder_params)\n",
    "        seed = run.config['method']['seed']\n",
    "        dataset = run.config['data']['dataset']\n",
    "        if 'name' in dataset:\n",
    "            dataset = dataset['name']\n",
    "        elif 'AQSOLSmiles' in dataset['_target_']:\n",
    "            dataset = 'aqsol'\n",
    "        elif 'FishTox' in dataset['_target_']:\n",
    "            dataset = 'fishtox'\n",
    "        else:\n",
    "            print(dataset)\n",
    "            raise NotImplementedError()\n",
    "        r_idx = run.id\n",
    "        run_info.append({\n",
    "            'encoder': name,\n",
    "            'dataset': dataset,\n",
    "            'r_idx': r_idx,\n",
    "            'n_dim': n_dim,\n",
    "            'seed': seed,\n",
    "        })\n",
    "        run_results = run.history()\n",
    "        run_results['r_idx'] = run.id\n",
    "        raw_results.append(run_results)\n",
    "        \n",
    "        \n",
    "run_info = pd.DataFrame(run_info)\n",
    "raw_results = pd.concat(raw_results)"
   ],
   "metadata": {
    "collapsed": false,
    "ExecuteTime": {
     "end_time": "2024-03-12T12:52:59.751526Z",
     "start_time": "2024-03-12T12:49:56.366895Z"
    }
   },
   "id": "81fd9c84e70bd1bb",
   "execution_count": 4
  },
  {
   "cell_type": "code",
   "outputs": [],
   "source": [
    "results = raw_results.melt(id_vars=['r_idx','_runtime', 'iteration', '_timestamp', '_step', 'epoch'], var_name='split', value_name=\"mutual_information\")\n",
    "# Clean up the 'split' column to only contain \"train\", \"valid\", or \"test\"\n",
    "results[\"split\"] = results[\"split\"].str.replace('/.*', '', regex=True)\n"
   ],
   "metadata": {
    "collapsed": false,
    "ExecuteTime": {
     "end_time": "2024-03-12T12:08:55.794170Z",
     "start_time": "2024-03-12T12:08:55.762870Z"
    }
   },
   "id": "72896405beaab822",
   "execution_count": 24
  },
  {
   "cell_type": "code",
   "outputs": [
    {
     "name": "stdout",
     "output_type": "stream",
     "text": [
      "14760\n",
      "11868\n"
     ]
    }
   ],
   "source": [
    "print(len(results))\n",
    "failed = results[results['mutual_information'] == 'NaN']\n",
    "failed_runs = failed['r_idx'].unique()\n",
    "results = results[results['mutual_information'] != 'NaN']\n",
    "print(len(results))\n",
    "results['mutual_information'] = pd.to_numeric(results['mutual_information'])\n",
    "agg_results = results[\n",
    "    ['r_idx', 'mutual_information', 'split']\n",
    "].groupby(['r_idx', 'split']).mean().reset_index()"
   ],
   "metadata": {
    "collapsed": false,
    "ExecuteTime": {
     "end_time": "2024-03-12T12:08:56.507117Z",
     "start_time": "2024-03-12T12:08:56.479888Z"
    }
   },
   "id": "615fe18d77a526ba",
   "execution_count": 25
  },
  {
   "cell_type": "code",
   "outputs": [
    {
     "data": {
      "text/plain": "          r_idx    _runtime  iteration    _timestamp  _step  epoch  split  \\\n190    oa87lly8   12.768620        450  1.710241e+09    450    450  valid   \n191    oa87lly8   18.546346        900  1.710241e+09    900    900  valid   \n192    oa87lly8   24.402303       1350  1.710241e+09   1350   1350  valid   \n193    oa87lly8   30.705723       1800  1.710241e+09   1800   1800  valid   \n194    oa87lly8   37.148028       2250  1.710241e+09   2250   2250  valid   \n...         ...         ...        ...           ...    ...    ...    ...   \n14204  vdemua8y  182.196903      12500  1.710168e+09  12500  12500   test   \n14205  vdemua8y  216.807146      15000  1.710168e+09  15000  15000   test   \n14206  vdemua8y  251.418304      17500  1.710168e+09  17500  17500   test   \n14208  vdemua8y  355.978932      25625  1.710168e+09  25625  25625   test   \n14209  vdemua8y  390.681955      28125  1.710168e+09  28125  28125   test   \n\n      mutual_information  \n190                  NaN  \n191                  NaN  \n192                  NaN  \n193                  NaN  \n194                  NaN  \n...                  ...  \n14204                NaN  \n14205                NaN  \n14206                NaN  \n14208                NaN  \n14209                NaN  \n\n[2892 rows x 8 columns]",
      "text/html": "<div>\n<style scoped>\n    .dataframe tbody tr th:only-of-type {\n        vertical-align: middle;\n    }\n\n    .dataframe tbody tr th {\n        vertical-align: top;\n    }\n\n    .dataframe thead th {\n        text-align: right;\n    }\n</style>\n<table border=\"1\" class=\"dataframe\">\n  <thead>\n    <tr style=\"text-align: right;\">\n      <th></th>\n      <th>r_idx</th>\n      <th>_runtime</th>\n      <th>iteration</th>\n      <th>_timestamp</th>\n      <th>_step</th>\n      <th>epoch</th>\n      <th>split</th>\n      <th>mutual_information</th>\n    </tr>\n  </thead>\n  <tbody>\n    <tr>\n      <th>190</th>\n      <td>oa87lly8</td>\n      <td>12.768620</td>\n      <td>450</td>\n      <td>1.710241e+09</td>\n      <td>450</td>\n      <td>450</td>\n      <td>valid</td>\n      <td>NaN</td>\n    </tr>\n    <tr>\n      <th>191</th>\n      <td>oa87lly8</td>\n      <td>18.546346</td>\n      <td>900</td>\n      <td>1.710241e+09</td>\n      <td>900</td>\n      <td>900</td>\n      <td>valid</td>\n      <td>NaN</td>\n    </tr>\n    <tr>\n      <th>192</th>\n      <td>oa87lly8</td>\n      <td>24.402303</td>\n      <td>1350</td>\n      <td>1.710241e+09</td>\n      <td>1350</td>\n      <td>1350</td>\n      <td>valid</td>\n      <td>NaN</td>\n    </tr>\n    <tr>\n      <th>193</th>\n      <td>oa87lly8</td>\n      <td>30.705723</td>\n      <td>1800</td>\n      <td>1.710241e+09</td>\n      <td>1800</td>\n      <td>1800</td>\n      <td>valid</td>\n      <td>NaN</td>\n    </tr>\n    <tr>\n      <th>194</th>\n      <td>oa87lly8</td>\n      <td>37.148028</td>\n      <td>2250</td>\n      <td>1.710241e+09</td>\n      <td>2250</td>\n      <td>2250</td>\n      <td>valid</td>\n      <td>NaN</td>\n    </tr>\n    <tr>\n      <th>...</th>\n      <td>...</td>\n      <td>...</td>\n      <td>...</td>\n      <td>...</td>\n      <td>...</td>\n      <td>...</td>\n      <td>...</td>\n      <td>...</td>\n    </tr>\n    <tr>\n      <th>14204</th>\n      <td>vdemua8y</td>\n      <td>182.196903</td>\n      <td>12500</td>\n      <td>1.710168e+09</td>\n      <td>12500</td>\n      <td>12500</td>\n      <td>test</td>\n      <td>NaN</td>\n    </tr>\n    <tr>\n      <th>14205</th>\n      <td>vdemua8y</td>\n      <td>216.807146</td>\n      <td>15000</td>\n      <td>1.710168e+09</td>\n      <td>15000</td>\n      <td>15000</td>\n      <td>test</td>\n      <td>NaN</td>\n    </tr>\n    <tr>\n      <th>14206</th>\n      <td>vdemua8y</td>\n      <td>251.418304</td>\n      <td>17500</td>\n      <td>1.710168e+09</td>\n      <td>17500</td>\n      <td>17500</td>\n      <td>test</td>\n      <td>NaN</td>\n    </tr>\n    <tr>\n      <th>14208</th>\n      <td>vdemua8y</td>\n      <td>355.978932</td>\n      <td>25625</td>\n      <td>1.710168e+09</td>\n      <td>25625</td>\n      <td>25625</td>\n      <td>test</td>\n      <td>NaN</td>\n    </tr>\n    <tr>\n      <th>14209</th>\n      <td>vdemua8y</td>\n      <td>390.681955</td>\n      <td>28125</td>\n      <td>1.710168e+09</td>\n      <td>28125</td>\n      <td>28125</td>\n      <td>test</td>\n      <td>NaN</td>\n    </tr>\n  </tbody>\n</table>\n<p>2892 rows × 8 columns</p>\n</div>"
     },
     "execution_count": 26,
     "metadata": {},
     "output_type": "execute_result"
    }
   ],
   "source": [
    "failed"
   ],
   "metadata": {
    "collapsed": false,
    "ExecuteTime": {
     "end_time": "2024-03-12T12:08:58.623322Z",
     "start_time": "2024-03-12T12:08:58.600598Z"
    }
   },
   "id": "e81d6d385e2c87be",
   "execution_count": 26
  },
  {
   "cell_type": "code",
   "outputs": [
    {
     "name": "stdout",
     "output_type": "stream",
     "text": [
      "[['encoder.SubstructureFingerprintCount' 'SIDER' 'oa87lly8' 10 2]]\n",
      "[['encoder.SubstructureFingerprintCount' 'SIDER' '5ob4mu7x' 10 32]]\n",
      "[['encoder.SubstructureFingerprintCount' 'SIDER' 'id1skhk8' 10 404]]\n",
      "[['encoder.SubstructureFingerprintCount' 'SIDER' '78rid30x' 10 7]]\n",
      "[['encoder.SubstructureFingerprintCount' 'SIDER' 'ns070t4b' 10 42]]\n",
      "[['encoder.PubchemFingerprinter' 'SIDER' '55u56soy' 10 2]]\n",
      "[['encoder.PubchemFingerprinter' 'SIDER' 'gddvf38q' 10 32]]\n",
      "[['encoder.PubchemFingerprinter' 'SIDER' 'cfnkhiwa' 10 404]]\n",
      "[['encoder.PubchemFingerprinter' 'SIDER' '2yjr32h2' 10 7]]\n",
      "[['encoder.PubchemFingerprinter' 'SIDER' 'c6f1nedv' 10 42]]\n",
      "[['encoder.MACCSFingerprinter' 'SIDER' 'qqetzq0j' 10 2]]\n",
      "[['encoder.MACCSFingerprinter' 'SIDER' '01n2js4u' 10 32]]\n",
      "[['encoder.MACCSFingerprinter' 'SIDER' 'ts8u4te4' 10 404]]\n",
      "[['encoder.MACCSFingerprinter' 'SIDER' 'aff07j2n' 10 7]]\n",
      "[['encoder.MACCSFingerprinter' 'SIDER' 'o0o0iwka' 10 42]]\n",
      "[['encoder.KlekotaRothFingerprintCount' 'SIDER' 'l0cfvpxx' 10 2]]\n",
      "[['encoder.KlekotaRothFingerprintCount' 'SIDER' 'a8wg9xk1' 10 32]]\n",
      "[['encoder.KlekotaRothFingerprintCount' 'SIDER' 'gqm48gmo' 10 404]]\n",
      "[['encoder.KlekotaRothFingerprintCount' 'SIDER' 'fok4c103' 10 7]]\n",
      "[['encoder.KlekotaRothFingerprintCount' 'SIDER' 'l0winyvd' 10 42]]\n",
      "[['encoder.KPGTEncoder' 'SIDER' '3pre1rm9' 10 2]]\n",
      "[['encoder.KPGTEncoder' 'SIDER' 'k7725ibk' 10 32]]\n",
      "[['encoder.KPGTEncoder' 'SIDER' '3gvlipwb' 10 404]]\n",
      "[['encoder.KPGTEncoder' 'SIDER' '27oob9bw' 10 7]]\n",
      "[['encoder.KPGTEncoder' 'SIDER' 'xu7v210g' 10 42]]\n",
      "[['encoder.ChemBERTaEncoder' 'SIDER' '51u6fhs2' 10 2]]\n",
      "[['encoder.ChemBERTaEncoder' 'SIDER' 'tjwv4x34' 10 32]]\n",
      "[['encoder.ChemBERTaEncoder' 'SIDER' 'osawwo6f' 10 404]]\n",
      "[['encoder.ChemBERTaEncoder' 'SIDER' 'hxt3r3o6' 10 7]]\n",
      "[['encoder.ChemBERTaEncoder' 'SIDER' 'qwtl1roq' 10 42]]\n",
      "[['encoder.KPGTEncoder' 'Lipo' 'hwg3gyh5' 10 2]]\n",
      "[['encoder.KPGTEncoder' 'Lipo' '4dixjico' 10 32]]\n",
      "[['encoder.KPGTEncoder' 'Lipo' 'apost9z0' 10 404]]\n",
      "[['encoder.KPGTEncoder' 'Lipo' 'f31mutq9' 10 7]]\n",
      "[['encoder.KPGTEncoder' 'Lipo' 'udj19dyu' 10 42]]\n",
      "[['encoder.EStateFingerprinter' 'BBBP' 'o7pqqd3a' 10 2]]\n",
      "[['encoder.EStateFingerprinter' 'BBBP' 'p1t0nbe2' 10 32]]\n",
      "[['encoder.EStateFingerprinter' 'BBBP' 'nio3bldl' 10 404]]\n",
      "[['encoder.EStateFingerprinter' 'BBBP' 'h9s7qdt2' 10 7]]\n",
      "[['encoder.EStateFingerprinter' 'BBBP' 'h67e9jbl' 10 42]]\n",
      "[['encoder.KPGTEncoder' 'BBBP' '1wjg18i2' 10 2]]\n",
      "[['encoder.KPGTEncoder' 'BBBP' '51olec99' 10 32]]\n",
      "[['encoder.KPGTEncoder' 'BBBP' 'ughcdyur' 10 404]]\n",
      "[['encoder.KPGTEncoder' 'BBBP' '12ksrea0' 10 7]]\n",
      "[['encoder.KPGTEncoder' 'BBBP' 'znh9e2yr' 10 42]]\n",
      "[['encoder.MolCLREncoder' 'BBBP' 'ik50h24v' 10 2]]\n",
      "[['encoder.MolCLREncoder' 'BBBP' '33fqf5z1' 10 32]]\n",
      "[['encoder.MolCLREncoder' 'BBBP' 'xf9z7vy5' 10 404]]\n",
      "[['encoder.MolCLREncoder' 'BBBP' '3r0fv000' 10 7]]\n",
      "[['encoder.MolCLREncoder' 'BBBP' 'cinwstqv' 10 42]]\n",
      "[['encoder.MoleBERTEncoder' 'BBBP' 'gi0ayeav' 10 2]]\n",
      "[['encoder.MoleBERTEncoder' 'BBBP' '2is4hwz3' 10 32]]\n",
      "[['encoder.MoleBERTEncoder' 'BBBP' 'eqnlpnmw' 10 404]]\n",
      "[['encoder.MoleBERTEncoder' 'BBBP' 'mtlqzamo' 10 7]]\n",
      "[['encoder.MoleBERTEncoder' 'BBBP' 'vhcm914w' 10 42]]\n",
      "[['encoder.ChemBERTaEncoder' 'BBBP' '3k7xqcge' 10 2]]\n",
      "[['encoder.ChemBERTaEncoder' 'BBBP' 'ifku4yiq' 10 32]]\n",
      "[['encoder.ChemBERTaEncoder' 'BBBP' 'yj3mz4vt' 10 404]]\n",
      "[['encoder.ChemBERTaEncoder' 'BBBP' 'nsrt2qhz' 10 7]]\n",
      "[['encoder.ChemBERTaEncoder' 'BBBP' '6ydmzp5i' 10 42]]\n",
      "[['encoder.MACCSFingerprinter' 'aqsol' 'jvjunrsf' 10 2]]\n",
      "[['encoder.MACCSFingerprinter' 'aqsol' 'gmhwpcg4' 10 32]]\n",
      "[['encoder.MACCSFingerprinter' 'aqsol' '4zvtksce' 10 404]]\n",
      "[['encoder.MACCSFingerprinter' 'aqsol' 'ff3yl8hr' 10 7]]\n",
      "[['encoder.MACCSFingerprinter' 'aqsol' '0ngu4hph' 10 42]]\n",
      "[['encoder.KPGTEncoder' 'aqsol' 'm8ft99dl' 10 2]]\n",
      "[['encoder.KPGTEncoder' 'aqsol' 'lutnjcwk' 10 32]]\n",
      "[['encoder.KPGTEncoder' 'aqsol' 'd4yjjkj1' 10 404]]\n",
      "[['encoder.KPGTEncoder' 'aqsol' 'siktblqk' 10 7]]\n",
      "[['encoder.KPGTEncoder' 'aqsol' 'd0400aoe' 10 42]]\n",
      "[['encoder.ChemBERTaEncoder' 'aqsol' '0q521fdp' 10 2]]\n",
      "[['encoder.ChemBERTaEncoder' 'aqsol' '08pzp2hk' 10 32]]\n",
      "[['encoder.ChemBERTaEncoder' 'aqsol' 'aaunocpa' 10 404]]\n",
      "[['encoder.ChemBERTaEncoder' 'aqsol' 'bklo2l1m' 10 7]]\n",
      "[['encoder.ChemBERTaEncoder' 'aqsol' 'vdemua8y' 10 42]]\n"
     ]
    }
   ],
   "source": [
    "for r_idx in failed_runs:\n",
    "    print(run_info[run_info['r_idx']==r_idx].values)"
   ],
   "metadata": {
    "collapsed": false,
    "ExecuteTime": {
     "end_time": "2024-03-12T12:09:26.623801Z",
     "start_time": "2024-03-12T12:09:26.560368Z"
    }
   },
   "id": "702c056b732d3648",
   "execution_count": 27
  },
  {
   "cell_type": "code",
   "outputs": [
    {
     "data": {
      "text/plain": "<Figure size 1574x2400 with 32 Axes>",
      "image/png": "[encoded data removed]"
     },
     "metadata": {},
     "output_type": "display_data"
    }
   ],
   "source": [
    "import matplotlib as mpl\n",
    "mpl.rcParams['hatch.linewidth'] = 1.0\n",
    "\n",
    "data = run_info.merge(\n",
    "    agg_results, on='r_idx'\n",
    ")\n",
    "data['encoder'] = data['encoder'].replace(to_replace=names)\n",
    "\n",
    "\n",
    "grid = sns.FacetGrid(\n",
    "    data, \n",
    "    col='split', row='dataset', hue='encoder', \n",
    "    col_order=['train', 'valid', 'test', 'all'], \n",
    "    hue_order=order,\n",
    "    sharey=False,\n",
    ")\n",
    "grid.map(sns.barplot, 'encoder', 'mutual_information', order=order, errorbar='ci', fill=True, alpha=0.8)\n",
    "\n",
    "\n",
    "for i in range(grid.axes.shape[0]):\n",
    "    for j in range(grid.axes.shape[1]):\n",
    "        grid.axes[i,j].set_ylim(0,grid.axes[i,0].get_ylim()[1])\n",
    "grid.add_legend()\n",
    "\n",
    "for ax in grid.axes.reshape(-1):\n",
    "    for i, patch in enumerate(ax.patches):\n",
    "        if i>= len(grid.axes[-1,0].get_xticklabels()):\n",
    "            break\n",
    "        model = grid.axes[-1,0].get_xticklabels()[i].get_text()\n",
    "        if model in ml_repr:\n",
    "            patch.set_hatch('////')\n",
    "        else:\n",
    "            patch.set_hatch('\\\\\\\\')\n",
    "\n",
    "for ax in grid.axes[-1,:]:\n",
    "    ax.set_xticks([])\n",
    "grid.add_legend()\n",
    "sns.despine();"
   ],
   "metadata": {
    "collapsed": false,
    "ExecuteTime": {
     "end_time": "2024-03-12T12:11:21.777186Z",
     "start_time": "2024-03-12T12:11:09.161074Z"
    }
   },
   "id": "e6291a774ff37722",
   "execution_count": 28
  },
  {
   "cell_type": "code",
   "outputs": [
    {
     "name": "stderr",
     "output_type": "stream",
     "text": [
      "/home/marco/anaconda3/envs/InfoMol/lib/python3.9/site-packages/seaborn/_base.py:949: FutureWarning: When grouping with a length-1 list-like, you will need to pass a length-1 tuple to get_group in a future version of pandas. Pass `(name,)` instead of `name` to silence this warning.\n",
      "  data_subset = grouped_data.get_group(pd_key)\n",
      "/home/marco/anaconda3/envs/InfoMol/lib/python3.9/site-packages/seaborn/_base.py:949: FutureWarning: When grouping with a length-1 list-like, you will need to pass a length-1 tuple to get_group in a future version of pandas. Pass `(name,)` instead of `name` to silence this warning.\n",
      "  data_subset = grouped_data.get_group(pd_key)\n",
      "/home/marco/anaconda3/envs/InfoMol/lib/python3.9/site-packages/seaborn/_base.py:949: FutureWarning: When grouping with a length-1 list-like, you will need to pass a length-1 tuple to get_group in a future version of pandas. Pass `(name,)` instead of `name` to silence this warning.\n",
      "  data_subset = grouped_data.get_group(pd_key)\n",
      "/home/marco/anaconda3/envs/InfoMol/lib/python3.9/site-packages/seaborn/_base.py:949: FutureWarning: When grouping with a length-1 list-like, you will need to pass a length-1 tuple to get_group in a future version of pandas. Pass `(name,)` instead of `name` to silence this warning.\n",
      "  data_subset = grouped_data.get_group(pd_key)\n",
      "/home/marco/anaconda3/envs/InfoMol/lib/python3.9/site-packages/seaborn/_base.py:949: FutureWarning: When grouping with a length-1 list-like, you will need to pass a length-1 tuple to get_group in a future version of pandas. Pass `(name,)` instead of `name` to silence this warning.\n",
      "  data_subset = grouped_data.get_group(pd_key)\n",
      "/home/marco/anaconda3/envs/InfoMol/lib/python3.9/site-packages/seaborn/_base.py:949: FutureWarning: When grouping with a length-1 list-like, you will need to pass a length-1 tuple to get_group in a future version of pandas. Pass `(name,)` instead of `name` to silence this warning.\n",
      "  data_subset = grouped_data.get_group(pd_key)\n",
      "/home/marco/anaconda3/envs/InfoMol/lib/python3.9/site-packages/seaborn/_base.py:949: FutureWarning: When grouping with a length-1 list-like, you will need to pass a length-1 tuple to get_group in a future version of pandas. Pass `(name,)` instead of `name` to silence this warning.\n",
      "  data_subset = grouped_data.get_group(pd_key)\n",
      "/home/marco/anaconda3/envs/InfoMol/lib/python3.9/site-packages/seaborn/_base.py:949: FutureWarning: When grouping with a length-1 list-like, you will need to pass a length-1 tuple to get_group in a future version of pandas. Pass `(name,)` instead of `name` to silence this warning.\n",
      "  data_subset = grouped_data.get_group(pd_key)\n",
      "/home/marco/anaconda3/envs/InfoMol/lib/python3.9/site-packages/seaborn/_base.py:949: FutureWarning: When grouping with a length-1 list-like, you will need to pass a length-1 tuple to get_group in a future version of pandas. Pass `(name,)` instead of `name` to silence this warning.\n",
      "  data_subset = grouped_data.get_group(pd_key)\n"
     ]
    },
    {
     "data": {
      "text/plain": "<Figure size 640x480 with 1 Axes>",
      "image/png": "[encoded data removed]"
     },
     "metadata": {},
     "output_type": "display_data"
    }
   ],
   "source": [
    "from copy import deepcopy\n",
    "data = deepcopy(run_info)\n",
    "data['encoder'] = data['encoder'].replace(to_replace=names)\n",
    "sns.barplot(data, y='encoder', hue='encoder', x='n_dim', order=order, legend=False, orient='h', hue_order=order)\n",
    "plt.xscale('log')\n",
    "sns.despine()"
   ],
   "metadata": {
    "collapsed": false,
    "ExecuteTime": {
     "end_time": "2024-03-11T14:14:20.465365651Z",
     "start_time": "2024-03-11T14:14:19.605992493Z"
    }
   },
   "id": "6dd4a2b740301561",
   "execution_count": 36
  },
  {
   "cell_type": "code",
   "outputs": [
    {
     "data": {
      "text/plain": "                           encoder dataset     r_idx  n_dim\n0      AtomPairs2DFingerprintCount   aqsol  qvlghsea    780\n1     SubstructureFingerprintCount    BACE  h8gwu9gk    307\n2     SubstructureFingerprintCount    BACE  iveb91vq    307\n3     SubstructureFingerprintCount    BACE  bnr3j8rr    307\n4     SubstructureFingerprintCount    BACE  ycdi0x0c    307\n5     SubstructureFingerprintCount    BACE  hiq7b9bv    307\n6             PubchemFingerprinter    BACE  jm3pp25o    881\n7             PubchemFingerprinter    BACE  nbp5q4f4    881\n8             PubchemFingerprinter    BACE  uldwwq7t    881\n9             PubchemFingerprinter    BACE  1nycrn5u    881\n10            PubchemFingerprinter    BACE  ooh84x5y    881\n11              MACCSFingerprinter    BACE  q4v0yae3    166\n12              MACCSFingerprinter    BACE  s7d32s6m    166\n13              MACCSFingerprinter    BACE  8fl8g9rn    166\n14              MACCSFingerprinter    BACE  9va8i9qs    166\n15              MACCSFingerprinter    BACE  o5yniecq    166\n16     KlekotaRothFingerprintCount    BACE  awjzirhs   4860\n17     KlekotaRothFingerprintCount    BACE  l09bq3v7   4860\n18     KlekotaRothFingerprintCount    BACE  ww5a17qj   4860\n19     KlekotaRothFingerprintCount    BACE  1glv7jsr   4860\n20     KlekotaRothFingerprintCount    BACE  pesqises   4860\n21                       KPGT_base    BACE  9rufpwb0   2304\n22             EStateFingerprinter    BACE  ihida9tm     79\n23             EStateFingerprinter    BACE  2kqzcs91     79\n24             EStateFingerprinter    BACE  3zlwntof     79\n25             EStateFingerprinter    BACE  xgjg5f3y     79\n26             EStateFingerprinter    BACE  u36dgz3z     79\n27                       KPGT_base    BACE  w4y31vwk   2304\n28                       KPGT_base    BACE  qdf5c37g   2304\n29                       KPGT_base    BACE  et9nghnv   2304\n30                       KPGT_base    BACE  ruuxqpy3   2304\n31                 MolCLR_GIN_mean    BACE  yz1i2q3h    256\n32                 MolCLR_GIN_mean    BACE  7e6kc5ge    256\n33                 MolCLR_GIN_mean    BACE  d26desnp    256\n34                 MolCLR_GIN_mean    BACE  3q7eylhv    256\n35                 MolCLR_GIN_mean    BACE  pev5irbd    256\n36                   MoleBERT_mean    BACE  7lzghn3v    300\n37                   MoleBERT_mean    BACE  01hbh4re    300\n38                   MoleBERT_mean    BACE  n149vizb    300\n39                   MoleBERT_mean    BACE  y0q2g0y6    300\n40                   MoleBERT_mean    BACE  77h4afzt    300\n41  ChemBERTa_zinc250k_v2_40k_mean    BACE  21v9b4yp    768\n42  ChemBERTa_zinc250k_v2_40k_mean    BACE  5ozkbcsr    768\n43  ChemBERTa_zinc250k_v2_40k_mean    BACE  g0b6v1ih    768\n44  ChemBERTa_zinc250k_v2_40k_mean    BACE  eug32e2o    768\n45  ChemBERTa_zinc250k_v2_40k_mean    BACE  d8a8uecz    768\n46     AtomPairs2DFingerprintCount    BACE  ikh0c4ws    780\n47     AtomPairs2DFingerprintCount    BACE  7rohmeby    780\n48     AtomPairs2DFingerprintCount    BACE  2kuqv12g    780\n49     AtomPairs2DFingerprintCount    BACE  7w41o4oa    780\n50     AtomPairs2DFingerprintCount    BACE  l61e8r0k    780",
      "text/html": "<div>\n<style scoped>\n    .dataframe tbody tr th:only-of-type {\n        vertical-align: middle;\n    }\n\n    .dataframe tbody tr th {\n        vertical-align: top;\n    }\n\n    .dataframe thead th {\n        text-align: right;\n    }\n</style>\n<table border=\"1\" class=\"dataframe\">\n  <thead>\n    <tr style=\"text-align: right;\">\n      <th></th>\n      <th>encoder</th>\n      <th>dataset</th>\n      <th>r_idx</th>\n      <th>n_dim</th>\n    </tr>\n  </thead>\n  <tbody>\n    <tr>\n      <th>0</th>\n      <td>AtomPairs2DFingerprintCount</td>\n      <td>aqsol</td>\n      <td>qvlghsea</td>\n      <td>780</td>\n    </tr>\n    <tr>\n      <th>1</th>\n      <td>SubstructureFingerprintCount</td>\n      <td>BACE</td>\n      <td>h8gwu9gk</td>\n      <td>307</td>\n    </tr>\n    <tr>\n      <th>2</th>\n      <td>SubstructureFingerprintCount</td>\n      <td>BACE</td>\n      <td>iveb91vq</td>\n      <td>307</td>\n    </tr>\n    <tr>\n      <th>3</th>\n      <td>SubstructureFingerprintCount</td>\n      <td>BACE</td>\n      <td>bnr3j8rr</td>\n      <td>307</td>\n    </tr>\n    <tr>\n      <th>4</th>\n      <td>SubstructureFingerprintCount</td>\n      <td>BACE</td>\n      <td>ycdi0x0c</td>\n      <td>307</td>\n    </tr>\n    <tr>\n      <th>5</th>\n      <td>SubstructureFingerprintCount</td>\n      <td>BACE</td>\n      <td>hiq7b9bv</td>\n      <td>307</td>\n    </tr>\n    <tr>\n      <th>6</th>\n      <td>PubchemFingerprinter</td>\n      <td>BACE</td>\n      <td>jm3pp25o</td>\n      <td>881</td>\n    </tr>\n    <tr>\n      <th>7</th>\n      <td>PubchemFingerprinter</td>\n      <td>BACE</td>\n      <td>nbp5q4f4</td>\n      <td>881</td>\n    </tr>\n    <tr>\n      <th>8</th>\n      <td>PubchemFingerprinter</td>\n      <td>BACE</td>\n      <td>uldwwq7t</td>\n      <td>881</td>\n    </tr>\n    <tr>\n      <th>9</th>\n      <td>PubchemFingerprinter</td>\n      <td>BACE</td>\n      <td>1nycrn5u</td>\n      <td>881</td>\n    </tr>\n    <tr>\n      <th>10</th>\n      <td>PubchemFingerprinter</td>\n      <td>BACE</td>\n      <td>ooh84x5y</td>\n      <td>881</td>\n    </tr>\n    <tr>\n      <th>11</th>\n      <td>MACCSFingerprinter</td>\n      <td>BACE</td>\n      <td>q4v0yae3</td>\n      <td>166</td>\n    </tr>\n    <tr>\n      <th>12</th>\n      <td>MACCSFingerprinter</td>\n      <td>BACE</td>\n      <td>s7d32s6m</td>\n      <td>166</td>\n    </tr>\n    <tr>\n      <th>13</th>\n      <td>MACCSFingerprinter</td>\n      <td>BACE</td>\n      <td>8fl8g9rn</td>\n      <td>166</td>\n    </tr>\n    <tr>\n      <th>14</th>\n      <td>MACCSFingerprinter</td>\n      <td>BACE</td>\n      <td>9va8i9qs</td>\n      <td>166</td>\n    </tr>\n    <tr>\n      <th>15</th>\n      <td>MACCSFingerprinter</td>\n      <td>BACE</td>\n      <td>o5yniecq</td>\n      <td>166</td>\n    </tr>\n    <tr>\n      <th>16</th>\n      <td>KlekotaRothFingerprintCount</td>\n      <td>BACE</td>\n      <td>awjzirhs</td>\n      <td>4860</td>\n    </tr>\n    <tr>\n      <th>17</th>\n      <td>KlekotaRothFingerprintCount</td>\n      <td>BACE</td>\n      <td>l09bq3v7</td>\n      <td>4860</td>\n    </tr>\n    <tr>\n      <th>18</th>\n      <td>KlekotaRothFingerprintCount</td>\n      <td>BACE</td>\n      <td>ww5a17qj</td>\n      <td>4860</td>\n    </tr>\n    <tr>\n      <th>19</th>\n      <td>KlekotaRothFingerprintCount</td>\n      <td>BACE</td>\n      <td>1glv7jsr</td>\n      <td>4860</td>\n    </tr>\n    <tr>\n      <th>20</th>\n      <td>KlekotaRothFingerprintCount</td>\n      <td>BACE</td>\n      <td>pesqises</td>\n      <td>4860</td>\n    </tr>\n    <tr>\n      <th>21</th>\n      <td>KPGT_base</td>\n      <td>BACE</td>\n      <td>9rufpwb0</td>\n      <td>2304</td>\n    </tr>\n    <tr>\n      <th>22</th>\n      <td>EStateFingerprinter</td>\n      <td>BACE</td>\n      <td>ihida9tm</td>\n      <td>79</td>\n    </tr>\n    <tr>\n      <th>23</th>\n      <td>EStateFingerprinter</td>\n      <td>BACE</td>\n      <td>2kqzcs91</td>\n      <td>79</td>\n    </tr>\n    <tr>\n      <th>24</th>\n      <td>EStateFingerprinter</td>\n      <td>BACE</td>\n      <td>3zlwntof</td>\n      <td>79</td>\n    </tr>\n    <tr>\n      <th>25</th>\n      <td>EStateFingerprinter</td>\n      <td>BACE</td>\n      <td>xgjg5f3y</td>\n      <td>79</td>\n    </tr>\n    <tr>\n      <th>26</th>\n      <td>EStateFingerprinter</td>\n      <td>BACE</td>\n      <td>u36dgz3z</td>\n      <td>79</td>\n    </tr>\n    <tr>\n      <th>27</th>\n      <td>KPGT_base</td>\n      <td>BACE</td>\n      <td>w4y31vwk</td>\n      <td>2304</td>\n    </tr>\n    <tr>\n      <th>28</th>\n      <td>KPGT_base</td>\n      <td>BACE</td>\n      <td>qdf5c37g</td>\n      <td>2304</td>\n    </tr>\n    <tr>\n      <th>29</th>\n      <td>KPGT_base</td>\n      <td>BACE</td>\n      <td>et9nghnv</td>\n      <td>2304</td>\n    </tr>\n    <tr>\n      <th>30</th>\n      <td>KPGT_base</td>\n      <td>BACE</td>\n      <td>ruuxqpy3</td>\n      <td>2304</td>\n    </tr>\n    <tr>\n      <th>31</th>\n      <td>MolCLR_GIN_mean</td>\n      <td>BACE</td>\n      <td>yz1i2q3h</td>\n      <td>256</td>\n    </tr>\n    <tr>\n      <th>32</th>\n      <td>MolCLR_GIN_mean</td>\n      <td>BACE</td>\n      <td>7e6kc5ge</td>\n      <td>256</td>\n    </tr>\n    <tr>\n      <th>33</th>\n      <td>MolCLR_GIN_mean</td>\n      <td>BACE</td>\n      <td>d26desnp</td>\n      <td>256</td>\n    </tr>\n    <tr>\n      <th>34</th>\n      <td>MolCLR_GIN_mean</td>\n      <td>BACE</td>\n      <td>3q7eylhv</td>\n      <td>256</td>\n    </tr>\n    <tr>\n      <th>35</th>\n      <td>MolCLR_GIN_mean</td>\n      <td>BACE</td>\n      <td>pev5irbd</td>\n      <td>256</td>\n    </tr>\n    <tr>\n      <th>36</th>\n      <td>MoleBERT_mean</td>\n      <td>BACE</td>\n      <td>7lzghn3v</td>\n      <td>300</td>\n    </tr>\n    <tr>\n      <th>37</th>\n      <td>MoleBERT_mean</td>\n      <td>BACE</td>\n      <td>01hbh4re</td>\n      <td>300</td>\n    </tr>\n    <tr>\n      <th>38</th>\n      <td>MoleBERT_mean</td>\n      <td>BACE</td>\n      <td>n149vizb</td>\n      <td>300</td>\n    </tr>\n    <tr>\n      <th>39</th>\n      <td>MoleBERT_mean</td>\n      <td>BACE</td>\n      <td>y0q2g0y6</td>\n      <td>300</td>\n    </tr>\n    <tr>\n      <th>40</th>\n      <td>MoleBERT_mean</td>\n      <td>BACE</td>\n      <td>77h4afzt</td>\n      <td>300</td>\n    </tr>\n    <tr>\n      <th>41</th>\n      <td>ChemBERTa_zinc250k_v2_40k_mean</td>\n      <td>BACE</td>\n      <td>21v9b4yp</td>\n      <td>768</td>\n    </tr>\n    <tr>\n      <th>42</th>\n      <td>ChemBERTa_zinc250k_v2_40k_mean</td>\n      <td>BACE</td>\n      <td>5ozkbcsr</td>\n      <td>768</td>\n    </tr>\n    <tr>\n      <th>43</th>\n      <td>ChemBERTa_zinc250k_v2_40k_mean</td>\n      <td>BACE</td>\n      <td>g0b6v1ih</td>\n      <td>768</td>\n    </tr>\n    <tr>\n      <th>44</th>\n      <td>ChemBERTa_zinc250k_v2_40k_mean</td>\n      <td>BACE</td>\n      <td>eug32e2o</td>\n      <td>768</td>\n    </tr>\n    <tr>\n      <th>45</th>\n      <td>ChemBERTa_zinc250k_v2_40k_mean</td>\n      <td>BACE</td>\n      <td>d8a8uecz</td>\n      <td>768</td>\n    </tr>\n    <tr>\n      <th>46</th>\n      <td>AtomPairs2DFingerprintCount</td>\n      <td>BACE</td>\n      <td>ikh0c4ws</td>\n      <td>780</td>\n    </tr>\n    <tr>\n      <th>47</th>\n      <td>AtomPairs2DFingerprintCount</td>\n      <td>BACE</td>\n      <td>7rohmeby</td>\n      <td>780</td>\n    </tr>\n    <tr>\n      <th>48</th>\n      <td>AtomPairs2DFingerprintCount</td>\n      <td>BACE</td>\n      <td>2kuqv12g</td>\n      <td>780</td>\n    </tr>\n    <tr>\n      <th>49</th>\n      <td>AtomPairs2DFingerprintCount</td>\n      <td>BACE</td>\n      <td>7w41o4oa</td>\n      <td>780</td>\n    </tr>\n    <tr>\n      <th>50</th>\n      <td>AtomPairs2DFingerprintCount</td>\n      <td>BACE</td>\n      <td>l61e8r0k</td>\n      <td>780</td>\n    </tr>\n  </tbody>\n</table>\n</div>"
     },
     "execution_count": 16,
     "metadata": {},
     "output_type": "execute_result"
    }
   ],
   "source": [
    "run_info"
   ],
   "metadata": {
    "collapsed": false,
    "ExecuteTime": {
     "end_time": "2024-03-11T14:06:46.095067126Z",
     "start_time": "2024-03-11T14:06:46.046627833Z"
    }
   },
   "id": "d7f499cf8d886e3e",
   "execution_count": 16
  },
  {
   "cell_type": "code",
   "outputs": [],
   "source": [],
   "metadata": {
    "collapsed": false
   },
   "id": "f620d242bd0bf50a"
  }
 ],
 "metadata": {
  "kernelspec": {
   "display_name": "Python 3",
   "language": "python",
   "name": "python3"
  },
  "language_info": {
   "codemirror_mode": {
    "name": "ipython",
    "version": 2
   },
   "file_extension": ".py",
   "mimetype": "text/x-python",
   "name": "python",
   "nbconvert_exporter": "python",
   "pygments_lexer": "ipython2",
   "version": "2.7.6"
  }
 },
 "nbformat": 4,
 "nbformat_minor": 5
}
