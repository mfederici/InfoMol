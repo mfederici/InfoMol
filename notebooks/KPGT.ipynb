{
 "cells": [
  {
   "cell_type": "code",
   "outputs": [
    {
     "name": "stderr",
     "output_type": "stream",
     "text": [
      "/home/marco/anaconda3/envs/InfoMol/lib/python3.9/site-packages/torch_geometric/typing.py:47: UserWarning: An issue occurred while importing 'pyg-lib'. Disabling its usage. Stacktrace: /lib/x86_64-linux-gnu/libm.so.6: version `GLIBC_2.29' not found (required by /home/marco/anaconda3/envs/InfoMol/lib/python3.9/site-packages/libpyg.so)\n",
      "  warnings.warn(f\"An issue occurred while importing 'pyg-lib'. \"\n",
      "/home/marco/anaconda3/envs/InfoMol/lib/python3.9/site-packages/torch_geometric/typing.py:101: UserWarning: An issue occurred while importing 'torch-sparse'. Disabling its usage. Stacktrace: /lib/x86_64-linux-gnu/libm.so.6: version `GLIBC_2.29' not found (required by /home/marco/anaconda3/envs/InfoMol/lib/python3.9/site-packages/libpyg.so)\n",
      "  warnings.warn(f\"An issue occurred while importing 'torch-sparse'. \"\n",
      "/home/marco/anaconda3/envs/InfoMol/lib/python3.9/site-packages/tqdm/auto.py:21: TqdmWarning: IProgress not found. Please update jupyter and ipywidgets. See https://ipywidgets.readthedocs.io/en/stable/user_install.html\n",
      "  from .autonotebook import tqdm as notebook_tqdm\n"
     ]
    }
   ],
   "source": [
    "from rdkit import Chem\n",
    "from datasets import FishTox\n",
    "\n",
    "dataset = FishTox('/data')\n",
    "smiles = dataset.smiles\n"
   ],
   "metadata": {
    "collapsed": false,
    "ExecuteTime": {
     "end_time": "2024-02-29T14:13:10.899727253Z",
     "start_time": "2024-02-29T14:13:08.528058699Z"
    }
   },
   "id": "6f386071954d854e",
   "execution_count": 1
  },
  {
   "cell_type": "code",
   "outputs": [
    {
     "name": "stderr",
     "output_type": "stream",
     "text": [
      "/home/marco/anaconda3/envs/InfoMol/lib/python3.9/site-packages/tqdm/auto.py:21: TqdmWarning: IProgress not found. Please update jupyter and ipywidgets. See https://ipywidgets.readthedocs.io/en/stable/user_install.html\n",
      "  from .autonotebook import tqdm as notebook_tqdm\n",
      "/home/marco/anaconda3/envs/InfoMol/lib/python3.9/site-packages/torch_geometric/typing.py:47: UserWarning: An issue occurred while importing 'pyg-lib'. Disabling its usage. Stacktrace: /lib/x86_64-linux-gnu/libm.so.6: version `GLIBC_2.29' not found (required by /home/marco/anaconda3/envs/InfoMol/lib/python3.9/site-packages/libpyg.so)\n",
      "  warnings.warn(f\"An issue occurred while importing 'pyg-lib'. \"\n",
      "/home/marco/anaconda3/envs/InfoMol/lib/python3.9/site-packages/torch_geometric/typing.py:101: UserWarning: An issue occurred while importing 'torch-sparse'. Disabling its usage. Stacktrace: /lib/x86_64-linux-gnu/libm.so.6: version `GLIBC_2.29' not found (required by /home/marco/anaconda3/envs/InfoMol/lib/python3.9/site-packages/libpyg.so)\n",
      "  warnings.warn(f\"An issue occurred while importing 'torch-sparse'. \"\n"
     ]
    },
    {
     "name": "stdout",
     "output_type": "stream",
     "text": [
      "Instantiating the model.\n",
      "Instantiating the LiGhT transformer.\n",
      "Loading the weights from /home/marco/Documents/InfoMol/KPGT/model/base.pth.\n"
     ]
    }
   ],
   "source": [
    "from encoder import KPGTEncoder\n",
    "\n",
    "encoder = KPGTEncoder(verbose=True)"
   ],
   "metadata": {
    "collapsed": false,
    "ExecuteTime": {
     "end_time": "2024-02-29T14:12:40.191520510Z",
     "start_time": "2024-02-29T14:12:35.701178414Z"
    }
   },
   "id": "9e28fe814fc0bca4",
   "execution_count": 4
  },
  {
   "cell_type": "code",
   "outputs": [
    {
     "name": "stderr",
     "output_type": "stream",
     "text": [
      "100%|██████████| 10/10 [00:01<00:00,  7.95it/s]\n"
     ]
    },
    {
     "data": {
      "text/plain": "array([[-1.0110782 ,  1.00954   , -1.8167145 , ..., -2.5774841 ,\n         0.05610704, -0.29041302],\n       [ 0.47611442, -1.0293853 , -0.8827675 , ..., -0.70951074,\n        -2.9408808 ,  1.2040155 ],\n       [ 0.8174975 , -1.886406  , -1.6213434 , ..., -0.853308  ,\n        -2.485643  ,  0.63166   ],\n       ...,\n       [-2.5447195 ,  2.7243295 ,  0.8932501 , ...,  0.01272453,\n        -3.8188992 ,  1.6454501 ],\n       [-0.06776428,  3.4346304 , -0.1998607 , ...,  0.5340105 ,\n        -3.8123994 ,  0.04437614],\n       [-4.051842  , -1.1328802 , -0.46681842, ...,  0.799869  ,\n        -4.9121065 ,  2.3213289 ]], dtype=float32)"
     },
     "execution_count": 7,
     "metadata": {},
     "output_type": "execute_result"
    }
   ],
   "source": [
    "encoder(smiles)"
   ],
   "metadata": {
    "collapsed": false,
    "ExecuteTime": {
     "end_time": "2024-02-29T14:12:50.696646345Z",
     "start_time": "2024-02-29T14:12:49.389658688Z"
    }
   },
   "id": "4e0338c1748c4d4d",
   "execution_count": 7
  },
  {
   "cell_type": "code",
   "outputs": [
    {
     "data": {
      "text/plain": "<All keys matched successfully>"
     },
     "execution_count": 1,
     "metadata": {},
     "output_type": "execute_result"
    }
   ],
   "source": [
    "import os\n",
    "import sys\n",
    "__file__='/home/marco/Documents/InfoMol/notebooks/KPGT.ipynb'\n",
    "\n",
    "import scipy.stats\n",
    "\n",
    "module_path = os.path.abspath(os.path.join('/'.join(__file__.split('/')[:-1]), '..', 'KPGT'))\n",
    "sys.path.insert(0, module_path)\n",
    "\n",
    "from src.model.light import LiGhTPredictor as LiGhT\n",
    "from src.model_config import config_dict\n",
    "from src.data.finetune_dataset import MoleculeDataset\n",
    "from src.data.featurizer import Vocab, N_ATOM_TYPES, N_BOND_TYPES\n",
    "import torch\n",
    "\n",
    "\n",
    "# Model Initialization\n",
    "vocab = Vocab(N_ATOM_TYPES, N_BOND_TYPES)\n",
    "config = config_dict['base']\n",
    "model_path = '../model/base.pth'\n",
    "model = LiGhT(\n",
    "    d_node_feats=config['d_node_feats'],\n",
    "    d_edge_feats=config['d_edge_feats'],\n",
    "    d_g_feats=config['d_g_feats'],\n",
    "    d_hpath_ratio=config['d_hpath_ratio'],\n",
    "    n_mol_layers=config['n_mol_layers'],\n",
    "    path_length=config['path_length'],\n",
    "    n_heads=config['n_heads'],\n",
    "    n_ffn_dense_layers=config['n_ffn_dense_layers'],\n",
    "    input_drop=0,\n",
    "    attn_drop=0,\n",
    "    feat_drop=0,\n",
    "    n_node_types=vocab.vocab_size\n",
    "    )\n",
    "model.load_state_dict({k.replace('module.',''):v for k,v in torch.load(model_path).items()})\n"
   ],
   "metadata": {
    "collapsed": false,
    "ExecuteTime": {
     "end_time": "2024-02-29T14:12:03.795412924Z",
     "start_time": "2024-02-29T14:11:58.098591269Z"
    }
   },
   "id": "c5a4d3f38b822cce",
   "execution_count": 1
  },
  {
   "cell_type": "code",
   "outputs": [
    {
     "name": "stderr",
     "output_type": "stream",
     "text": [
      "WARNING:root:No normalization for SPS\n",
      "WARNING:root:No normalization for BCUT2D_MWHI\n",
      "WARNING:root:No normalization for BCUT2D_MWLOW\n",
      "WARNING:root:No normalization for BCUT2D_CHGHI\n",
      "WARNING:root:No normalization for BCUT2D_CHGLO\n",
      "WARNING:root:No normalization for BCUT2D_LOGPHI\n",
      "WARNING:root:No normalization for BCUT2D_LOGPLOW\n",
      "WARNING:root:No normalization for BCUT2D_MRHI\n",
      "WARNING:root:No normalization for BCUT2D_MRLOW\n",
      "WARNING:root:No normalization for AvgIpc\n"
     ]
    },
    {
     "ename": "NameError",
     "evalue": "name 'smiles' is not defined",
     "output_type": "error",
     "traceback": [
      "\u001B[0;31m---------------------------------------------------------------------------\u001B[0m",
      "\u001B[0;31mNameError\u001B[0m                                 Traceback (most recent call last)",
      "Cell \u001B[0;32mIn[2], line 6\u001B[0m\n\u001B[1;32m      2\u001B[0m \u001B[38;5;28;01mfrom\u001B[39;00m \u001B[38;5;21;01msrc\u001B[39;00m\u001B[38;5;21;01m.\u001B[39;00m\u001B[38;5;21;01mdata\u001B[39;00m\u001B[38;5;21;01m.\u001B[39;00m\u001B[38;5;21;01mdescriptors\u001B[39;00m\u001B[38;5;21;01m.\u001B[39;00m\u001B[38;5;21;01mrdNormalizedDescriptors\u001B[39;00m \u001B[38;5;28;01mimport\u001B[39;00m RDKit2DNormalized\n\u001B[1;32m      3\u001B[0m \u001B[38;5;28;01mfrom\u001B[39;00m \u001B[38;5;21;01msrc\u001B[39;00m\u001B[38;5;21;01m.\u001B[39;00m\u001B[38;5;21;01mdata\u001B[39;00m\u001B[38;5;21;01m.\u001B[39;00m\u001B[38;5;21;01mfeaturizer\u001B[39;00m \u001B[38;5;28;01mimport\u001B[39;00m smiles_to_graph_tune\n\u001B[0;32m----> 6\u001B[0m smile \u001B[38;5;241m=\u001B[39m \u001B[43msmiles\u001B[49m[\u001B[38;5;241m0\u001B[39m]\n\u001B[1;32m      8\u001B[0m generator \u001B[38;5;241m=\u001B[39m RDKit2DNormalized()\n\u001B[1;32m      9\u001B[0m md \u001B[38;5;241m=\u001B[39m torch\u001B[38;5;241m.\u001B[39mTensor(generator\u001B[38;5;241m.\u001B[39mprocess(smile)[\u001B[38;5;241m1\u001B[39m:])\u001B[38;5;241m.\u001B[39mreshape(\u001B[38;5;241m1\u001B[39m,\u001B[38;5;241m-\u001B[39m\u001B[38;5;241m1\u001B[39m)\n",
      "\u001B[0;31mNameError\u001B[0m: name 'smiles' is not defined"
     ]
    }
   ],
   "source": [
    "import numpy as np\n",
    "from src.data.descriptors.rdNormalizedDescriptors import RDKit2DNormalized\n",
    "from src.data.featurizer import smiles_to_graph_tune\n",
    "\n",
    "\n",
    "smile = smiles[0]\n",
    "\n",
    "generator = RDKit2DNormalized()\n",
    "md = torch.Tensor(generator.process(smile)[1:]).reshape(1,-1)\n",
    "\n",
    "mol = Chem.MolFromSmiles(smile)\n",
    "fp = torch.Tensor(Chem.RDKFingerprint(mol, minPath=1, maxPath=7, fpSize=512)).reshape(1,-1)\n",
    "\n",
    "graph = smiles_to_graph_tune(\n",
    "    smile,\n",
    "    max_length=config['path_length'],\n",
    "    n_virtual_nodes=2\n",
    ") \n",
    "model.eval()\n",
    "\n",
    "rep = model.generate_fps(graph, fp, md)\n",
    "rep.shape"
   ],
   "metadata": {
    "collapsed": false,
    "ExecuteTime": {
     "end_time": "2024-02-29T14:12:04.978351317Z",
     "start_time": "2024-02-29T14:12:04.818822349Z"
    }
   },
   "id": "1aa54e55da869375",
   "execution_count": 2
  },
  {
   "cell_type": "code",
   "outputs": [],
   "source": [
    "from src.data.collator import Collator_tune\n",
    "\n",
    "collator = Collator_tune(config['path_length'])"
   ],
   "metadata": {
    "collapsed": false,
    "ExecuteTime": {
     "start_time": "2024-02-29T14:08:56.310804118Z"
    }
   },
   "id": "5001ab92b4bb7484",
   "execution_count": null
  },
  {
   "cell_type": "code",
   "outputs": [],
   "source": [
    "import dgl\n",
    "batched_graph = dgl.batch(graphs)"
   ],
   "metadata": {
    "collapsed": false,
    "ExecuteTime": {
     "start_time": "2024-02-29T14:08:56.310921202Z"
    }
   },
   "id": "5232e6e6ae991bda",
   "execution_count": null
  },
  {
   "cell_type": "code",
   "outputs": [],
   "source": [
    "scipy.stats.gilbrat"
   ],
   "metadata": {
    "collapsed": false,
    "ExecuteTime": {
     "start_time": "2024-02-29T14:08:56.311023296Z"
    }
   },
   "id": "525c3fe9780f0e4a",
   "execution_count": null
  },
  {
   "cell_type": "code",
   "outputs": [],
   "source": [
    "fps = model.generate_fps(graphs[0], fp[0], md[0])"
   ],
   "metadata": {
    "collapsed": false,
    "ExecuteTime": {
     "start_time": "2024-02-29T14:08:56.311093359Z"
    }
   },
   "id": "d34ba6650e077be5",
   "execution_count": null
  },
  {
   "cell_type": "code",
   "outputs": [],
   "source": [
    "fps.shape"
   ],
   "metadata": {
    "collapsed": false,
    "ExecuteTime": {
     "start_time": "2024-02-29T14:08:56.311158074Z"
    }
   },
   "id": "265458c8a0497b43",
   "execution_count": null
  },
  {
   "cell_type": "code",
   "outputs": [],
   "source": [
    "config['d_g_feats']*3"
   ],
   "metadata": {
    "collapsed": false,
    "ExecuteTime": {
     "end_time": "2024-02-29T14:08:56.312126275Z",
     "start_time": "2024-02-29T14:08:56.311239453Z"
    }
   },
   "id": "8d05a5545b5e2fd",
   "execution_count": null
  },
  {
   "cell_type": "code",
   "outputs": [],
   "source": [],
   "metadata": {
    "collapsed": false,
    "ExecuteTime": {
     "start_time": "2024-02-29T14:08:56.311305479Z"
    }
   },
   "id": "3d3cc3688488ef1f",
   "execution_count": null
  },
  {
   "cell_type": "code",
   "outputs": [],
   "source": [],
   "metadata": {
    "collapsed": false,
    "ExecuteTime": {
     "start_time": "2024-02-29T14:08:56.311370700Z"
    }
   },
   "id": "87dfe1a829541ea2"
  }
 ],
 "metadata": {
  "kernelspec": {
   "display_name": "Python 3",
   "language": "python",
   "name": "python3"
  },
  "language_info": {
   "codemirror_mode": {
    "name": "ipython",
    "version": 2
   },
   "file_extension": ".py",
   "mimetype": "text/x-python",
   "name": "python",
   "nbconvert_exporter": "python",
   "pygments_lexer": "ipython2",
   "version": "2.7.6"
  }
 },
 "nbformat": 4,
 "nbformat_minor": 5
}
